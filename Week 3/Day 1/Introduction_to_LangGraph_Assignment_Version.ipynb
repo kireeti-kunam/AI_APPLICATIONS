{
  "cells": [
    {
      "cell_type": "markdown",
      "metadata": {
        "id": "gJXW_DgiSebM"
      },
      "source": [
        "# LangGraph and LangSmith - Agentic RAG Powered by LangChain\n",
        "\n",
        "In the following notebook we'll complete the following tasks:\n",
        "\n",
        "- 🤝 Breakout Room #1:\n",
        "  1. Install required libraries\n",
        "  2. Set Environment Variables\n",
        "  3. Creating our Tool Belt\n",
        "  4. Creating Our State\n",
        "  5. Creating and Compiling A Graph!\n",
        "\n",
        "  - 🤝 Breakout Room #2:\n",
        "  1. Evaluating the LangGraph Application with LangSmith\n",
        "  2. Adding Helpfulness Check and \"Loop\" Limits\n",
        "  3. LangGraph for the \"Patterns\" of GenAI"
      ]
    },
    {
      "cell_type": "markdown",
      "metadata": {
        "id": "djQ3nRAgoF67"
      },
      "source": [
        "# 🤝 Breakout Room #1"
      ]
    },
    {
      "cell_type": "markdown",
      "metadata": {
        "id": "e7pQDUhUnIo8"
      },
      "source": [
        "## Part 1: LangGraph - Building Cyclic Applications with LangChain\n",
        "\n",
        "LangGraph is a tool that leverages LangChain Expression Language to build coordinated multi-actor and stateful applications that includes cyclic behaviour.\n",
        "\n",
        "### Why Cycles?\n",
        "\n",
        "In essence, we can think of a cycle in our graph as a more robust and customizable loop. It allows us to keep our application agent-forward while still giving the powerful functionality of traditional loops.\n",
        "\n",
        "Due to the inclusion of cycles over loops, we can also compose rather complex flows through our graph in a much more readable and natural fashion. Effectively allowing us to recreate application flowcharts in code in an almost 1-to-1 fashion.\n",
        "\n",
        "### Why LangGraph?\n",
        "\n",
        "Beyond the agent-forward approach - we can easily compose and combine traditional \"DAG\" (directed acyclic graph) chains with powerful cyclic behaviour due to the tight integration with LCEL. This means it's a natural extension to LangChain's core offerings!"
      ]
    },
    {
      "cell_type": "markdown",
      "metadata": {
        "id": "3_fLDElOVoop"
      },
      "source": [
        "## Task 1:  Dependencies\n",
        "\n",
        "We'll first install all our required libraries."
      ]
    },
    {
      "cell_type": "code",
      "execution_count": 1,
      "metadata": {
        "id": "KaVwN269EttM"
      },
      "outputs": [
        {
          "name": "stdout",
          "output_type": "stream",
          "text": [
            "\u001b[31mERROR: pip's dependency resolver does not currently take into account all the packages that are installed. This behaviour is the source of the following dependency conflicts.\n",
            "google-api-core 2.15.0 requires protobuf!=3.20.0,!=3.20.1,!=4.21.0,!=4.21.1,!=4.21.2,!=4.21.3,!=4.21.4,!=4.21.5,<5.0.0.dev0,>=3.19.5, but you have protobuf 5.27.4 which is incompatible.\u001b[0m\u001b[31m\n",
            "\u001b[0m"
          ]
        }
      ],
      "source": [
        "!pip install -qU langchain langchain_openai langchain-community langgraph arxiv duckduckgo_search==5.3.1b1"
      ]
    },
    {
      "cell_type": "markdown",
      "metadata": {
        "id": "wujPjGJuoPwg"
      },
      "source": [
        "## Task 2: Environment Variables\n",
        "\n",
        "We'll want to set both our OpenAI API key and our LangSmith environment variables."
      ]
    },
    {
      "cell_type": "code",
      "execution_count": null,
      "metadata": {
        "colab": {
          "base_uri": "https://localhost:8080/"
        },
        "id": "Jdh8CoVWHRvs",
        "outputId": "42b2ba5e-11ae-4f4d-e68e-77607bb794ad"
      },
      "outputs": [
        {
          "name": "stdout",
          "output_type": "stream",
          "text": [
            "OpenAI API Key:··········\n"
          ]
        }
      ],
      "source": [
        "import os\n",
        "import getpass\n",
        "\n",
        "os.environ[\"OPENAI_API_KEY\"] = getpass.getpass(\"OpenAI API Key:\")"
      ]
    },
    {
      "cell_type": "code",
      "execution_count": 5,
      "metadata": {
        "colab": {
          "base_uri": "https://localhost:8080/"
        },
        "id": "Nv0glIDyHmRt",
        "outputId": "30aa2260-50f1-4abf-b305-eed0ee1b9008"
      },
      "outputs": [],
      "source": [
        "from uuid import uuid4\n",
        "\n",
        "os.environ[\"LANGCHAIN_TRACING_V2\"] = \"true\"\n",
        "os.environ[\"LANGCHAIN_PROJECT\"] = f\"AIE4 - LangGraph - {uuid4().hex[0:8]}\"\n",
        "os.environ[\"LANGCHAIN_API_KEY\"] = getpass.getpass(\"LangSmith API Key: \")"
      ]
    },
    {
      "cell_type": "markdown",
      "metadata": {
        "id": "sBRyQmEAVzua"
      },
      "source": [
        "## Task 3: Creating our Tool Belt\n",
        "\n",
        "As is usually the case, we'll want to equip our agent with a toolbelt to help answer questions and add external knowledge.\n",
        "\n",
        "There's a tonne of tools in the [LangChain Community Repo](https://github.com/langchain-ai/langchain/tree/master/libs/community/langchain_community/tools) but we'll stick to a couple just so we can observe the cyclic nature of LangGraph in action!\n",
        "\n",
        "We'll leverage:\n",
        "\n",
        "- [Duck Duck Go Web Search](https://github.com/langchain-ai/langchain/tree/master/libs/community/langchain_community/tools/ddg_search)\n",
        "- [Arxiv](https://github.com/langchain-ai/langchain/tree/master/libs/community/langchain_community/tools/arxiv)"
      ]
    },
    {
      "cell_type": "markdown",
      "metadata": {
        "id": "2k6n_Dob2F46"
      },
      "source": [
        "####🏗️ Activity #1:\n",
        "\n",
        "Please add the tools to use into our toolbelt.\n",
        "\n",
        "> NOTE: Each tool in our toolbelt should be a method."
      ]
    },
    {
      "cell_type": "code",
      "execution_count": 18,
      "metadata": {
        "id": "lAxaSvlfIeOg"
      },
      "outputs": [],
      "source": [
        "from langchain_community.tools.ddg_search import DuckDuckGoSearchRun\n",
        "from langchain_community.tools.arxiv.tool import ArxivQueryRun\n",
        "\n",
        "web_search = DuckDuckGoSearchRun()\n",
        "research_search = ArxivQueryRun()\n",
        "\n",
        "tool_belt = [   \n",
        "    web_search,\n",
        "    research_search\n",
        "]"
      ]
    },
    {
      "cell_type": "markdown",
      "metadata": {
        "id": "VI-C669ZYVI5"
      },
      "source": [
        "### Model\n",
        "\n",
        "Now we can set-up our model! We'll leverage the familiar OpenAI model suite for this example - but it's not *necessary* to use with LangGraph. LangGraph supports all models - though you might not find success with smaller models - as such, they recommend you stick with:\n",
        "\n",
        "- OpenAI's GPT-3.5 and GPT-4\n",
        "- Anthropic's Claude\n",
        "- Google's Gemini\n",
        "\n",
        "> NOTE: Because we're leveraging the OpenAI function calling API - we'll need to use OpenAI *for this specific example* (or any other service that exposes an OpenAI-style function calling API."
      ]
    },
    {
      "cell_type": "code",
      "execution_count": 19,
      "metadata": {
        "id": "QkNS8rNZJs4z"
      },
      "outputs": [],
      "source": [
        "from langchain_openai import ChatOpenAI\n",
        "\n",
        "model = ChatOpenAI(model=\"gpt-4o\", temperature=0)"
      ]
    },
    {
      "cell_type": "markdown",
      "metadata": {
        "id": "Ugkj3GzuZpQv"
      },
      "source": [
        "Now that we have our model set-up, let's \"put on the tool belt\", which is to say: We'll bind our LangChain formatted tools to the model in an OpenAI function calling format."
      ]
    },
    {
      "cell_type": "code",
      "execution_count": 20,
      "metadata": {
        "id": "4OdMqFafZ_0V"
      },
      "outputs": [],
      "source": [
        "model = model.bind_tools(tool_belt)"
      ]
    },
    {
      "cell_type": "markdown",
      "metadata": {
        "id": "ERzuGo6W18Lr"
      },
      "source": [
        "#### ❓ Question #1:\n",
        "\n",
        "How does the model determine which tool to use?"
      ]
    },
    {
      "cell_type": "markdown",
      "metadata": {},
      "source": [
        "##### Answer:\n",
        "- The gpt-4o model (LLM) decides which tool to use by analyzing the user's input and determining which tool is best suited to fulfill the request by iterating through all the available tools.\n",
        "    - Reference: https://platform.openai.com/docs/guides/function-calling/if-the-model-generated-a-function-call\n",
        "\n",
        "    - Reference: https://langchain-ai.github.io/langgraph/concepts/agentic_concepts/\n",
        "\n",
        "- Example 1: If the model decides there is no need to call a tool, it will respond like this:\n",
        "    - chat.completionsMessage(content='Hi there! I can help with that. Can you please provide your order ID?', role='assistant', function_call=None, tool_calls=None)\n",
        "\n",
        "- Example 2: If the model decides there is a need to call a tool, it will respond like this:\n",
        "    - tool_calls=[\n",
        "    chat.completionsMessageToolCall(\n",
        "        id='call_62136354', \n",
        "        function=Function(\n",
        "            arguments='{\"order_id\":\"order_12345\"}', \n",
        "            name='get_delivery_date'), \n",
        "        type='function')\n",
        "]\n",
        "\n",
        "\n",
        "\n",
        "\n"
      ]
    },
    {
      "cell_type": "markdown",
      "metadata": {
        "id": "_296Ub96Z_H8"
      },
      "source": [
        "## Task 4: Putting the State in Stateful\n",
        "\n",
        "Earlier we used this phrasing:\n",
        "\n",
        "`coordinated multi-actor and stateful applications`\n",
        "\n",
        "So what does that \"stateful\" mean?\n",
        "\n",
        "To put it simply - we want to have some kind of object which we can pass around our application that holds information about what the current situation (state) is. Since our system will be constructed of many parts moving in a coordinated fashion - we want to be able to ensure we have some commonly understood idea of that state.\n",
        "\n",
        "LangGraph leverages a `StatefulGraph` which uses an `AgentState` object to pass information between the various nodes of the graph.\n",
        "\n",
        "There are more options than what we'll see below - but this `AgentState` object is one that is stored in a `TypedDict` with the key `messages` and the value is a `Sequence` of `BaseMessages` that will be appended to whenever the state changes.\n",
        "\n",
        "Let's think about a simple example to help understand exactly what this means (we'll simplify a great deal to try and clearly communicate what state is doing):\n",
        "\n",
        "1. We initialize our state object:\n",
        "  - `{\"messages\" : []}`\n",
        "2. Our user submits a query to our application.\n",
        "  - New State: `HumanMessage(#1)`\n",
        "  - `{\"messages\" : [HumanMessage(#1)}`\n",
        "3. We pass our state object to an Agent node which is able to read the current state. It will use the last `HumanMessage` as input. It gets some kind of output which it will add to the state.\n",
        "  - New State: `AgentMessage(#1, additional_kwargs {\"function_call\" : \"WebSearchTool\"})`\n",
        "  - `{\"messages\" : [HumanMessage(#1), AgentMessage(#1, ...)]}`\n",
        "4. We pass our state object to a \"conditional node\" (more on this later) which reads the last state to determine if we need to use a tool - which it can determine properly because of our provided object!"
      ]
    },
    {
      "cell_type": "code",
      "execution_count": 21,
      "metadata": {
        "id": "mxL9b_NZKUdL"
      },
      "outputs": [],
      "source": [
        "from typing import TypedDict, Annotated\n",
        "from langgraph.graph.message import add_messages\n",
        "import operator\n",
        "from langchain_core.messages import BaseMessage\n",
        "\n",
        "class AgentState(TypedDict):\n",
        "  messages: Annotated[list, add_messages]"
      ]
    },
    {
      "cell_type": "markdown",
      "metadata": {
        "id": "vWsMhfO9grLu"
      },
      "source": [
        "## Task 5: It's Graphing Time!\n",
        "\n",
        "Now that we have state, and we have tools, and we have an LLM - we can finally start making our graph!\n",
        "\n",
        "Let's take a second to refresh ourselves about what a graph is in this context.\n",
        "\n",
        "Graphs, also called networks in some circles, are a collection of connected objects.\n",
        "\n",
        "The objects in question are typically called nodes, or vertices, and the connections are called edges.\n",
        "\n",
        "Let's look at a simple graph.\n",
        "\n",
        "![image](https://i.imgur.com/2NFLnIc.png)\n",
        "\n",
        "Here, we're using the coloured circles to represent the nodes and the yellow lines to represent the edges. In this case, we're looking at a fully connected graph - where each node is connected by an edge to each other node.\n",
        "\n",
        "If we were to think about nodes in the context of LangGraph - we would think of a function, or an LCEL runnable.\n",
        "\n",
        "If we were to think about edges in the context of LangGraph - we might think of them as \"paths to take\" or \"where to pass our state object next\".\n",
        "\n",
        "Let's create some nodes and expand on our diagram.\n",
        "\n",
        "> NOTE: Due to the tight integration with LCEL - we can comfortably create our nodes in an async fashion!"
      ]
    },
    {
      "cell_type": "code",
      "execution_count": 22,
      "metadata": {
        "id": "91flJWtZLUrl"
      },
      "outputs": [],
      "source": [
        "from langgraph.prebuilt import ToolNode\n",
        "\n",
        "def call_model(state):\n",
        "  messages = state[\"messages\"]\n",
        "  response = model.invoke(messages)\n",
        "  return {\"messages\" : [response]}\n",
        "\n",
        "tool_node = ToolNode(tool_belt)"
      ]
    },
    {
      "cell_type": "markdown",
      "metadata": {
        "id": "2bwR7MgWj3Wg"
      },
      "source": [
        "Now we have two total nodes. We have:\n",
        "\n",
        "- `call_model` is a node that will...well...call the model\n",
        "- `tool_node` is a node which can call a tool\n",
        "\n",
        "Let's start adding nodes! We'll update our diagram along the way to keep track of what this looks like!\n"
      ]
    },
    {
      "cell_type": "code",
      "execution_count": 23,
      "metadata": {
        "id": "_vF4_lgtmQNo"
      },
      "outputs": [],
      "source": [
        "from langgraph.graph import StateGraph, END\n",
        "\n",
        "uncompiled_graph = StateGraph(AgentState)\n",
        "\n",
        "uncompiled_graph.add_node(\"agent\", call_model)\n",
        "uncompiled_graph.add_node(\"action\", tool_node)"
      ]
    },
    {
      "cell_type": "markdown",
      "metadata": {
        "id": "b8CjRlbVmRpW"
      },
      "source": [
        "Let's look at what we have so far:\n",
        "\n",
        "![image](https://i.imgur.com/md7inqG.png)"
      ]
    },
    {
      "cell_type": "markdown",
      "metadata": {
        "id": "uaXHpPeSnOWC"
      },
      "source": [
        "Next, we'll add our entrypoint. All our entrypoint does is indicate which node is called first."
      ]
    },
    {
      "cell_type": "code",
      "execution_count": 24,
      "metadata": {
        "id": "YGCbaYqRnmiw"
      },
      "outputs": [],
      "source": [
        "uncompiled_graph.set_entry_point(\"agent\")"
      ]
    },
    {
      "cell_type": "markdown",
      "metadata": {
        "id": "BUsfGoSpoF9U"
      },
      "source": [
        "![image](https://i.imgur.com/wNixpJe.png)"
      ]
    },
    {
      "cell_type": "markdown",
      "metadata": {
        "id": "0Q_pQgHmoW0M"
      },
      "source": [
        "Now we want to build a \"conditional edge\" which will use the output state of a node to determine which path to follow.\n",
        "\n",
        "We can help conceptualize this by thinking of our conditional edge as a conditional in a flowchart!\n",
        "\n",
        "Notice how our function simply checks if there is a \"function_call\" kwarg present.\n",
        "\n",
        "Then we create an edge where the origin node is our agent node and our destination node is *either* the action node or the END (finish the graph).\n",
        "\n",
        "It's important to highlight that the dictionary passed in as the third parameter (the mapping) should be created with the possible outputs of our conditional function in mind. In this case `should_continue` outputs either `\"end\"` or `\"continue\"` which are subsequently mapped to the action node or the END node."
      ]
    },
    {
      "cell_type": "code",
      "execution_count": 25,
      "metadata": {
        "id": "1BZgb81VQf9o"
      },
      "outputs": [],
      "source": [
        "def should_continue(state):\n",
        "  last_message = state[\"messages\"][-1]\n",
        "\n",
        "  if last_message.tool_calls:\n",
        "    return \"action\"\n",
        "\n",
        "  return END\n",
        "\n",
        "uncompiled_graph.add_conditional_edges(\n",
        "    \"agent\",\n",
        "    should_continue\n",
        ")"
      ]
    },
    {
      "cell_type": "markdown",
      "metadata": {
        "id": "-Cvhcf4jp0Ce"
      },
      "source": [
        "Let's visualize what this looks like.\n",
        "\n",
        "![image](https://i.imgur.com/8ZNwKI5.png)"
      ]
    },
    {
      "cell_type": "markdown",
      "metadata": {
        "id": "yKCjWJCkrJb9"
      },
      "source": [
        "Finally, we can add our last edge which will connect our action node to our agent node. This is because we *always* want our action node (which is used to call our tools) to return its output to our agent!"
      ]
    },
    {
      "cell_type": "code",
      "execution_count": 26,
      "metadata": {
        "id": "UvcgbHf1rIXZ"
      },
      "outputs": [],
      "source": [
        "uncompiled_graph.add_edge(\"action\", \"agent\")"
      ]
    },
    {
      "cell_type": "markdown",
      "metadata": {
        "id": "EiWDwBQtrw7Z"
      },
      "source": [
        "Let's look at the final visualization.\n",
        "\n",
        "![image](https://i.imgur.com/NWO7usO.png)"
      ]
    },
    {
      "cell_type": "markdown",
      "metadata": {
        "id": "KYqDpErlsCsu"
      },
      "source": [
        "All that's left to do now is to compile our workflow - and we're off!"
      ]
    },
    {
      "cell_type": "code",
      "execution_count": 28,
      "metadata": {
        "id": "zt9-KS8DpzNx"
      },
      "outputs": [],
      "source": [
        "compiled_graph = uncompiled_graph.compile()"
      ]
    },
    {
      "cell_type": "markdown",
      "metadata": {
        "id": "xhNWIwBL1W4Q"
      },
      "source": [
        "#### ❓ Question #2:\n",
        "\n",
        "Is there any specific limit to how many times we can cycle?\n",
        "\n",
        "If not, how could we impose a limit to the number of cycles?"
      ]
    },
    {
      "cell_type": "markdown",
      "metadata": {},
      "source": [
        "##### Answer:\n",
        "- In the above code we don't have any limit on no.of times the cycle can execute\n",
        "- We can set the counter variable with in the state object of the Agent, and for every update (with in the call_model function) we increment the counter value and for every function call of the should_continue we will verify the counter value is less than the define value of the max cycle count.\n",
        "\n",
        "REF: https://github.com/langchain-ai/langchain/discussions/20258#discussioncomment-10123202\n",
        "\n",
        "Ex: \n",
        "    \n",
        "    MAX_CYCLES = 5  # max no.of cycles to be allowed in the cycle\n",
        "\n",
        "    class AgentState(TypedDict):\n",
        "        messages: Annotated[list, add_messages]\n",
        "        cycle_count: int  # Track the number of cycles\n",
        "    def call_model(state):\n",
        "        messages = state[\"messages\"]\n",
        "        response = model.invoke(messages)\n",
        "        state[\"cycle_count\"] += 1  # Increment cycle count\n",
        "        return {\"messages\": [response]}\n",
        "    def should_continue(state):\n",
        "        last_message = state[\"messages\"][-1]\n",
        "        \n",
        "        # Stop if the cycle limit is reached\n",
        "        if state[\"cycle_count\"] >= MAX_CYCLES:\n",
        "            return END\n",
        "        \n",
        "        # Continue if there's a tool call in the last message\n",
        "        if last_message.tool_calls:\n",
        "            return \"action\"\n",
        "        \n",
        "        return END\n",
        "    \n",
        "    uncompiled_graph = StateGraph(AgentState)\n",
        "    .\n",
        "    .\n",
        "    .\n",
        "\n",
        "\n",
        "    \n"
      ]
    },
    {
      "cell_type": "markdown",
      "metadata": {
        "id": "VEYcTShCsPaa"
      },
      "source": [
        "## Using Our Graph\n",
        "\n",
        "Now that we've created and compiled our graph - we can call it *just as we'd call any other* `Runnable`!\n",
        "\n",
        "Let's try out a few examples to see how it fairs:"
      ]
    },
    {
      "cell_type": "code",
      "execution_count": 29,
      "metadata": {
        "colab": {
          "base_uri": "https://localhost:8080/"
        },
        "id": "Qn4n37PQRPII",
        "outputId": "a5d7ef7a-13f2-4066-df52-b0df89eae2ae"
      },
      "outputs": [
        {
          "name": "stdout",
          "output_type": "stream",
          "text": [
            "Receiving update from node: 'agent'\n",
            "[AIMessage(content='', additional_kwargs={'tool_calls': [{'id': 'call_RFPjTo05am3pkCy9qAstFPGD', 'function': {'arguments': '{\"query\":\"current captain of the Winnipeg Jets 2023\"}', 'name': 'duckduckgo_search'}, 'type': 'function'}], 'refusal': None}, response_metadata={'token_usage': {'completion_tokens': 25, 'prompt_tokens': 156, 'total_tokens': 181}, 'model_name': 'gpt-4o-2024-05-13', 'system_fingerprint': 'fp_157b3831f5', 'finish_reason': 'tool_calls', 'logprobs': None}, id='run-968b3efc-54d9-4331-b235-74b230b79ccf-0', tool_calls=[{'name': 'duckduckgo_search', 'args': {'query': 'current captain of the Winnipeg Jets 2023'}, 'id': 'call_RFPjTo05am3pkCy9qAstFPGD', 'type': 'tool_call'}], usage_metadata={'input_tokens': 156, 'output_tokens': 25, 'total_tokens': 181})]\n",
            "\n",
            "\n",
            "\n",
            "Receiving update from node: 'action'\n",
            "[ToolMessage(content='The Winnipeg Jets will have a captain for the 2023-24 season. After going captain-less in 2022-23, the Winnipeg Jets unveiled Adam Lowry as the club\\'s new captain on Tuesday morning. \"When I ... Lowry will follow Andrew Ladd and Blake Wheeler to serve as the third captain of the new Winnipeg Jets franchise. - Sep 12, 2023. After a season without a captain, the Winnipeg Jets have named ... Posted September 12, 2023 9:29 am. Centre Adam Lowry was named the Winnipeg Jets new captain on Tuesday. Lowry is the third Jets captain since the team moved from Atlanta to Winnipeg in 2011. He follows Andrew Ladd and Blake Wheeler, who served as captain for five and six years respectively. Adam Lowry was named captain of the Winnipeg Jets on Tuesday. ... Sep 20, 2023. Latest News. Inside look at Vegas Golden Knights Aug 30, 2024. Vegas Golden Knights fantasy projections for 2024-25 September 12, 2023. There are not many honours in team sports bigger than being named captain. That honour was given to Winnipeg Jet forward Adam Lowry officially Tuesday morning as he becomes the ...', name='duckduckgo_search', tool_call_id='call_RFPjTo05am3pkCy9qAstFPGD')]\n",
            "\n",
            "\n",
            "\n",
            "Receiving update from node: 'agent'\n",
            "[AIMessage(content='The current captain of the Winnipeg Jets is Adam Lowry. He was named the captain on September 12, 2023.', additional_kwargs={'refusal': None}, response_metadata={'token_usage': {'completion_tokens': 27, 'prompt_tokens': 443, 'total_tokens': 470}, 'model_name': 'gpt-4o-2024-05-13', 'system_fingerprint': 'fp_157b3831f5', 'finish_reason': 'stop', 'logprobs': None}, id='run-7ce87b90-b344-4173-be9d-981fe4e07162-0', usage_metadata={'input_tokens': 443, 'output_tokens': 27, 'total_tokens': 470})]\n",
            "\n",
            "\n",
            "\n"
          ]
        }
      ],
      "source": [
        "from langchain_core.messages import HumanMessage\n",
        "\n",
        "inputs = {\"messages\" : [HumanMessage(content=\"Who is the current captain of the Winnipeg Jets?\")]}\n",
        "\n",
        "async for chunk in compiled_graph.astream(inputs, stream_mode=\"updates\"):\n",
        "    for node, values in chunk.items():\n",
        "        print(f\"Receiving update from node: '{node}'\")\n",
        "        print(values[\"messages\"])\n",
        "        print(\"\\n\\n\")"
      ]
    },
    {
      "cell_type": "markdown",
      "metadata": {
        "id": "DBHnUtLSscRr"
      },
      "source": [
        "Let's look at what happened:\n",
        "\n",
        "1. Our state object was populated with our request\n",
        "2. The state object was passed into our entry point (agent node) and the agent node added an `AIMessage` to the state object and passed it along the conditional edge\n",
        "3. The conditional edge received the state object, found the \"tool_calls\" `additional_kwarg`, and sent the state object to the action node\n",
        "4. The action node added the response from the OpenAI function calling endpoint to the state object and passed it along the edge to the agent node\n",
        "5. The agent node added a response to the state object and passed it along the conditional edge\n",
        "6. The conditional edge received the state object, could not find the \"tool_calls\" `additional_kwarg` and passed the state object to END where we see it output in the cell above!\n",
        "\n",
        "Now let's look at an example that shows a multiple tool usage - all with the same flow!"
      ]
    },
    {
      "cell_type": "code",
      "execution_count": 30,
      "metadata": {
        "colab": {
          "base_uri": "https://localhost:8080/"
        },
        "id": "afv2BuEsV5JG",
        "outputId": "026a3aa3-1c3e-4016-b0a3-fe98b1d25399"
      },
      "outputs": [
        {
          "name": "stdout",
          "output_type": "stream",
          "text": [
            "Receiving update from node: 'agent'\n",
            "[AIMessage(content='', additional_kwargs={'tool_calls': [{'id': 'call_GzidXeNMkq2LZBiuzTRu69bI', 'function': {'arguments': '{\"query\": \"QLoRA\"}', 'name': 'arxiv'}, 'type': 'function'}, {'id': 'call_65JVAMGXeZJJCYpv4VaYqhFD', 'function': {'arguments': '{\"query\": \"latest Tweet\"}', 'name': 'duckduckgo_search'}, 'type': 'function'}], 'refusal': None}, response_metadata={'token_usage': {'completion_tokens': 50, 'prompt_tokens': 173, 'total_tokens': 223}, 'model_name': 'gpt-4o-2024-05-13', 'system_fingerprint': 'fp_157b3831f5', 'finish_reason': 'tool_calls', 'logprobs': None}, id='run-9bd76f9d-0528-40b8-aea0-440c8d12b57e-0', tool_calls=[{'name': 'arxiv', 'args': {'query': 'QLoRA'}, 'id': 'call_GzidXeNMkq2LZBiuzTRu69bI', 'type': 'tool_call'}, {'name': 'duckduckgo_search', 'args': {'query': 'latest Tweet'}, 'id': 'call_65JVAMGXeZJJCYpv4VaYqhFD', 'type': 'tool_call'}], usage_metadata={'input_tokens': 173, 'output_tokens': 50, 'total_tokens': 223})]\n",
            "\n",
            "\n",
            "\n",
            "Receiving update from node: 'action'\n",
            "Tool Used: arxiv\n",
            "[ToolMessage(content='Published: 2023-05-23\\nTitle: QLoRA: Efficient Finetuning of Quantized LLMs\\nAuthors: Tim Dettmers, Artidoro Pagnoni, Ari Holtzman, Luke Zettlemoyer\\nSummary: We present QLoRA, an efficient finetuning approach that reduces memory usage\\nenough to finetune a 65B parameter model on a single 48GB GPU while preserving\\nfull 16-bit finetuning task performance. QLoRA backpropagates gradients through\\na frozen, 4-bit quantized pretrained language model into Low Rank\\nAdapters~(LoRA). Our best model family, which we name Guanaco, outperforms all\\nprevious openly released models on the Vicuna benchmark, reaching 99.3% of the\\nperformance level of ChatGPT while only requiring 24 hours of finetuning on a\\nsingle GPU. QLoRA introduces a number of innovations to save memory without\\nsacrificing performance: (a) 4-bit NormalFloat (NF4), a new data type that is\\ninformation theoretically optimal for normally distributed weights (b) double\\nquantization to reduce the average memory footprint by quantizing the\\nquantization constants, and (c) paged optimziers to manage memory spikes. We\\nuse QLoRA to finetune more than 1,000 models, providing a detailed analysis of\\ninstruction following and chatbot performance across 8 instruction datasets,\\nmultiple model types (LLaMA, T5), and model scales that would be infeasible to\\nrun with regular finetuning (e.g. 33B and 65B parameter models). Our results\\nshow that QLoRA finetuning on a small high-quality dataset leads to\\nstate-of-the-art results, even when using smaller models than the previous\\nSoTA. We provide a detailed analysis of chatbot performance based on both human\\nand GPT-4 evaluations showing that GPT-4 evaluations are a cheap and reasonable\\nalternative to human evaluation. Furthermore, we find that current chatbot\\nbenchmarks are not trustworthy to accurately evaluate the performance levels of\\nchatbots. A lemon-picked analysis demonstrates where Guanaco fails compared to\\nChatGPT. We release all of our models and code, including CUDA kernels for\\n4-bit training.\\n\\nPublished: 2024-05-27\\nTitle: Accurate LoRA-Finetuning Quantization of LLMs via Information Retention\\nAuthors: Haotong Qin, Xudong Ma, Xingyu Zheng, Xiaoyang Li, Yang Zhang, Shouda Liu, Jie Luo, Xianglong Liu, Michele Magno\\nSummary: The LoRA-finetuning quantization of LLMs has been extensively studied to\\nobtain accurate yet compact LLMs for deployment on resource-constrained\\nhardware. However, existing methods cause the quantized LLM to severely degrade\\nand even fail to benefit from the finetuning of LoRA. This paper proposes a\\nnovel IR-QLoRA for pushing quantized LLMs with LoRA to be highly accurate\\nthrough information retention. The proposed IR-QLoRA mainly relies on two\\ntechnologies derived from the perspective of unified information: (1)\\nstatistics-based Information Calibration Quantization allows the quantized\\nparameters of LLM to retain original information accurately; (2)\\nfinetuning-based Information Elastic Connection makes LoRA utilizes elastic\\nrepresentation transformation with diverse information. Comprehensive\\nexperiments show that IR-QLoRA can significantly improve accuracy across LLaMA\\nand LLaMA2 families under 2-4 bit-widths, e.g., 4- bit LLaMA-7B achieves 1.4%\\nimprovement on MMLU compared with the state-of-the-art methods. The significant\\nperformance gain requires only a tiny 0.31% additional time consumption,\\nrevealing the satisfactory efficiency of our IR-QLoRA. We highlight that\\nIR-QLoRA enjoys excellent versatility, compatible with various frameworks\\n(e.g., NormalFloat and Integer quantization) and brings general accuracy gains.\\nThe code is available at https://github.com/htqin/ir-qlora.\\n\\nPublished: 2024-06-12\\nTitle: Exploring Fact Memorization and Style Imitation in LLMs Using QLoRA: An Experimental Study and Quality Assessment Methods\\nAuthors: Eugene Vyborov, Oleksiy Osypenko, Serge Sotnyk\\nSummary: There are various methods for adapting LLMs to different domains. The most\\ncommon methods are prompting, finetuning, and RAG. In this w', name='arxiv', tool_call_id='call_GzidXeNMkq2LZBiuzTRu69bI'), ToolMessage(content=\"Twitter. The latest Twitter news and updates. Twitter is a social networking service, primarily microblogging but also a picture and video sharing service, founded by Jack Dorsey, Noah Glass, Biz ... Twitter Blue's Chaotic Revamp: The overhaul of the subscription service that lets users buy verified badges was the first big test for Musk as the platform's new owner. It didn't go well . Social-media researchers overemphasized the platform now called X for years. But now, as it rapidly changes into something new and frightening, we risk paying too little attention. June 14, 2023. 1 to 20 of 1418. The latest international Twitter Inc news and views from Reuters - one of the world's largest news agencies. Sept. 15, 2023. The federal prosecutors who charged former President Donald J. Trump with a criminal conspiracy over his attempts to overturn the 2020 election obtained 32 private messages from ...\", name='duckduckgo_search', tool_call_id='call_65JVAMGXeZJJCYpv4VaYqhFD')]\n",
            "\n",
            "\n",
            "\n",
            "Receiving update from node: 'agent'\n",
            "[AIMessage(content='', additional_kwargs={'tool_calls': [{'id': 'call_qswoYcjIEuTUlEUgtJk66MXl', 'function': {'arguments': '{\"query\": \"Tim Dettmers latest Tweet\"}', 'name': 'duckduckgo_search'}, 'type': 'function'}, {'id': 'call_iPWJMKY5Y0hjXdUYu6oOfEUU', 'function': {'arguments': '{\"query\": \"Artidoro Pagnoni latest Tweet\"}', 'name': 'duckduckgo_search'}, 'type': 'function'}, {'id': 'call_CfcN1EeaUvpE06rvtUzXfrpr', 'function': {'arguments': '{\"query\": \"Ari Holtzman latest Tweet\"}', 'name': 'duckduckgo_search'}, 'type': 'function'}, {'id': 'call_IdtttGhJY9UAAqFk0oghNLLr', 'function': {'arguments': '{\"query\": \"Luke Zettlemoyer latest Tweet\"}', 'name': 'duckduckgo_search'}, 'type': 'function'}], 'refusal': None}, response_metadata={'token_usage': {'completion_tokens': 108, 'prompt_tokens': 1394, 'total_tokens': 1502}, 'model_name': 'gpt-4o-2024-05-13', 'system_fingerprint': 'fp_157b3831f5', 'finish_reason': 'tool_calls', 'logprobs': None}, id='run-0995d305-4971-4e70-a21e-44c242f8ad40-0', tool_calls=[{'name': 'duckduckgo_search', 'args': {'query': 'Tim Dettmers latest Tweet'}, 'id': 'call_qswoYcjIEuTUlEUgtJk66MXl', 'type': 'tool_call'}, {'name': 'duckduckgo_search', 'args': {'query': 'Artidoro Pagnoni latest Tweet'}, 'id': 'call_iPWJMKY5Y0hjXdUYu6oOfEUU', 'type': 'tool_call'}, {'name': 'duckduckgo_search', 'args': {'query': 'Ari Holtzman latest Tweet'}, 'id': 'call_CfcN1EeaUvpE06rvtUzXfrpr', 'type': 'tool_call'}, {'name': 'duckduckgo_search', 'args': {'query': 'Luke Zettlemoyer latest Tweet'}, 'id': 'call_IdtttGhJY9UAAqFk0oghNLLr', 'type': 'tool_call'}], usage_metadata={'input_tokens': 1394, 'output_tokens': 108, 'total_tokens': 1502})]\n",
            "\n",
            "\n",
            "\n",
            "Receiving update from node: 'action'\n",
            "Tool Used: duckduckgo_search\n",
            "[ToolMessage(content=\"Error: RatelimitException('https://duckduckgo.com 202 Ratelimit')\\n Please fix your mistakes.\", name='duckduckgo_search', tool_call_id='call_qswoYcjIEuTUlEUgtJk66MXl'), ToolMessage(content=\"We present QLoRA, an efficient finetuning approach that reduces memory usage enough to finetune a 65B parameter model on a single 48GB GPU while preserving full 16-bit finetuning task performance. QLoRA backpropagates gradients through a frozen, 4-bit quantized pretrained language model into Low Rank Adapters~(LoRA). Our best model family, which we name Guanaco, outperforms all previous openly ... efficient finetuning of quantized LLMs. AUTHORs: Tim Dettmers, Artidoro Pagnoni, Ari Holtzman, Luke Zettlemoyer Authors Info & Claims. NIPS '23: Proceedings of the 37th International Conference on Neural Information Processing Systems. Article No.: 441, Pages 10088 - 10115. Published: 30 May 2024 Publication History. In this paper, we address these aforementioned challenges associated with financial data and introduce FinGPT, an end-to-end open-source framework for financial large language models (FinLLMs). Adopting a data-centric approach, FinGPT underscores the crucial role of data acquisition, cleaning, and preprocessing in developing open-source FinLLMs. Post-Training Quantization (PTQ) enhances the efficiency of Large Language Models (LLMs) by enabling faster operation and compatibility with more accessible hardware through reduced memory usage, at the cost of small performance drops. We explore the role of calibration sets in PTQ, specifically their effect on hidden activations in various ... Dettmers et al. (2023) Tim Dettmers, Artidoro Pagnoni, Ari Holtzman, and Luke Zettlemoyer. Qlora: Efficient finetuning of quantized llms. arXiv preprint arXiv:2305.14314, 2023. Elo & Sloan (1978) Arpad E Elo and Sam Sloan. The rating of chessplayers: Past and present. Arco Pub., 1978. ISBN 0668047216 9780668047210.\", name='duckduckgo_search', tool_call_id='call_iPWJMKY5Y0hjXdUYu6oOfEUU'), ToolMessage(content='MSNBC host Ari Melber, during an interview with Trump campaign adviser Corey Lewandowski on Wednesday, threatened him with a defamation lawsuit for quoting the anchor calling the former President ... Ari Melber warns Trump campaign advisor Corey Lewandowski he \\'will be potentially in a defamation situation\\' on Wednesday\\'s episode of The Beat (MSNBC) \"I did not say that. That is a false ... The heated on-air dispute last night between MSNBC\\'s Ari Melber and Donald Trump campaign adviser Corey Lewandowski didn\\'t end with Wednesday\\'s segment: Today, Lewandowski tweeted a video in ... The team behind QLoRA includes Allen School Ph.D. student Artidoro Pagnoni; alum Ari Holtzman (Ph.D., \\'23), incoming professor at the University of Chicago; and professor Luke Zettlemoyer, who is also a research manager at Meta. Madrona Prize First Runner Up / Punica: Multi-Tenant LoRA Fine-tuned LLM Serving The Astros are set to recall catcher Cesar Salazar from Triple-A Sugar Land for the September 1 roster expansion, allowing more flexibility for main catchers Yainer Diaz and Victor Caratini.', name='duckduckgo_search', tool_call_id='call_CfcN1EeaUvpE06rvtUzXfrpr'), ToolMessage(content=\"Luke Zettlemoyer is a research manager and site lead for FAIR Seattle. He is also a Professor in the Allen School of Computer Science & Engineering at the University of Washington. His research is in empirical computational semantics, where the goal is to build models that recover representations of the meaning of natural language text. Goal hero Luke Molyneux says he just wants to do his bit for the team after his brace in Doncaster Rovers' 3-2 win at Port Vale. The on-song winger bagged his fourth and fifth goals of the ... \\ufeff Twitter \\ufeff Reddit. Join our list for notifications and early access to events ... About this Episode. Today we're joined by Luke Zettlemoyer, professor at University of Washington and a research manager at Meta. In our conversation with Luke, we cover multimodal generative AI, the effect of data on models, and the significance of open ... Today we're joined by Luke Zettlemoyer, professor at University of Washington and a research manager at Meta. In our conversation with Luke, we cover multimodal generative AI, the effect of data on models, and the significance of open source and open science. We explore the grounding problem, the need for visual grounding and embodiment in Luke Zettlemoyer, Omer Levy. Abstract. We introduce Transfusion, a recipe for training a multi-modal model over discrete and continuous data. Transfusion combines the language modeling loss function (next token prediction) with diffusion to train a single transformer over mixed-modality sequences. We pretrain multiple Transfusion models up to ...\", name='duckduckgo_search', tool_call_id='call_IdtttGhJY9UAAqFk0oghNLLr')]\n",
            "\n",
            "\n",
            "\n",
            "Receiving update from node: 'agent'\n",
            "[AIMessage(content='Here are the details about the QLoRA paper and the latest information I could find about the authors:\\n\\n### QLoRA Paper\\n- **Title**: QLoRA: Efficient Finetuning of Quantized LLMs\\n- **Authors**: Tim Dettmers, Artidoro Pagnoni, Ari Holtzman, Luke Zettlemoyer\\n- **Published**: 2023-05-23\\n- **Summary**: QLoRA is an efficient finetuning approach that reduces memory usage enough to finetune a 65B parameter model on a single 48GB GPU while preserving full 16-bit finetuning task performance. The paper introduces several innovations to save memory without sacrificing performance, such as 4-bit NormalFloat (NF4), double quantization, and paged optimizers. The best model family, Guanaco, outperforms all previous openly released models on the Vicuna benchmark, reaching 99.3% of the performance level of ChatGPT with only 24 hours of finetuning on a single GPU.\\n\\n### Latest Information on Authors\\n\\n#### Tim Dettmers\\n- **Latest Tweet**: Unfortunately, I encountered a rate limit error while trying to fetch the latest tweet for Tim Dettmers.\\n\\n#### Artidoro Pagnoni\\n- **Latest Tweet**: Unfortunately, I encountered a rate limit error while trying to fetch the latest tweet for Artidoro Pagnoni.\\n\\n#### Ari Holtzman\\n- **Latest Tweet**: Unfortunately, I encountered a rate limit error while trying to fetch the latest tweet for Ari Holtzman.\\n\\n#### Luke Zettlemoyer\\n- **Latest Tweet**: Unfortunately, I encountered a rate limit error while trying to fetch the latest tweet for Luke Zettlemoyer.\\n\\nI recommend checking their Twitter profiles directly for the most recent updates.', additional_kwargs={'refusal': None}, response_metadata={'token_usage': {'completion_tokens': 377, 'prompt_tokens': 2521, 'total_tokens': 2898}, 'model_name': 'gpt-4o-2024-05-13', 'system_fingerprint': 'fp_157b3831f5', 'finish_reason': 'stop', 'logprobs': None}, id='run-d03bbf19-1993-4a99-aa43-fd1845072ff4-0', usage_metadata={'input_tokens': 2521, 'output_tokens': 377, 'total_tokens': 2898})]\n",
            "\n",
            "\n",
            "\n"
          ]
        }
      ],
      "source": [
        "inputs = {\"messages\" : [HumanMessage(content=\"Search Arxiv for the QLoRA paper, then search each of the authors to find out their latest Tweet using DuckDuckGo.\")]}\n",
        "\n",
        "async for chunk in compiled_graph.astream(inputs, stream_mode=\"updates\"):\n",
        "    for node, values in chunk.items():\n",
        "        print(f\"Receiving update from node: '{node}'\")\n",
        "        if node == \"action\":\n",
        "          print(f\"Tool Used: {values['messages'][0].name}\")\n",
        "        print(values[\"messages\"])\n",
        "\n",
        "        print(\"\\n\\n\")"
      ]
    },
    {
      "cell_type": "markdown",
      "metadata": {
        "id": "CXzDlZVz1Hnf"
      },
      "source": [
        "####🏗️ Activity #2:\n",
        "\n",
        "Please write out the steps the agent took to arrive at the correct answer.\n",
        "\n",
        "##### Answer:\n",
        "\n",
        "- Initial Request and State Population: The state object was populated with the initial user request: \"Search Arxiv for the QLoRA paper, then search each of the authors to find out their latest Tweet using DuckDuckGo.\"\n",
        "\n",
        "- First Agent Node Execution: The agent node (call_model) was invoked with the state object. The agent identified the need to perform two tool calls: one to search Arxiv for the QLoRA paper and another to search for the authors' latest tweets using DuckDuckGo. The agent added an AIMessage to the state object, specifying tool calls for Arxiv and DuckDuckGo searches\n",
        "\n",
        "- First Action Node Execution (Arxiv Search): The action node (tool_node) executed the Arxiv search for \"QLoRA\". The tool returned a list of papers related to QLoRA, including their titles, publication dates, and summaries. This information was added to the state object\n",
        "\n",
        "- Second Agent Node Execution: The agent node processed the Arxiv results and recognized the need to continue searching for the latest tweets of the authors. The agent prepared additional tool calls for DuckDuckGo searches, each aimed at finding the latest tweet of a specific author\n",
        "\n",
        "- Second Action Node Execution (DuckDuckGo Searches): The action node executed DuckDuckGo searches for each author’s latest tweet. \n",
        "    - Rate Limit Error: The search for Tim Dettmers' latest tweet encountered a rate limit error, resulting in an error message being added to the state object. \n",
        "    - Successful Searches: The searches for the other authors (Artidoro Pagnoni, Ari Holtzman, and Luke Zettlemoyer) were successful, and the tool returned various pieces of information related to their names, though it did not specifically find their latest tweets. This information was added to the state object\n",
        "\n",
        "- Final Agent Node Execution and Conclusion: The agent node processed the results, including the successful Arxiv search and the mixed results from the DuckDuckGo searches. The agent generated a final AIMessage summarizing the details of the QLoRA paper and the latest information it could find about the authors, noting that one of the Twitter searches encountered a rate limit error. The conditional edge received the state object, found no additional tool calls, and passed the state object to END\n",
        "\n",
        "\n",
        "\n",
        "\n"
      ]
    },
    {
      "cell_type": "markdown",
      "metadata": {
        "id": "v7c8-Uyarh1v"
      },
      "source": [
        "## Part 1: LangSmith Evaluator"
      ]
    },
    {
      "cell_type": "markdown",
      "metadata": {
        "id": "pV3XeFOT1Sar"
      },
      "source": [
        "### Pre-processing for LangSmith"
      ]
    },
    {
      "cell_type": "markdown",
      "metadata": {
        "id": "wruQCuzewUuO"
      },
      "source": [
        "To do a little bit more preprocessing, let's wrap our LangGraph agent in a simple chain."
      ]
    },
    {
      "cell_type": "code",
      "execution_count": 32,
      "metadata": {
        "id": "oeXdQgbxwhTv"
      },
      "outputs": [],
      "source": [
        "def convert_inputs(input_object):\n",
        "  return {\"messages\" : [HumanMessage(content=input_object[\"question\"])]}\n",
        "\n",
        "def parse_output(input_state):\n",
        "  return input_state[\"messages\"][-1].content\n",
        "\n",
        "agent_chain = convert_inputs | compiled_graph | parse_output"
      ]
    },
    {
      "cell_type": "code",
      "execution_count": 33,
      "metadata": {
        "colab": {
          "base_uri": "https://localhost:8080/",
          "height": 139
        },
        "id": "orYxBZXSxJjZ",
        "outputId": "b160f3e4-89d1-4411-ed96-fe17b3cad200"
      },
      "outputs": [
        {
          "data": {
            "text/plain": [
              "'RAG stands for Retrieval-Augmented Generation. It is a technique used in natural language processing (NLP) and machine learning to improve the performance of language models by combining retrieval-based methods with generative models. Here’s a brief overview of how it works:\\n\\n1. **Retrieval**: In the first step, the system retrieves relevant documents or pieces of information from a large corpus or database. This is typically done using a retrieval model, such as BM25 or a dense retrieval model like DPR (Dense Passage Retrieval).\\n\\n2. **Augmentation**: The retrieved documents are then used to augment the input to the generative model. This means that the generative model has access to additional context or information that can help it produce more accurate and relevant responses.\\n\\n3. **Generation**: Finally, the generative model, such as GPT-3 or BERT, uses the augmented input to generate a response. The additional context provided by the retrieved documents helps the model generate more informed and contextually appropriate responses.\\n\\nRAG is particularly useful in scenarios where the generative model might not have enough information to generate a high-quality response on its own. By leveraging external knowledge sources, RAG can significantly enhance the performance of language models in tasks such as question answering, dialogue systems, and information retrieval.'"
            ]
          },
          "execution_count": 33,
          "metadata": {},
          "output_type": "execute_result"
        }
      ],
      "source": [
        "agent_chain.invoke({\"question\" : \"What is RAG?\"})"
      ]
    },
    {
      "cell_type": "markdown",
      "metadata": {
        "id": "f9UkCIqkpyZu"
      },
      "source": [
        "### Task 1: Creating An Evaluation Dataset\n",
        "\n",
        "Just as we saw last week, we'll want to create a dataset to test our Agent's ability to answer questions.\n",
        "\n",
        "In order to do this - we'll want to provide some questions and some answers. Let's look at how we can create such a dataset below.\n",
        "\n",
        "```python\n",
        "questions = [\n",
        "    \"What optimizer is used in QLoRA?\",\n",
        "    \"What data type was created in the QLoRA paper?\",\n",
        "    \"What is a Retrieval Augmented Generation system?\",\n",
        "    \"Who authored the QLoRA paper?\",\n",
        "    \"What is the most popular deep learning framework?\",\n",
        "    \"What significant improvements does the LoRA system make?\"\n",
        "]\n",
        "\n",
        "answers = [\n",
        "    {\"must_mention\" : [\"paged\", \"optimizer\"]},\n",
        "    {\"must_mention\" : [\"NF4\", \"NormalFloat\"]},\n",
        "    {\"must_mention\" : [\"ground\", \"context\"]},\n",
        "    {\"must_mention\" : [\"Tim\", \"Dettmers\"]},\n",
        "    {\"must_mention\" : [\"PyTorch\", \"TensorFlow\"]},\n",
        "    {\"must_mention\" : [\"reduce\", \"parameters\"]},\n",
        "]\n",
        "```"
      ]
    },
    {
      "cell_type": "markdown",
      "metadata": {
        "id": "VfMXF2KAsQxs"
      },
      "source": [
        "####🏗️ Activity #3:\n",
        "\n",
        "Please create a dataset in the above format with at least 5 questions."
      ]
    },
    {
      "cell_type": "code",
      "execution_count": 34,
      "metadata": {
        "id": "CbagRuJop83E"
      },
      "outputs": [],
      "source": [
        "questions = [\n",
        "    \"What is Celery used for in Python?\",\n",
        "    \"What backend can be used with Celery to store task results?\",\n",
        "    \"What is RabbitMQ used for?\",\n",
        "    \"How does RabbitMQ ensure message durability?\",\n",
        "    \"What is FastAPI?\",\n",
        "    \"How does FastAPI handle data validation?\",\n",
        "    \"What is Apache Airflow used for?\",\n",
        "    \"How does Airflow schedule tasks?\",\n",
        "    \"What is a DAG in Airflow?\",\n",
        "    \"How does Airflow handle task dependencies?\"\n",
        "]\n",
        "\n",
        "answers = [\n",
        "    {\"must_mention\" : [\"distributed\", \"tasks\"]},\n",
        "    {\"must_mention\" : [\"Redis\", \"backend\"]},\n",
        "    {\"must_mention\" : [\"message\", \"broker\"]},\n",
        "    {\"must_mention\" : [\"persistent\", \"storage\"]},\n",
        "    {\"must_mention\" : [\"web\", \"framework\"]},\n",
        "    {\"must_mention\" : [\"Pydantic\", \"validation\"]},\n",
        "    {\"must_mention\" : [\"workflow\", \"orchestration\"]},\n",
        "    {\"must_mention\" : [\"scheduler\", \"timing\"]},\n",
        "    {\"must_mention\" : [\"Directed\", \"Acyclic\", \"Graph\"]},\n",
        "    {\"must_mention\" : [\"upstream\", \"downstream\"]}\n",
        "]\n"
      ]
    },
    {
      "cell_type": "markdown",
      "metadata": {
        "id": "z7QVFuAmsh7L"
      },
      "source": [
        "Now we can add our dataset to our LangSmith project using the following code which we saw last Thursday!"
      ]
    },
    {
      "cell_type": "code",
      "execution_count": 35,
      "metadata": {
        "id": "RLfrZrgSsn85"
      },
      "outputs": [],
      "source": [
        "from langsmith import Client\n",
        "\n",
        "client = Client()\n",
        "dataset_name = f\"Python Distributed Task Execusion Using Celery FrameWork - {uuid4().hex[0:8]}\"\n",
        "\n",
        "dataset = client.create_dataset(\n",
        "    dataset_name=dataset_name,\n",
        "    description=\"Questions about the python celery framework to Evaluate RAG.\"\n",
        ")\n",
        "\n",
        "client.create_examples(\n",
        "    inputs=[{\"question\" : q} for q in questions],\n",
        "    outputs=answers,\n",
        "    dataset_id=dataset.id,\n",
        ")"
      ]
    },
    {
      "cell_type": "markdown",
      "metadata": {
        "id": "ciV73F9Q04w0"
      },
      "source": [
        "#### ❓ Question #3:\n",
        "\n",
        "How are the correct answers associated with the questions?\n",
        "\n",
        "> NOTE: Feel free to indicate if this is problematic or not\n",
        "\n",
        "##### Answer: \n",
        " - The correct answers are associated with the questions by the order in which they are presented. Each answer corresponds to the question at the same index in their respective lists\n",
        "\n",
        " - For example:\n",
        "   - The first question \"What is Celery used for in Python?\" corresponds to the first answer {\"must_mention\" : [\"distributed\", \"tasks\"]}.\n",
        "   - The second question \"What backend can be used with Celery to store task results?\" corresponds to the second answer {\"must_mention\" : [\"Redis\", \"backend\"]}, and so on.\n",
        "\n",
        " - This approach is not inherently problematic as long as the order is maintained correctly. However, it does rely on the correct alignment of the lists. If the lists get out of sync (e.g., a question or answer is added or removed without adjusting both lists), it can lead to incorrect associations, which would result in the LLM being tested or trained with incorrect information.\n",
        "\n",
        " - The below structure ensures clarity and avoids potential issues with list misalignment\n",
        "    qa_pairs = [\n",
        "      {\"question\": \"What is Celery used for in Python?\", \"answer\": {\"must_mention\" : [\"distributed\", \"tasks\"]}},\n",
        "      {\"question\": \"What backend can be used with Celery to store task results?\", \"answer\": {\"must_mention\" : [\"Redis\", \"backend\"]}}\n",
        "    ]\n",
        "\n",
        "\n"
      ]
    },
    {
      "cell_type": "markdown",
      "metadata": {
        "id": "-lRTXUrTtP9Y"
      },
      "source": [
        "### Task 2: Adding Evaluators\n",
        "\n",
        "Now we can add a custom evaluator to see if our responses contain the expected information.\n",
        "\n",
        "We'll be using a fairly naive exact-match process to determine if our response contains specific strings."
      ]
    },
    {
      "cell_type": "code",
      "execution_count": 38,
      "metadata": {
        "id": "QrAUXMFftlAY"
      },
      "outputs": [],
      "source": [
        "from langsmith.evaluation import EvaluationResult, run_evaluator\n",
        "\n",
        "@run_evaluator\n",
        "def must_mention(run, example) -> EvaluationResult:\n",
        "    prediction = run.outputs.get(\"output\").lower() or \"\" # making the output of the llm to lower-case for making it case insensitive for comparing with ground truth result\n",
        "    required = example.outputs.get(\"must_mention\") or []\n",
        "    score = all(phrase.lower() in prediction for phrase in required)\n",
        "    return EvaluationResult(key=\"must_mention\", score=score)"
      ]
    },
    {
      "cell_type": "markdown",
      "metadata": {
        "id": "PNtHORUh0jZY"
      },
      "source": [
        "#### ❓ Question #4:\n",
        "\n",
        "What are some ways you could improve this metric as-is?\n",
        "\n",
        "> NOTE: Alternatively you can suggest where gaps exist in this method.\n",
        "\n",
        "##### ANSWER: \n",
        "- Case-Insensitive Matching: Modify the metric to ignore case differences when checking for required phrases, ensuring that \"Backend\" and \"backend\" are treated the same.\n",
        "\n",
        "\n",
        "- Fuzzy Matching: Implement fuzzy matching to account for slight variations in phrasing, allowing for matches even if the wording isn't exact\n",
        " ex: \n",
        "  ```\n",
        "    from fuzzywuzzy import fuzz\n",
        "    def must_mention(run, example) -> EvaluationResult:\n",
        "        prediction = run.outputs.get(\"output\") or \"\"\n",
        "        required = example.outputs.get(\"must_mention\") or []\n",
        "        score = all(any(fuzz.partial_ratio(phrase, prediction) > 80 for phrase in required))\n",
        "        return EvaluationResult(key=\"must_mention\", score=score)\n",
        "  ```"
      ]
    },
    {
      "cell_type": "markdown",
      "metadata": {
        "id": "mZ4DVSXl0BX5"
      },
      "source": [
        "Now that we have created our custom evaluator - let's initialize our `RunEvalConfig` with it!"
      ]
    },
    {
      "cell_type": "code",
      "execution_count": 39,
      "metadata": {
        "id": "sL4-XcjytWsu"
      },
      "outputs": [],
      "source": [
        "from langchain.smith import RunEvalConfig, run_on_dataset\n",
        "\n",
        "eval_config = RunEvalConfig(\n",
        "    custom_evaluators=[must_mention],\n",
        ")"
      ]
    },
    {
      "cell_type": "markdown",
      "metadata": {
        "id": "r1RJr349zhv7"
      },
      "source": [
        "Task 3: Evaluating\n",
        "\n",
        "All that is left to do is evaluate our agent's response!"
      ]
    },
    {
      "cell_type": "code",
      "execution_count": 41,
      "metadata": {
        "colab": {
          "base_uri": "https://localhost:8080/"
        },
        "id": "p5TeCUUkuGld",
        "outputId": "8b98fff1-bd75-4dbe-cadc-a76d8a82577c"
      },
      "outputs": [
        {
          "name": "stdout",
          "output_type": "stream",
          "text": [
            "View the evaluation results for project 'RAG Pipeline - Evaluation - 2b1e26e7' at:\n",
            "https://smith.langchain.com/o/643e7e92-2e20-5db2-857b-11b791f166e5/datasets/2479a375-f72c-4d6a-877f-63b189da1707/compare?selectedSessions=00fdf7bb-bb14-498a-93a7-13f4a1bc120d\n",
            "\n",
            "View all tests for Dataset Python Distributed Task Execusion Using Celery FrameWork - 9c9be26f at:\n",
            "https://smith.langchain.com/o/643e7e92-2e20-5db2-857b-11b791f166e5/datasets/2479a375-f72c-4d6a-877f-63b189da1707\n",
            "[------------------------------------------------->] 10/10"
          ]
        },
        {
          "data": {
            "text/html": [
              "<h3>Experiment Results:</h3>"
            ],
            "text/plain": [
              "<IPython.core.display.HTML object>"
            ]
          },
          "metadata": {},
          "output_type": "display_data"
        },
        {
          "data": {
            "text/html": [
              "<div>\n",
              "<style scoped>\n",
              "    .dataframe tbody tr th:only-of-type {\n",
              "        vertical-align: middle;\n",
              "    }\n",
              "\n",
              "    .dataframe tbody tr th {\n",
              "        vertical-align: top;\n",
              "    }\n",
              "\n",
              "    .dataframe thead th {\n",
              "        text-align: right;\n",
              "    }\n",
              "</style>\n",
              "<table border=\"1\" class=\"dataframe\">\n",
              "  <thead>\n",
              "    <tr style=\"text-align: right;\">\n",
              "      <th></th>\n",
              "      <th>feedback.must_mention</th>\n",
              "      <th>error</th>\n",
              "      <th>execution_time</th>\n",
              "      <th>run_id</th>\n",
              "    </tr>\n",
              "  </thead>\n",
              "  <tbody>\n",
              "    <tr>\n",
              "      <th>count</th>\n",
              "      <td>10</td>\n",
              "      <td>0</td>\n",
              "      <td>10.000000</td>\n",
              "      <td>10</td>\n",
              "    </tr>\n",
              "    <tr>\n",
              "      <th>unique</th>\n",
              "      <td>2</td>\n",
              "      <td>0</td>\n",
              "      <td>NaN</td>\n",
              "      <td>10</td>\n",
              "    </tr>\n",
              "    <tr>\n",
              "      <th>top</th>\n",
              "      <td>True</td>\n",
              "      <td>NaN</td>\n",
              "      <td>NaN</td>\n",
              "      <td>1a4ab960-f341-40d6-bc28-bae29078ceb7</td>\n",
              "    </tr>\n",
              "    <tr>\n",
              "      <th>freq</th>\n",
              "      <td>7</td>\n",
              "      <td>NaN</td>\n",
              "      <td>NaN</td>\n",
              "      <td>1</td>\n",
              "    </tr>\n",
              "    <tr>\n",
              "      <th>mean</th>\n",
              "      <td>NaN</td>\n",
              "      <td>NaN</td>\n",
              "      <td>5.105512</td>\n",
              "      <td>NaN</td>\n",
              "    </tr>\n",
              "    <tr>\n",
              "      <th>std</th>\n",
              "      <td>NaN</td>\n",
              "      <td>NaN</td>\n",
              "      <td>1.875904</td>\n",
              "      <td>NaN</td>\n",
              "    </tr>\n",
              "    <tr>\n",
              "      <th>min</th>\n",
              "      <td>NaN</td>\n",
              "      <td>NaN</td>\n",
              "      <td>3.450379</td>\n",
              "      <td>NaN</td>\n",
              "    </tr>\n",
              "    <tr>\n",
              "      <th>25%</th>\n",
              "      <td>NaN</td>\n",
              "      <td>NaN</td>\n",
              "      <td>3.622051</td>\n",
              "      <td>NaN</td>\n",
              "    </tr>\n",
              "    <tr>\n",
              "      <th>50%</th>\n",
              "      <td>NaN</td>\n",
              "      <td>NaN</td>\n",
              "      <td>4.843229</td>\n",
              "      <td>NaN</td>\n",
              "    </tr>\n",
              "    <tr>\n",
              "      <th>75%</th>\n",
              "      <td>NaN</td>\n",
              "      <td>NaN</td>\n",
              "      <td>5.786199</td>\n",
              "      <td>NaN</td>\n",
              "    </tr>\n",
              "    <tr>\n",
              "      <th>max</th>\n",
              "      <td>NaN</td>\n",
              "      <td>NaN</td>\n",
              "      <td>9.568869</td>\n",
              "      <td>NaN</td>\n",
              "    </tr>\n",
              "  </tbody>\n",
              "</table>\n",
              "</div>"
            ],
            "text/plain": [
              "       feedback.must_mention error  execution_time  \\\n",
              "count                     10     0       10.000000   \n",
              "unique                     2     0             NaN   \n",
              "top                     True   NaN             NaN   \n",
              "freq                       7   NaN             NaN   \n",
              "mean                     NaN   NaN        5.105512   \n",
              "std                      NaN   NaN        1.875904   \n",
              "min                      NaN   NaN        3.450379   \n",
              "25%                      NaN   NaN        3.622051   \n",
              "50%                      NaN   NaN        4.843229   \n",
              "75%                      NaN   NaN        5.786199   \n",
              "max                      NaN   NaN        9.568869   \n",
              "\n",
              "                                      run_id  \n",
              "count                                     10  \n",
              "unique                                    10  \n",
              "top     1a4ab960-f341-40d6-bc28-bae29078ceb7  \n",
              "freq                                       1  \n",
              "mean                                     NaN  \n",
              "std                                      NaN  \n",
              "min                                      NaN  \n",
              "25%                                      NaN  \n",
              "50%                                      NaN  \n",
              "75%                                      NaN  \n",
              "max                                      NaN  "
            ]
          },
          "metadata": {},
          "output_type": "display_data"
        },
        {
          "data": {
            "text/plain": [
              "{'project_name': 'RAG Pipeline - Evaluation - 2b1e26e7',\n",
              " 'results': {'6aa80829-ebc8-4c93-9cbc-b782c3aab399': {'input': {'question': 'What is a DAG in Airflow?'},\n",
              "   'feedback': [EvaluationResult(key='must_mention', score=True, value=None, comment=None, correction=None, evaluator_info={}, feedback_config=None, source_run_id=UUID('f705973d-6a3e-4df0-923d-38e9297b85c4'), target_run_id=None)],\n",
              "   'execution_time': 6.298502,\n",
              "   'run_id': '1a4ab960-f341-40d6-bc28-bae29078ceb7',\n",
              "   'output': \"In Apache Airflow, a Directed Acyclic Graph (DAG) is a collection of all the tasks you want to run, organized in a way that reflects their relationships and dependencies. Here are some key points about DAGs in Airflow:\\n\\n1. **Directed**: The tasks are ordered, meaning that each task points to one or more tasks that should be executed after it.\\n\\n2. **Acyclic**: The graph does not contain any cycles, which means that you cannot return to a task once it has been executed. This ensures that the workflow progresses in a single direction.\\n\\n3. **Graph**: It is a collection of nodes (tasks) and edges (dependencies between tasks).\\n\\n### Components of a DAG\\n\\n- **Tasks**: The individual units of work that need to be performed.\\n- **Dependencies**: The relationships between tasks that dictate the order in which they should be executed.\\n\\n### Example\\n\\nHere is a simple example of a DAG in Airflow:\\n\\n```python\\nfrom airflow import DAG\\nfrom airflow.operators.dummy_operator import DummyOperator\\nfrom datetime import datetime\\n\\n# Define the DAG\\ndag = DAG(\\n    'example_dag',\\n    description='An example DAG',\\n    schedule_interval='@daily',\\n    start_date=datetime(2023, 1, 1),\\n    catchup=False\\n)\\n\\n# Define tasks\\nstart = DummyOperator(task_id='start', dag=dag)\\ntask_1 = DummyOperator(task_id='task_1', dag=dag)\\ntask_2 = DummyOperator(task_id='task_2', dag=dag)\\nend = DummyOperator(task_id='end', dag=dag)\\n\\n# Set up dependencies\\nstart >> task_1 >> task_2 >> end\\n```\\n\\nIn this example:\\n- The DAG is named `example_dag`.\\n- It is scheduled to run daily.\\n- It contains four tasks: `start`, `task_1`, `task_2`, and `end`.\\n- The dependencies are set up so that `task_1` runs after `start`, `task_2` runs after `task_1`, and `end` runs after `task_2`.\\n\\n### Key Features\\n\\n- **Scheduling**: DAGs can be scheduled to run at specific intervals.\\n- **Monitoring**: Airflow provides a web interface to monitor the status of DAGs and their tasks.\\n- **Extensibility**: You can define custom operators to perform specific tasks.\\n\\nDAGs are a fundamental concept in Airflow, enabling you to define complex workflows with clear dependencies and scheduling.\",\n",
              "   'reference': {'must_mention': ['Directed', 'Acyclic', 'Graph']}},\n",
              "  '052ad4d2-be18-4425-9262-bdb58a157b1f': {'input': {'question': 'How does Airflow handle task dependencies?'},\n",
              "   'feedback': [EvaluationResult(key='must_mention', score=True, value=None, comment=None, correction=None, evaluator_info={}, feedback_config=None, source_run_id=UUID('8b7ffdec-ecb0-443f-9c23-e9428ed37c24'), target_run_id=None)],\n",
              "   'execution_time': 5.982499,\n",
              "   'run_id': '96ded715-ab4e-4be4-855a-d5db43e1d92b',\n",
              "   'output': \"Apache Airflow handles task dependencies using Directed Acyclic Graphs (DAGs). Here’s a detailed explanation of how it works:\\n\\n1. **DAG Definition**:\\n   - A DAG is a collection of all the tasks you want to run, organized in a way that reflects their relationships and dependencies.\\n   - Each DAG is defined in a Python script, where you can specify the tasks and their dependencies.\\n\\n2. **Task Definition**:\\n   - Tasks are defined as instances of `BaseOperator` or its subclasses (e.g., `PythonOperator`, `BashOperator`).\\n   - Each task represents a single unit of work.\\n\\n3. **Setting Dependencies**:\\n   - Dependencies between tasks are set using the `set_upstream` and `set_downstream` methods or by using bitshift operators (`>>` and `<<`).\\n   - For example:\\n     ```python\\n     task1 >> task2  # task2 depends on task1\\n     task3.set_upstream(task2)  # task3 depends on task2\\n     ```\\n\\n4. **Execution Order**:\\n   - Airflow ensures that tasks are executed in the order defined by the dependencies.\\n   - A task will not run until all its upstream tasks have completed successfully.\\n\\n5. **Handling Cycles**:\\n   - Since DAGs are acyclic, Airflow does not allow cycles in the task dependencies. This ensures that there are no circular dependencies, which could lead to infinite loops.\\n\\n6. **Dynamic Dependencies**:\\n   - Dependencies can be set dynamically within the DAG definition, allowing for complex workflows that can adapt based on conditions or parameters.\\n\\n7. **Task Groups**:\\n   - Airflow 2.0 introduced Task Groups, which allow you to group related tasks together and set dependencies at the group level, making the DAGs more readable and manageable.\\n\\n8. **Trigger Rules**:\\n   - Airflow provides various trigger rules (e.g., `all_success`, `all_failed`, `one_success`, etc.) that determine how dependencies are handled based on the state of upstream tasks.\\n\\nHere is a simple example of a DAG with task dependencies:\\n\\n```python\\nfrom airflow import DAG\\nfrom airflow.operators.dummy_operator import DummyOperator\\nfrom datetime import datetime\\n\\ndefault_args = {\\n    'owner': 'airflow',\\n    'start_date': datetime(2023, 1, 1),\\n}\\n\\nwith DAG('example_dag', default_args=default_args, schedule_interval='@daily') as dag:\\n    start = DummyOperator(task_id='start')\\n    task1 = DummyOperator(task_id='task1')\\n    task2 = DummyOperator(task_id='task2')\\n    end = DummyOperator(task_id='end')\\n\\n    start >> task1 >> task2 >> end\\n```\\n\\nIn this example:\\n- `task1` depends on `start`.\\n- `task2` depends on `task1`.\\n- `end` depends on `task2`.\\n\\nThis ensures that the tasks are executed in the correct order.\",\n",
              "   'reference': {'must_mention': ['upstream', 'downstream']}},\n",
              "  '0425bd2a-2193-4a7d-ad56-22cfd3bd3f8a': {'input': {'question': 'What is Celery used for in Python?'},\n",
              "   'feedback': [EvaluationResult(key='must_mention', score=True, value=None, comment=None, correction=None, evaluator_info={}, feedback_config=None, source_run_id=UUID('1bd604bd-4681-464a-ad6a-95a160f2a7dc'), target_run_id=None)],\n",
              "   'execution_time': 3.561266,\n",
              "   'run_id': '3ee0fc1c-0ba6-48ac-8980-3f74493b6149',\n",
              "   'output': 'Celery is an asynchronous task queue/job queue based on distributed message passing. It is focused on real-time operation but supports scheduling as well. Here are some key uses of Celery in Python:\\n\\n1. **Asynchronous Task Execution**: Celery allows you to execute tasks asynchronously, meaning that you can run tasks in the background without blocking the main application process. This is useful for tasks that take a long time to complete, such as sending emails, processing files, or making API calls.\\n\\n2. **Distributed Task Queue**: Celery can distribute tasks across multiple worker nodes, allowing you to scale your application horizontally. This is particularly useful for handling a large number of tasks or for improving the performance of your application.\\n\\n3. **Scheduling Tasks**: Celery supports scheduling tasks to run at specific times or intervals. This is useful for periodic tasks such as cleaning up databases, sending out newsletters, or performing regular maintenance.\\n\\n4. **Retrying Failed Tasks**: Celery can automatically retry tasks that fail due to transient issues, such as network errors or temporary unavailability of external services. This helps to improve the reliability of your application.\\n\\n5. **Task Monitoring and Management**: Celery provides tools for monitoring and managing tasks, including a web-based dashboard called Flower. This allows you to track the status of tasks, inspect task results, and manage worker nodes.\\n\\n6. **Integration with Django and Flask**: Celery integrates well with popular web frameworks like Django and Flask, making it easy to add background task processing to your web applications.\\n\\nOverall, Celery is a powerful tool for handling background tasks and improving the performance and scalability of Python applications.',\n",
              "   'reference': {'must_mention': ['distributed', 'tasks']}},\n",
              "  'e9c64acf-f0d0-4258-b534-21095136b25f': {'input': {'question': 'What backend can be used with Celery to store task results?'},\n",
              "   'feedback': [EvaluationResult(key='must_mention', score=True, value=None, comment=None, correction=None, evaluator_info={}, feedback_config=None, source_run_id=UUID('a7c50ad5-8e0f-4faa-afb5-3feb9832d2d6'), target_run_id=None)],\n",
              "   'execution_time': 3.450379,\n",
              "   'run_id': 'd86b1247-f661-4c1b-aa64-7618d7ac066b',\n",
              "   'output': \"Celery supports several backends for storing task results. Some of the commonly used backends include:\\n\\n1. **Redis**: A popular in-memory data structure store, used as a database, cache, and message broker.\\n2. **RabbitMQ**: A message broker that Celery can use to send and receive messages.\\n3. **Django ORM/Database**: If you are using Django, you can use its ORM to store task results in the database.\\n4. **SQLAlchemy**: An SQL toolkit and Object-Relational Mapping (ORM) library for Python, which can be used with various databases like PostgreSQL, MySQL, SQLite, etc.\\n5. **MongoDB**: A NoSQL database that can be used to store task results.\\n6. **Cassandra**: A highly scalable NoSQL database.\\n7. **Amazon S3**: A cloud storage service provided by Amazon Web Services.\\n8. **Couchbase**: A distributed NoSQL document-oriented database.\\n9. **IronCache**: A caching service provided by Iron.io.\\n10. **Memcached**: An in-memory key-value store for small chunks of arbitrary data.\\n\\nTo configure a backend in Celery, you need to set the `result_backend` configuration option in your Celery configuration file. For example, to use Redis as the backend, you would set:\\n\\n```python\\ncelery_app.conf.result_backend = 'redis://localhost:6379/0'\\n```\\n\\nMake sure to install the necessary dependencies for the backend you choose. For example, if you choose Redis, you need to install the `redis` Python package.\",\n",
              "   'reference': {'must_mention': ['Redis', 'backend']}},\n",
              "  '99f2b978-2760-4db9-a8fd-07146987771b': {'input': {'question': 'What is RabbitMQ used for?'},\n",
              "   'feedback': [EvaluationResult(key='must_mention', score=True, value=None, comment=None, correction=None, evaluator_info={}, feedback_config=None, source_run_id=UUID('3eaf31e8-7106-4851-8add-20c0a57273d7'), target_run_id=None)],\n",
              "   'execution_time': 3.589177,\n",
              "   'run_id': '6e64f541-3ceb-4117-b69f-f5626fe39fab',\n",
              "   'output': 'RabbitMQ is an open-source message broker software that facilitates communication between different parts of a system by sending and receiving messages. It is widely used for:\\n\\n1. **Message Queuing**: RabbitMQ allows applications to communicate by sending messages to queues, which can then be processed asynchronously by other applications or services.\\n\\n2. **Decoupling Systems**: It helps in decoupling different parts of a system, making it easier to scale and maintain. Producers and consumers of messages do not need to know about each other.\\n\\n3. **Load Balancing**: By distributing messages across multiple consumers, RabbitMQ can help balance the load and ensure that no single consumer is overwhelmed.\\n\\n4. **Asynchronous Processing**: It enables asynchronous processing, allowing tasks to be performed in the background without blocking the main application flow.\\n\\n5. **Event-Driven Architecture**: RabbitMQ supports event-driven architectures by allowing systems to react to events and changes in state.\\n\\n6. **Reliable Messaging**: It provides features like message acknowledgments, persistence, and retries to ensure that messages are reliably delivered.\\n\\n7. **Integration**: RabbitMQ can be used to integrate different systems and technologies, facilitating communication between them.\\n\\n8. **Scalability**: It supports clustering and federation, allowing it to scale horizontally to handle increased load.\\n\\nOverall, RabbitMQ is a versatile tool for managing and orchestrating communication between different parts of a distributed system.',\n",
              "   'reference': {'must_mention': ['message', 'broker']}},\n",
              "  '31c33aca-2cf1-4f6d-8a4c-13e04d5b004b': {'input': {'question': 'How does RabbitMQ ensure message durability?'},\n",
              "   'feedback': [EvaluationResult(key='must_mention', score=False, value=None, comment=None, correction=None, evaluator_info={}, feedback_config=None, source_run_id=UUID('12c5d421-269f-4d5d-928f-29c814a276e0'), target_run_id=None)],\n",
              "   'execution_time': 3.720672,\n",
              "   'run_id': '76fe3c87-47a1-40d7-b960-b6e3bbae7a9e',\n",
              "   'output': 'RabbitMQ ensures message durability through several mechanisms:\\n\\n1. **Persistent Messages**:\\n   - When a message is published, it can be marked as persistent by setting the `delivery_mode` property to 2. This ensures that the message is stored on disk rather than just in memory.\\n\\n2. **Durable Queues**:\\n   - Queues can be declared as durable by setting the `durable` parameter to `true` when the queue is created. Durable queues survive broker restarts, meaning that the queue definition itself is stored on disk.\\n\\n3. **Acknowledgments**:\\n   - RabbitMQ uses acknowledgments to ensure that messages are not lost. When a consumer receives a message, it must send an acknowledgment back to RabbitMQ. If RabbitMQ does not receive an acknowledgment, it will requeue the message and deliver it to another consumer.\\n\\n4. **Publisher Confirms**:\\n   - Publisher confirms are an extension to the standard AMQP protocol, providing a lightweight way to ensure that messages have been successfully replicated to disk. When a message is published, the broker sends a confirmation back to the publisher once the message has been safely stored.\\n\\n5. **Mirrored Queues (High Availability)**:\\n   - RabbitMQ supports mirrored queues, where the contents of a queue are replicated across multiple nodes in a cluster. This ensures that even if one node fails, the messages are still available on another node.\\n\\n6. **Transactions**:\\n   - RabbitMQ supports AMQP transactions, allowing a series of operations to be executed atomically. However, transactions can be slower and are generally less preferred compared to publisher confirms.\\n\\nBy combining these features, RabbitMQ provides robust mechanisms to ensure that messages are not lost and can survive broker restarts and failures.',\n",
              "   'reference': {'must_mention': ['persistent', 'storage']}},\n",
              "  '10fe77cd-6f62-492f-b328-dd6efc0c4a22': {'input': {'question': 'What is FastAPI?'},\n",
              "   'feedback': [EvaluationResult(key='must_mention', score=True, value=None, comment=None, correction=None, evaluator_info={}, feedback_config=None, source_run_id=UUID('604c1e40-188a-4ed8-88bb-ecd202cec9ec'), target_run_id=None)],\n",
              "   'execution_time': 5.030335,\n",
              "   'run_id': '6c540c20-b97b-4ef6-be3a-1b8250da5432',\n",
              "   'output': 'FastAPI is a modern, fast (high-performance), web framework for building APIs with Python 3.6+ based on standard Python type hints. Here are some key features and benefits of FastAPI:\\n\\n1. **High Performance**: FastAPI is one of the fastest Python web frameworks available, rivaling the performance of Node.js and Go. It is built on top of Starlette for the web parts and Pydantic for the data parts.\\n\\n2. **Easy to Use**: FastAPI is designed to be easy to use and learn. It has a simple and intuitive syntax that allows developers to quickly create APIs.\\n\\n3. **Automatic Interactive Documentation**: FastAPI automatically generates interactive API documentation using Swagger UI and ReDoc. This makes it easy to test and understand the API endpoints.\\n\\n4. **Type Hints and Validation**: FastAPI leverages Python type hints to perform data validation and serialization. This ensures that the data received and sent by the API is of the correct type and format.\\n\\n5. **Dependency Injection**: FastAPI has a powerful dependency injection system that allows for the easy management of dependencies, such as database connections, authentication, and more.\\n\\n6. **Asynchronous Support**: FastAPI supports asynchronous programming, allowing for the creation of non-blocking endpoints that can handle many requests concurrently.\\n\\n7. **Built-in Security**: FastAPI includes built-in support for handling security and authentication, including OAuth2, JWT tokens, and more.\\n\\n8. **Extensible**: FastAPI is highly extensible and can be easily integrated with other libraries and frameworks.\\n\\nOverall, FastAPI is a powerful and efficient framework for building APIs in Python, offering a combination of high performance, ease of use, and robust features.',\n",
              "   'reference': {'must_mention': ['web', 'framework']}},\n",
              "  '3ebd133e-6305-48d8-82eb-1abe80e70095': {'input': {'question': 'How does FastAPI handle data validation?'},\n",
              "   'feedback': [EvaluationResult(key='must_mention', score=True, value=None, comment=None, correction=None, evaluator_info={}, feedback_config=None, source_run_id=UUID('f05d63bf-2718-4cc8-9f1d-c87b0cf70b38'), target_run_id=None)],\n",
              "   'execution_time': 9.568869,\n",
              "   'run_id': '30740f85-ef05-4af0-b663-c4c0dd815b27',\n",
              "   'output': 'FastAPI handles data validation using Pydantic, a data validation and settings management library. Here are the key aspects of how FastAPI handles data validation:\\n\\n1. **Pydantic Models**:\\n   - FastAPI uses Pydantic models to define the structure of request bodies, query parameters, and other data inputs.\\n   - Pydantic models are Python classes that inherit from `pydantic.BaseModel`. They define fields with types and optional validation constraints.\\n\\n2. **Automatic Validation**:\\n   - When a request is made, FastAPI automatically validates the incoming data against the defined Pydantic models.\\n   - If the data is valid, it is parsed and passed to the endpoint function as Python objects.\\n   - If the data is invalid, FastAPI returns a detailed error response indicating what went wrong.\\n\\n3. **Field Types and Constraints**:\\n   - Pydantic supports a wide range of field types, including standard Python types (e.g., `int`, `str`, `float`), as well as more complex types (e.g., `List`, `Dict`, `datetime`).\\n   - You can also add constraints to fields, such as `min_length`, `max_length`, `regex`, `gt` (greater than), `lt` (less than), etc.\\n\\n4. **Nested Models**:\\n   - Pydantic models can be nested, allowing for complex data structures to be validated.\\n   - This is useful for validating JSON objects with nested fields.\\n\\n5. **Custom Validators**:\\n   - Pydantic allows you to define custom validation logic using the `@validator` decorator.\\n   - This is useful for implementing complex validation rules that are not covered by standard field constraints.\\n\\n6. **Error Handling**:\\n   - FastAPI provides detailed error messages when validation fails, including the specific field that caused the error and the reason for the failure.\\n   - This makes it easier to debug and handle validation errors.\\n\\nHere is an example of how FastAPI handles data validation using Pydantic:\\n\\n```python\\nfrom fastapi import FastAPI, HTTPException\\nfrom pydantic import BaseModel, Field, validator\\nfrom typing import List\\n\\napp = FastAPI()\\n\\nclass Item(BaseModel):\\n    name: str\\n    description: str = None\\n    price: float\\n    tax: float = None\\n\\n    @validator(\\'price\\')\\n    def price_must_be_positive(cls, value):\\n        if value <= 0:\\n            raise ValueError(\\'Price must be positive\\')\\n        return value\\n\\nclass Order(BaseModel):\\n    items: List[Item]\\n    total: float\\n\\n@app.post(\"/orders/\")\\nasync def create_order(order: Order):\\n    return order\\n```\\n\\nIn this example:\\n- The `Item` model defines the structure of an item with fields `name`, `description`, `price`, and `tax`.\\n- A custom validator ensures that the `price` field is positive.\\n- The `Order` model contains a list of `Item` objects and a `total` field.\\n- When a POST request is made to the `/orders/` endpoint, FastAPI validates the incoming data against the `Order` model and its nested `Item` models. If the data is valid, it is passed to the `create_order` function. If not, an error response is returned.',\n",
              "   'reference': {'must_mention': ['Pydantic', 'validation']}},\n",
              "  '788904fc-8974-4e23-94f8-172aa69a06c2': {'input': {'question': 'What is Apache Airflow used for?'},\n",
              "   'feedback': [EvaluationResult(key='must_mention', score=False, value=None, comment=None, correction=None, evaluator_info={}, feedback_config=None, source_run_id=UUID('d58112f0-1813-469c-a65d-3fde0762f35c'), target_run_id=None)],\n",
              "   'execution_time': 4.656122,\n",
              "   'run_id': '6746f8f4-d5a5-461a-8baf-92f511c18e20',\n",
              "   'output': 'Apache Airflow is an open-source platform used to programmatically author, schedule, and monitor workflows. It is designed to manage complex computational workflows and data processing pipelines. Here are some key uses of Apache Airflow:\\n\\n1. **Workflow Automation**: Airflow allows users to define workflows as Directed Acyclic Graphs (DAGs) of tasks. This makes it easy to automate and manage complex workflows.\\n\\n2. **Scheduling**: Airflow provides a robust scheduling mechanism to run tasks at specified intervals or based on certain conditions.\\n\\n3. **Monitoring**: It offers a user-friendly web interface to monitor the status of workflows, view logs, and troubleshoot issues.\\n\\n4. **Scalability**: Airflow can scale to handle large volumes of tasks and workflows, making it suitable for enterprise-level data processing.\\n\\n5. **Extensibility**: It supports custom plugins and operators, allowing users to extend its functionality to meet specific needs.\\n\\n6. **Integration**: Airflow integrates well with various data sources, databases, and cloud services, making it a versatile tool for data engineering and ETL (Extract, Transform, Load) processes.\\n\\n7. **Data Pipelines**: It is commonly used to build and manage data pipelines, ensuring data is processed and moved efficiently between systems.\\n\\nOverall, Apache Airflow is a powerful tool for orchestrating and managing data workflows in a reliable and scalable manner.',\n",
              "   'reference': {'must_mention': ['workflow', 'orchestration']}},\n",
              "  'f851997b-93c5-42fe-8086-48a6bfea151c': {'input': {'question': 'How does Airflow schedule tasks?'},\n",
              "   'feedback': [EvaluationResult(key='must_mention', score=False, value=None, comment=None, correction=None, evaluator_info={}, feedback_config=None, source_run_id=UUID('549b3baa-e8b0-4393-9f16-c14923fd4427'), target_run_id=None)],\n",
              "   'execution_time': 5.197299,\n",
              "   'run_id': 'fd0e1087-7046-4409-bf84-cae4aca5bbf5',\n",
              "   'output': \"Apache Airflow schedules tasks using a combination of Directed Acyclic Graphs (DAGs), scheduling intervals, and task dependencies. Here's a detailed breakdown of how it works:\\n\\n1. **Directed Acyclic Graph (DAG):**\\n   - A DAG is a collection of tasks organized in a way that reflects their dependencies and execution order. Each DAG defines a workflow, and tasks within the DAG are nodes connected by directed edges that represent dependencies.\\n\\n2. **Scheduling Intervals:**\\n   - Airflow uses scheduling intervals to determine when a DAG should be executed. The scheduling interval can be defined using cron expressions, timedelta objects, or preset strings like `@daily`, `@hourly`, etc.\\n   - The `start_date` parameter specifies when the DAG should start running, and the `schedule_interval` parameter defines how often it should run.\\n\\n3. **Task Dependencies:**\\n   - Within a DAG, tasks can have dependencies on other tasks. These dependencies are defined using methods like `set_upstream` and `set_downstream`, or by using bitwise operators (`>>` and `<<`).\\n   - Airflow ensures that tasks are executed in the correct order based on these dependencies.\\n\\n4. **Task Instances:**\\n   - Each time a DAG is triggered, a DAG run is created, and task instances are generated for each task in the DAG. These task instances are scheduled to run according to the DAG's schedule and dependencies.\\n\\n5. **Scheduler:**\\n   - The Airflow scheduler is responsible for monitoring all DAGs and scheduling their task instances. It checks the scheduling intervals and dependencies to determine when tasks should be executed.\\n   - The scheduler places tasks in a queue, and the Airflow workers pick up tasks from this queue to execute them.\\n\\n6. **Execution:**\\n   - Tasks are executed by Airflow workers, which can run tasks in parallel. The execution of tasks is managed by the Airflow executor, which can be configured to use different backends like LocalExecutor, CeleryExecutor, KubernetesExecutor, etc.\\n\\n7. **Retries and Alerts:**\\n   - Airflow allows configuring retries and alerts for tasks. If a task fails, it can be retried a specified number of times with a delay between retries. Alerts can be set up to notify users of task failures or other events.\\n\\n8. **Backfilling:**\\n   - Airflow supports backfilling, which allows running a DAG for past dates. This is useful for catching up on missed runs or reprocessing data.\\n\\nBy combining these elements, Airflow provides a flexible and powerful way to schedule and manage workflows.\",\n",
              "   'reference': {'must_mention': ['scheduler', 'timing']}}},\n",
              " 'aggregate_metrics': None}"
            ]
          },
          "execution_count": 41,
          "metadata": {},
          "output_type": "execute_result"
        }
      ],
      "source": [
        "client.run_on_dataset(\n",
        "    dataset_name=dataset_name,\n",
        "    llm_or_chain_factory=agent_chain,\n",
        "    evaluation=eval_config,\n",
        "    verbose=True,\n",
        "    project_name=f\"RAG Pipeline - Evaluation - {uuid4().hex[0:8]}\",\n",
        "    project_metadata={\"version\": \"1.0.0\"},\n",
        ")"
      ]
    },
    {
      "cell_type": "markdown",
      "metadata": {
        "id": "jhTNe4kWrplB"
      },
      "source": [
        "## Part 2: LangGraph with Helpfulness:"
      ]
    },
    {
      "cell_type": "markdown",
      "metadata": {
        "id": "w1wKRddbIY_S"
      },
      "source": [
        "### Task 3: Adding Helpfulness Check and \"Loop\" Limits\n",
        "\n",
        "Now that we've done evaluation - let's see if we can add an extra step where we review the content we've generated to confirm if it fully answers the user's query!\n",
        "\n",
        "We're going to make a few key adjustments to account for this:\n",
        "\n",
        "1. We're going to add an artificial limit on how many \"loops\" the agent can go through - this will help us to avoid the potential situation where we never exit the loop.\n",
        "2. We'll add to our existing conditional edge to obtain the behaviour we desire."
      ]
    },
    {
      "cell_type": "markdown",
      "metadata": {
        "id": "npTYJ8ayR5B3"
      },
      "source": [
        "First, let's define our state again - we can check the length of the state object, so we don't need additional state for this."
      ]
    },
    {
      "cell_type": "code",
      "execution_count": 44,
      "metadata": {
        "id": "-LQ84YhyJG0w"
      },
      "outputs": [],
      "source": [
        "class AgentState(TypedDict):\n",
        "  messages: Annotated[list, add_messages]"
      ]
    },
    {
      "cell_type": "markdown",
      "metadata": {
        "id": "sD7EV0HqSQcb"
      },
      "source": [
        "Now we can set our graph up! This process will be almost entirely the same - with the inclusion of one additional node/conditional edge!"
      ]
    },
    {
      "cell_type": "markdown",
      "metadata": {
        "id": "oajBwLkFVi1N"
      },
      "source": [
        "####🏗️ Activity #5:\n",
        "\n",
        "Please write markdown for the following cells to explain what each is doing."
      ]
    },
    {
      "cell_type": "markdown",
      "metadata": {
        "id": "M6rN7feNVn9f"
      },
      "source": [
        "- we are  creating a new StateGraph using the AgentState class to track the agent's state\n",
        "\n",
        "\n",
        "- We are adding the \"agent\" node to the graph, which will call the model to generate responses (which is nothing but loading our function `call_model` which will take the last message and invoke the model and will append back the response to the AgentState )\n",
        "\n",
        "- We are adding the \"action\" node to the graph, which will handle tool calls based on the agent's output, (which is nothing but our defined tool belt)\n"
      ]
    },
    {
      "cell_type": "code",
      "execution_count": 45,
      "metadata": {
        "id": "6r6XXA5FJbVf"
      },
      "outputs": [],
      "source": [
        "graph_with_helpfulness_check = StateGraph(AgentState)\n",
        "\n",
        "graph_with_helpfulness_check.add_node(\"agent\", call_model)\n",
        "graph_with_helpfulness_check.add_node(\"action\", tool_node)"
      ]
    },
    {
      "cell_type": "markdown",
      "metadata": {
        "id": "XZ22o2mWVrfp"
      },
      "source": [
        " - Set the entry point of the graph to the \"agent\" node, This means that the graph's execution will start by calling the model through the \"agent\" node (It will take the user query as input)\n"
      ]
    },
    {
      "cell_type": "code",
      "execution_count": 46,
      "metadata": {
        "id": "HNWHwWxuRiLY"
      },
      "outputs": [],
      "source": [
        "graph_with_helpfulness_check.set_entry_point(\"agent\")"
      ]
    },
    {
      "cell_type": "code",
      "execution_count": 47,
      "metadata": {
        "id": "z_Sq3A9SaV1O"
      },
      "outputs": [],
      "source": [
        "from langchain_core.prompts import PromptTemplate\n",
        "from langchain_core.output_parsers import StrOutputParser\n",
        "\n",
        "def tool_call_or_helpful(state):\n",
        "  last_message = state[\"messages\"][-1]\n",
        "\n",
        "  if last_message.tool_calls:\n",
        "    return \"action\"\n",
        "\n",
        "  initial_query = state[\"messages\"][0]\n",
        "  final_response = state[\"messages\"][-1]\n",
        "\n",
        "  if len(state[\"messages\"]) > 10:\n",
        "    return \"END\"\n",
        "\n",
        "  prompt_template = \"\"\"\\\n",
        "  Given an initial query and a final response, determine if the final response is extremely helpful or not. Please indicate helpfulness with a 'Y' and unhelpfulness as an 'N'.\n",
        "\n",
        "  Initial Query:\n",
        "  {initial_query}\n",
        "\n",
        "  Final Response:\n",
        "  {final_response}\"\"\"\n",
        "\n",
        "  prompt_template = PromptTemplate.from_template(prompt_template)\n",
        "\n",
        "  helpfulness_check_model = ChatOpenAI(model=\"gpt-4\")\n",
        "\n",
        "  helpfulness_chain = prompt_template | helpfulness_check_model | StrOutputParser()\n",
        "\n",
        "  helpfulness_response = helpfulness_chain.invoke({\"initial_query\" : initial_query.content, \"final_response\" : final_response.content})\n",
        "\n",
        "  if \"Y\" in helpfulness_response:\n",
        "    return \"end\"\n",
        "  else:\n",
        "    return \"continue\""
      ]
    },
    {
      "cell_type": "markdown",
      "metadata": {
        "id": "Fz1u9Vf4SHxJ"
      },
      "source": [
        "####🏗️ Activity #4:\n",
        "\n",
        "Please write what is happening in our `tool_call_or_helpful` function!\n",
        "\n",
        "- Here we are defining `tool_call_or_helpful` function, which serves as a conditional edge in a state graph. Here's a brief overview:\n",
        "    - The function first checks if the last message in the state contains any tool calls. If it does, the graph proceeds to the \"action\" node (that means it will execute the appropriate function call duckduckgo/arxiv)\n",
        "\n",
        "    - Loop Limit: If the number of messages exceeds 10, the function returns \"END\" to prevent infinite looping.\n",
        "\n",
        "    - If loop does not exceeds 10 cycles then Helpfulness Check: The function then evaluates the helpfulness of the final response using a GPT-4 model. It uses a PromptTemplate to structure the input for the model, which is then parsed by a StrOutputParser. If the model determines the response is helpful (\"Y\"), the function returns \"end.\" Otherwise, it returns \"continue\" to prompt further action or revision."
      ]
    },
    {
      "cell_type": "markdown",
      "metadata": {
        "id": "6BhnBW2YVsJO"
      },
      "source": [
        "- Add conditional edges to the \"agent\" node in the graph\n",
        "- The function tool_call_or_helpful determines the next step based on the current state\n"
      ]
    },
    {
      "cell_type": "code",
      "execution_count": 48,
      "metadata": {
        "id": "aVTKnWMbP_8T"
      },
      "outputs": [],
      "source": [
        "graph_with_helpfulness_check.add_conditional_edges(\n",
        "    \"agent\",\n",
        "    tool_call_or_helpful,\n",
        "    {\n",
        "        \"continue\" : \"agent\",\n",
        "        \"action\" : \"action\",\n",
        "        \"end\" : END\n",
        "    }\n",
        ")"
      ]
    },
    {
      "cell_type": "markdown",
      "metadata": {
        "id": "ZGDLEWOIVtK0"
      },
      "source": [
        "- Add an edge from the \"action\" node back to the \"agent\" node\n",
        "- This creates a loop where, after performing an action, the agent node is invoked again to process the results\n",
        "- If don't add this edge, our process will get stuck in the action it's self, since there is no path after that.\n"
      ]
    },
    {
      "cell_type": "code",
      "execution_count": 54,
      "metadata": {
        "id": "cbDK2MbuREgU"
      },
      "outputs": [
        {
          "name": "stderr",
          "output_type": "stream",
          "text": [
            "Adding an edge to a graph that has already been compiled. This will not be reflected in the compiled graph.\n"
          ]
        }
      ],
      "source": [
        "graph_with_helpfulness_check.add_edge(\"action\", \"agent\")"
      ]
    },
    {
      "cell_type": "markdown",
      "metadata": {
        "id": "rSI8AOaEVvT-"
      },
      "source": [
        "- Compile the graph with helpfulness check into an executable form, This creates a runnable agent from the graph that includes the defined nodes and edges\n",
        "\n"
      ]
    },
    {
      "cell_type": "code",
      "execution_count": 50,
      "metadata": {
        "id": "oQldl8ERQ8lf"
      },
      "outputs": [],
      "source": [
        "agent_with_helpfulness_check = graph_with_helpfulness_check.compile()"
      ]
    },
    {
      "cell_type": "markdown",
      "metadata": {
        "id": "F67FGCMRVwGz"
      },
      "source": [
        "- Define the input message that will be processed by the agent\n",
        "\n",
        "- Execute the compiled agent asynchronously with streaming updates, The loop iterates over each chunk of the response generated by the agent, For each node in the chunk, it prints the node's name and the messages generated at that stage\n",
        "\n"
      ]
    },
    {
      "cell_type": "code",
      "execution_count": 51,
      "metadata": {
        "colab": {
          "base_uri": "https://localhost:8080/"
        },
        "id": "B3oo8E-PRK1T",
        "outputId": "22470df4-9aa7-4751-95b6-d30ce71b17db"
      },
      "outputs": [
        {
          "name": "stdout",
          "output_type": "stream",
          "text": [
            "Receiving update from node: 'agent'\n",
            "[AIMessage(content='', additional_kwargs={'tool_calls': [{'id': 'call_qYHh9yGWl8ZXBbvUxUaJLkRy', 'function': {'arguments': '{\"query\": \"LoRA machine learning\"}', 'name': 'duckduckgo_search'}, 'type': 'function'}, {'id': 'call_VQDw7q9RMPsrv9Lf40UW9phx', 'function': {'arguments': '{\"query\": \"Tim Dettmers\"}', 'name': 'duckduckgo_search'}, 'type': 'function'}, {'id': 'call_lynT8JvjXXznxTdhYItdRGPS', 'function': {'arguments': '{\"query\": \"Attention in machine learning\"}', 'name': 'duckduckgo_search'}, 'type': 'function'}], 'refusal': None}, response_metadata={'token_usage': {'completion_tokens': 76, 'prompt_tokens': 171, 'total_tokens': 247}, 'model_name': 'gpt-4o-2024-05-13', 'system_fingerprint': 'fp_157b3831f5', 'finish_reason': 'tool_calls', 'logprobs': None}, id='run-d286620b-15b8-4f34-86ef-5fbfb1377040-0', tool_calls=[{'name': 'duckduckgo_search', 'args': {'query': 'LoRA machine learning'}, 'id': 'call_qYHh9yGWl8ZXBbvUxUaJLkRy', 'type': 'tool_call'}, {'name': 'duckduckgo_search', 'args': {'query': 'Tim Dettmers'}, 'id': 'call_VQDw7q9RMPsrv9Lf40UW9phx', 'type': 'tool_call'}, {'name': 'duckduckgo_search', 'args': {'query': 'Attention in machine learning'}, 'id': 'call_lynT8JvjXXznxTdhYItdRGPS', 'type': 'tool_call'}], usage_metadata={'input_tokens': 171, 'output_tokens': 76, 'total_tokens': 247})]\n",
            "\n",
            "\n",
            "\n",
            "Receiving update from node: 'action'\n",
            "[ToolMessage(content='Catastrophic forgetting, in simple terms, is when a machine learning model, like a neural network or artificial intelligence system, forgets how to perform a task it previously learned when it\\'s ... Reduced Memory Footprint: LoRA decreases memory needs by lowering the number of parameters to update, aiding in the management of large-scale models. Faster Training and Adaptation: By simplifying computational demands, LoRA accelerates the training and fine-tuning of large models for new tasks. LoRA, which stands for \"Low-Rank Adaptation\", distinguishes itself by training and storing the additional weight changes in a matrix while freezing all the pre-trained model weights. LoRA is ... \"Lora The Tuner\" By Daniel Warfield using MidJourney. All images by the author unless otherwise specified. Fine tuning is the process of tailoring a machine learning model to a specific application, which can be vital in achieving consistent and high quality performance. In this article, we\\'ll explain how LoRA works in plain English. You will gain an understanding of how it\\'s similar and different to full-parameter fine-tuning, what is going on behind the scenes, and the hyperparameters you need to adjust to use it in practice.', name='duckduckgo_search', tool_call_id='call_qYHh9yGWl8ZXBbvUxUaJLkRy'), ToolMessage(content=\"Allen School Ph.D. student Tim Dettmers accepted the grand prize for QLoRA, a novel approach to finetuning pretrained models that significantly reduces the amount of GPU memory required — from over 780GB to less than 48GB — to finetune a 65B parameter model. With QLoRA, the largest publicly available models can be finetuned on a single ... — Tim Dettmers is joining Ai2 as an AI researcher. Dettmers specializes in efficient deep learning at the intersection of machine learning, NLP, and computer systems with a focus on quantization ... Its purpose is to make cutting-edge research by Tim Dettmers, a leading academic expert on quantization and the use of deep learning hardware accelerators, accessible to the general public. QLoRA: One of the core contributions of bitsandbytes towards the democratization of AI. efficient finetuning of quantized LLMs. AUTHORs: Tim Dettmers, Artidoro Pagnoni, Ari Holtzman, Luke Zettlemoyer Authors Info & Claims. NIPS '23: Proceedings of the 37th International Conference on Neural Information Processing Systems. Article No.: 441, Pages 10088 - 10115. Published: 30 May 2024 Publication History. If you have a curiosity about how fancy graphics cards actually work, and why they are so well-suited to AI-type applications, then take a few minutes to read [Tim Dettmers] explain why this is so.…\", name='duckduckgo_search', tool_call_id='call_VQDw7q9RMPsrv9Lf40UW9phx'), ToolMessage(content='Learn how attention mechanisms in deep learning enable models to focus on relevant information and improve performance in tasks such as machine translation, image captioning, and speech recognition. Understand the steps and components of attention mechanism architecture and see examples of its applications. Attention mechanism is a fundamental invention in artificial intelligence and machine learning, redefining the capabilities of deep learning models. This mechanism, inspired by the human mental process of selective focus, has emerged as a pillar in a variety of applications, accelerating developments in natural language processing, computer vision, and beyond. There are several types of attention mechanisms, each designed to cater to specific use cases. Here are a few notable ones: 1. Self-Attention Mechanism. Self-attention, also known as intra ... They all use transformer architecture with attention mechanisms at their core to solve problems across domains. In the Transformer series, we go over the ingredients that have made Transformers a universal recipe for machine learning. First up, we take a visual dive to understand the attention mechanism: Why transformers and attention took over. The introduction of the Transformer model was a significant leap forward for the concept of attention in deep learning. Vaswani et al. described this model in the seminal paper titled \"Attention is All You Need\" in 2017. ... Attention mechanisms represent advancements in machine learning and computer vision, enabling models to prioritize ...', name='duckduckgo_search', tool_call_id='call_lynT8JvjXXznxTdhYItdRGPS')]\n",
            "\n",
            "\n",
            "\n",
            "Receiving update from node: 'agent'\n",
            "[AIMessage(content='### LoRA in Machine Learning\\nLoRA, which stands for \"Low-Rank Adaptation,\" is a technique used in machine learning to fine-tune pre-trained models. It works by training and storing additional weight changes in a matrix while keeping all the pre-trained model weights frozen. This approach reduces the memory footprint and computational demands, making it faster and more efficient to train and adapt large-scale models for new tasks.\\n\\n### Tim Dettmers\\nTim Dettmers is a researcher specializing in efficient deep learning, particularly at the intersection of machine learning, natural language processing (NLP), and computer systems. He is known for his work on quantization and the use of deep learning hardware accelerators. One of his notable contributions is QLoRA, a method that significantly reduces the GPU memory required to fine-tune large pre-trained models.\\n\\n### Attention in Machine Learning\\nAttention mechanisms are a fundamental invention in artificial intelligence and machine learning, enabling models to focus on relevant information and improve performance in various tasks such as machine translation, image captioning, and speech recognition. Inspired by the human mental process of selective focus, attention mechanisms have become a cornerstone in applications across natural language processing, computer vision, and beyond. The Transformer model, introduced in the paper \"Attention is All You Need\" by Vaswani et al. in 2017, is a significant leap forward in utilizing attention mechanisms in deep learning.', additional_kwargs={'refusal': None}, response_metadata={'token_usage': {'completion_tokens': 283, 'prompt_tokens': 1094, 'total_tokens': 1377}, 'model_name': 'gpt-4o-2024-05-13', 'system_fingerprint': 'fp_157b3831f5', 'finish_reason': 'stop', 'logprobs': None}, id='run-40e4e1db-02f6-43ed-8100-e8b9c3f5f809-0', usage_metadata={'input_tokens': 1094, 'output_tokens': 283, 'total_tokens': 1377})]\n",
            "\n",
            "\n",
            "\n"
          ]
        }
      ],
      "source": [
        "inputs = {\"messages\" : [HumanMessage(content=\"Related to machine learning, what is LoRA? Also, who is Tim Dettmers? Also, what is Attention?\")]}\n",
        "\n",
        "async for chunk in agent_with_helpfulness_check.astream(inputs, stream_mode=\"updates\"):\n",
        "    for node, values in chunk.items():\n",
        "        print(f\"Receiving update from node: '{node}'\")\n",
        "        print(values[\"messages\"])\n",
        "        print(\"\\n\\n\")"
      ]
    },
    {
      "cell_type": "markdown",
      "metadata": {
        "id": "yVmZPs6lnpsM"
      },
      "source": [
        "### Task 4: LangGraph for the \"Patterns\" of GenAI\n",
        "\n",
        "Let's ask our system about the 4 patterns of Generative AI:\n",
        "\n",
        "1. Prompt Engineering\n",
        "2. RAG\n",
        "3. Fine-tuning\n",
        "4. Agents"
      ]
    },
    {
      "cell_type": "code",
      "execution_count": 52,
      "metadata": {
        "id": "ZoLl7GlXoae-"
      },
      "outputs": [],
      "source": [
        "patterns = [\"prompt engineering\", \"RAG\", \"fine-tuning\", \"LLM-based agents\"]"
      ]
    },
    {
      "cell_type": "code",
      "execution_count": 53,
      "metadata": {
        "colab": {
          "base_uri": "https://localhost:8080/"
        },
        "id": "Zkh0YJuCp3Zl",
        "outputId": "0593c6f5-0a1d-41f6-960b-f32d101b3ade"
      },
      "outputs": [
        {
          "name": "stdout",
          "output_type": "stream",
          "text": [
            "Prompt engineering is a concept primarily associated with the field of artificial intelligence, particularly in the context of natural language processing (NLP) and large language models like GPT-3. It involves the design and crafting of prompts (input text) to elicit desired responses from AI models. The goal is to optimize the input to get the most accurate, relevant, or useful output from the model.\n",
            "\n",
            "### Key Aspects of Prompt Engineering:\n",
            "1. **Crafting Effective Prompts**: Designing prompts that are clear, specific, and tailored to the task at hand.\n",
            "2. **Iterative Testing**: Continuously refining prompts based on the responses received to improve the quality of the output.\n",
            "3. **Understanding Model Behavior**: Gaining insights into how the model interprets different types of input to better predict and influence its responses.\n",
            "\n",
            "### Emergence of Prompt Engineering:\n",
            "Prompt engineering became more prominent with the advent of large-scale language models like OpenAI's GPT-3, which was released in June 2020. The ability of these models to generate human-like text based on prompts led to a growing interest in how to effectively interact with them to achieve specific goals. The term \"prompt engineering\" itself started gaining traction around this time as researchers and practitioners began to explore and document best practices for working with these advanced AI systems.\n",
            "\n",
            "To get more detailed information on the history and development of prompt engineering, I can look up recent articles or papers on the topic. Would you like me to do that?\n",
            "\n",
            "\n",
            "\n",
            "RAG stands for Retrieval-Augmented Generation. It is a technique in natural language processing (NLP) that combines retrieval-based methods with generative models to improve the quality and relevance of generated text. The key idea is to retrieve relevant documents or pieces of information from a large corpus and use this retrieved information to guide the generation process.\n",
            "\n",
            "RAG was introduced by Facebook AI Research (FAIR) in a paper titled \"Retrieval-Augmented Generation for Knowledge-Intensive NLP Tasks,\" which was published on arXiv in 2020. The technique has since gained attention for its ability to enhance the performance of generative models, especially in tasks that require access to a large amount of external knowledge.\n",
            "\n",
            "Would you like more detailed information or the specific paper on RAG?\n",
            "\n",
            "\n",
            "\n",
            "Fine-tuning is a process in machine learning where a pre-trained model is further trained on a new dataset to adapt it to a specific task. This approach leverages the knowledge the model has already acquired during its initial training on a large, general dataset, and refines it to perform better on a more specific task or domain. Fine-tuning is particularly useful in natural language processing (NLP) and computer vision, where large pre-trained models like BERT, GPT, and ResNet can be adapted to specific tasks such as sentiment analysis, text classification, or object detection.\n",
            "\n",
            "The concept of fine-tuning has been around for a while, but it gained significant attention and popularity with the advent of deep learning and the development of large pre-trained models. One of the key moments when fine-tuning became prominent was with the introduction of the BERT model by Google in 2018. BERT (Bidirectional Encoder Representations from Transformers) demonstrated the effectiveness of fine-tuning on a variety of NLP tasks, setting new benchmarks and leading to widespread adoption of this technique.\n",
            "\n",
            "Would you like more detailed information or specific examples of fine-tuning in practice?\n",
            "\n",
            "\n",
            "\n",
            "### What are LLM-based Agents?\n",
            "\n",
            "LLM-based agents are autonomous systems that leverage Large Language Models (LLMs) to interact with their environment, make decisions, and perform tasks. These agents utilize the capabilities of LLMs to understand and generate human-like text, enabling them to perform complex tasks that require natural language understanding and generation. They are designed to be self-evolving, meaning they can improve their performance over time through interactions with their environment and other agents.\n",
            "\n",
            "### Key Features:\n",
            "1. **Perception and Sensing**: LLM-based agents can perceive and sense environmental data.\n",
            "2. **Action and Interaction**: They take actions based on the information they perceive, which may involve using tools or interacting with other agents.\n",
            "3. **Self-Evolving**: These agents have the capability to evolve and improve their performance over time.\n",
            "4. **Multi-Agent Systems**: They can be extended to multi-agent systems to improve task-solving capabilities.\n",
            "\n",
            "### Historical Context:\n",
            "The concept of LLM-based agents has gained significant attention in recent years, particularly with the advancements in large language models like GPT-3 and beyond. The research and development in this area have been accelerating, with notable progress being made in both academia and industry.\n",
            "\n",
            "### Timeline:\n",
            "- **2020**: Initial research into integrating deep reinforcement learning with LLMs began to surface.\n",
            "- **2023**: Studies focused on improving human-agent interactions and empathy towards robotic agents.\n",
            "- **2024**: Introduction of methods like EvoAgent to automatically extend expert agents to multi-agent systems, showcasing the rapid evolution and interest in this field.\n",
            "\n",
            "### Notable Research:\n",
            "1. **EvoAgent (2024)**: A method to automatically extend expert agents to multi-agent systems via evolutionary algorithms, improving the effectiveness of LLM-based agents in solving tasks.\n",
            "2. **Cooperative Heterogeneous Deep Reinforcement Learning (2020)**: A framework that integrates the advantages of heterogeneous agents to learn policies effectively.\n",
            "3. **Improving Robotic Virtual Agent's Errors (2023)**: Research focused on human empathy and acceptance of agent mistakes, providing insights into designing more human-friendly agents.\n",
            "\n",
            "### Conclusion:\n",
            "LLM-based agents represent a promising and rapidly evolving field, with significant potential for applications in various domains. The advancements in LLMs have paved the way for more sophisticated and capable autonomous agents, marking a new era in artificial intelligence.\n",
            "\n",
            "\n",
            "\n"
          ]
        }
      ],
      "source": [
        "for pattern in patterns:\n",
        "  what_is_string = f\"What is {pattern} and when did it break onto the scene??\"\n",
        "  inputs = {\"messages\" : [HumanMessage(content=what_is_string)]}\n",
        "  messages = agent_with_helpfulness_check.invoke(inputs)\n",
        "  print(messages[\"messages\"][-1].content)\n",
        "  print(\"\\n\\n\")"
      ]
    }
  ],
  "metadata": {
    "colab": {
      "provenance": []
    },
    "kernelspec": {
      "display_name": "Python 3",
      "name": "python3"
    },
    "language_info": {
      "codemirror_mode": {
        "name": "ipython",
        "version": 3
      },
      "file_extension": ".py",
      "mimetype": "text/x-python",
      "name": "python",
      "nbconvert_exporter": "python",
      "pygments_lexer": "ipython3",
      "version": "3.11.8"
    }
  },
  "nbformat": 4,
  "nbformat_minor": 0
}
