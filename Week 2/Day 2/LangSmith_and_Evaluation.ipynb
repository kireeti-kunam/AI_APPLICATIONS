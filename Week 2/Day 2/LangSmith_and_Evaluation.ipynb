{
  "cells": [
    {
      "cell_type": "markdown",
      "metadata": {
        "id": "Fa_QpI0RXQKx"
      },
      "source": [
        "# LangSmith and Evaluation Overview with AI Makerspace\n",
        "\n",
        "Today we'll be looking at an amazing tool:\n",
        "\n",
        "[LangSmith](https://docs.smith.langchain.com/)!\n",
        "\n",
        "This tool will help us monitor, test, debug, and evaluate our LangChain applications - and more!\n",
        "\n",
        "We'll also be looking at a few Advanced Retrieval techniques along the way - and evaluate it using LangSmith!\n",
        "\n",
        "✋BREAKOUT ROOM #2:\n",
        "- Task 1: Dependencies and OpenAI API Key\n",
        "- Task 2: LCEL RAG Chain\n",
        "- Task 3: Setting Up LangSmith\n",
        "- Task 4: Examining the Trace in LangSmith!\n",
        "- Task 5: Create Testing Dataset\n",
        "- Task 6: Evaluation"
      ]
    },
    {
      "cell_type": "markdown",
      "metadata": {
        "id": "tw5ok9p-XuUs"
      },
      "source": [
        "## Task 1: Dependencies and OpenAI API Key\n",
        "\n",
        "We'll be using OpenAI's suite of models today to help us generate and embed our documents for a simple RAG system built on top of LangChain's blogs!"
      ]
    },
    {
      "cell_type": "code",
      "execution_count": 1,
      "metadata": {
        "colab": {
          "base_uri": "https://localhost:8080/"
        },
        "id": "jhSjB1O6-Y0J",
        "outputId": "1f43fdba-f1b4-4cf4-b8b0-3469edc29c80"
      },
      "outputs": [
        {
          "name": "stdout",
          "output_type": "stream",
          "text": [
            "\u001b[31mERROR: pip's dependency resolver does not currently take into account all the packages that are installed. This behaviour is the source of the following dependency conflicts.\n",
            "google-api-core 2.15.0 requires protobuf!=3.20.0,!=3.20.1,!=4.21.0,!=4.21.1,!=4.21.2,!=4.21.3,!=4.21.4,!=4.21.5,<5.0.0.dev0,>=3.19.5, but you have protobuf 5.27.4 which is incompatible.\n",
            "googleapis-common-protos 1.62.0 requires protobuf!=3.20.0,!=3.20.1,!=4.21.1,!=4.21.2,!=4.21.3,!=4.21.4,!=4.21.5,<5.0.0.dev0,>=3.19.5, but you have protobuf 5.27.4 which is incompatible.\u001b[0m\u001b[31m\n",
            "\u001b[0m"
          ]
        }
      ],
      "source": [
        "!pip install langchain_core langchain_openai langchain_community langchain-qdrant qdrant-client langsmith openai tiktoken cohere lxml -qU"
      ]
    },
    {
      "cell_type": "code",
      "execution_count": 2,
      "metadata": {
        "colab": {
          "base_uri": "https://localhost:8080/"
        },
        "id": "ADl8-whIAUHD",
        "outputId": "927fd78b-8510-4bea-9e68-a3c74d3eb5a1"
      },
      "outputs": [],
      "source": [
        "import os\n",
        "import getpass\n",
        "\n",
        "os.environ[\"OPENAI_API_KEY\"] = getpass.getpass(\"Enter your OpenAI API Key:\")"
      ]
    },
    {
      "cell_type": "markdown",
      "metadata": {
        "id": "923xinz42sWV"
      },
      "source": [
        "#### Asyncio Bug Handling\n",
        "\n",
        "This is necessary for Colab."
      ]
    },
    {
      "cell_type": "code",
      "execution_count": 3,
      "metadata": {
        "id": "m9U0SbQN2sWc"
      },
      "outputs": [],
      "source": [
        "import nest_asyncio\n",
        "nest_asyncio.apply()"
      ]
    },
    {
      "cell_type": "markdown",
      "metadata": {
        "id": "Cx2AOb-QHwJm"
      },
      "source": [
        "## Task #2: Create a Simple RAG Application Using Qdrant, Hugging Face, and LCEL\n",
        "\n",
        "Now that we have a grasp on how LCEL works, and how we can use LangChain and Hugging Face to interact with our data - let's step it up a notch and incorporate Qdrant!"
      ]
    },
    {
      "cell_type": "markdown",
      "metadata": {
        "id": "XYJB3IxEwpnh"
      },
      "source": [
        "## LangChain Powered RAG\n",
        "\n",
        "First and foremost, LangChain provides a convenient way to store our chunks and their embeddings.\n",
        "\n",
        "It's called a `VectorStore`!\n",
        "\n",
        "We'll be using QDrant as our `VectorStore` today. You can read more about it [here](https://qdrant.tech/documentation/).\n",
        "\n",
        "Think of a `VectorStore` as a smart way to house your chunks and their associated embedding vectors. The implementation of the `VectorStore` also allows for smarter and more efficient search of our embedding vectors - as the method we used above would not scale well as we got into the millions of chunks.\n",
        "\n",
        "Otherwise, the process remains relatively similar under the hood!\n",
        "\n",
        "We'll use a SiteMapLoader to scrape the LangChain blogs - which will serve as our data for today!"
      ]
    },
    {
      "cell_type": "markdown",
      "metadata": {
        "id": "pBErqPRgxgZR"
      },
      "source": [
        "### Data Collection\n",
        "\n",
        "We'll be leveraging the `SitemapLoader` to load our PDF directly from the web!"
      ]
    },
    {
      "cell_type": "code",
      "execution_count": 10,
      "metadata": {
        "colab": {
          "base_uri": "https://localhost:8080/"
        },
        "id": "-AHA9L3Jxo3r",
        "outputId": "c3535941-ce13-4ddd-ef08-b6b4ab1e507b"
      },
      "outputs": [
        {
          "name": "stderr",
          "output_type": "stream",
          "text": [
            "Fetching pages: 100%|##########| 220/220 [00:22<00:00,  9.66it/s]\n"
          ]
        }
      ],
      "source": [
        "from langchain.document_loaders import SitemapLoader\n",
        "\n",
        "documents = SitemapLoader(web_path=\"https://blog.langchain.dev/sitemap-posts.xml\").load()"
      ]
    },
    {
      "cell_type": "markdown",
      "metadata": {
        "id": "uH7ZPVJLx6Cn"
      },
      "source": [
        "### Chunking Our Documents"
      ]
    },
    {
      "cell_type": "markdown",
      "metadata": {
        "id": "NsSCRQUSyBKT"
      },
      "source": [
        "Let's do the same process as we did before with our `RecursiveCharacterTextSplitter` - but this time we'll use ~200 tokens as our max chunk size!"
      ]
    },
    {
      "cell_type": "code",
      "execution_count": 12,
      "metadata": {
        "id": "SzolG1FLx2f_"
      },
      "outputs": [],
      "source": [
        "from langchain.text_splitter import RecursiveCharacterTextSplitter\n",
        "\n",
        "text_splitter = RecursiveCharacterTextSplitter(\n",
        "    chunk_size = 500,\n",
        "    chunk_overlap = 0,\n",
        "    length_function = len,\n",
        ")\n",
        "\n",
        "split_chunks = text_splitter.split_documents(documents)"
      ]
    },
    {
      "cell_type": "code",
      "execution_count": 13,
      "metadata": {
        "colab": {
          "base_uri": "https://localhost:8080/"
        },
        "id": "fpV4f1eXyXVJ",
        "outputId": "a666d551-6b20-4761-82ad-6f9b524d1660"
      },
      "outputs": [
        {
          "data": {
            "text/plain": [
              "4821"
            ]
          },
          "execution_count": 13,
          "metadata": {},
          "output_type": "execute_result"
        }
      ],
      "source": [
        "len(split_chunks)"
      ]
    },
    {
      "cell_type": "markdown",
      "metadata": {
        "id": "YTJ60Ck6ybe_"
      },
      "source": [
        "Alright, now we have 516 ~200 token long documents.\n",
        "\n",
        "Let's verify the process worked as intended by checking our max document length."
      ]
    },
    {
      "cell_type": "code",
      "execution_count": 14,
      "metadata": {
        "colab": {
          "base_uri": "https://localhost:8080/"
        },
        "id": "950mB338yZR8",
        "outputId": "9813bfb9-cf80-4787-c962-69a5b1ccdff6"
      },
      "outputs": [
        {
          "name": "stdout",
          "output_type": "stream",
          "text": [
            "499\n"
          ]
        }
      ],
      "source": [
        "max_chunk_length = 0\n",
        "\n",
        "for chunk in split_chunks:\n",
        "  max_chunk_length = max(max_chunk_length, len(chunk.page_content))\n",
        "\n",
        "print(max_chunk_length)"
      ]
    },
    {
      "cell_type": "markdown",
      "metadata": {
        "id": "TDt3RufQy1cP"
      },
      "source": [
        "Perfect! Now we can carry on to creating and storing our embeddings."
      ]
    },
    {
      "cell_type": "markdown",
      "metadata": {
        "id": "kocCe4zLy5qT"
      },
      "source": [
        "### Embeddings and Vector Storage\n",
        "\n",
        "We'll use the `text-embedding-3-small` embedding model again - and `Qdrant` to store all our embedding vectors for easy retrieval later!"
      ]
    },
    {
      "cell_type": "code",
      "execution_count": 18,
      "metadata": {
        "id": "7M0X1eVlWPFf"
      },
      "outputs": [],
      "source": [
        "from langchain_community.vectorstores import Qdrant\n",
        "from langchain_openai.embeddings import OpenAIEmbeddings\n",
        "\n",
        "embedding_model = OpenAIEmbeddings(model=\"text-embedding-3-small\")\n",
        "\n",
        "qdrant_vectorstore = Qdrant.from_documents(\n",
        "    documents=split_chunks,\n",
        "    embedding=embedding_model,\n",
        "    location=\":memory:\"\n",
        ")"
      ]
    },
    {
      "cell_type": "markdown",
      "metadata": {
        "id": "d-NDvjfzXhVp"
      },
      "source": [
        "Now let's set up our retriever, just as we saw before, but this time using LangChain's simple `as_retriever()` method!"
      ]
    },
    {
      "cell_type": "code",
      "execution_count": 19,
      "metadata": {
        "id": "Edjx19YBXavZ"
      },
      "outputs": [],
      "source": [
        "qdrant_retriever = qdrant_vectorstore.as_retriever()"
      ]
    },
    {
      "cell_type": "markdown",
      "metadata": {
        "id": "B1OM0DiYcOj-"
      },
      "source": [
        "#### Back to the Flow"
      ]
    },
    {
      "cell_type": "markdown",
      "metadata": {
        "id": "J7apXaEBzQai"
      },
      "source": [
        "We're ready to move to the next step!"
      ]
    },
    {
      "cell_type": "markdown",
      "metadata": {
        "id": "xMhcU37dzV5k"
      },
      "source": [
        "### Setting up our RAG\n",
        "\n",
        "We'll use the LCEL we touched on earlier to create a RAG chain.\n",
        "\n",
        "Let's think through each part:\n",
        "\n",
        "1. First we need to retrieve context\n",
        "2. We need to pipe that context to our model\n",
        "3. We need to parse that output\n",
        "\n",
        "Let's start by setting up our prompt again, just so it's fresh in our minds!"
      ]
    },
    {
      "cell_type": "markdown",
      "metadata": {
        "id": "oatgDa7cOXWV"
      },
      "source": [
        "####🏗️ Activity #2:\n",
        "\n",
        "Complete the prompt so that your RAG application answers queries based on the context provided, but *does not* answer queries if the context is unrelated to the query."
      ]
    },
    {
      "cell_type": "code",
      "execution_count": 20,
      "metadata": {
        "id": "TE5tick_YPJj"
      },
      "outputs": [],
      "source": [
        "from langchain.prompts import ChatPromptTemplate\n",
        "\n",
        "base_rag_prompt_template = \"\"\"\\\n",
        "Please provide an answer to the question based on the following context. If the question is unrelated to the context, respond with \"The question is unrelated to the provided context.\"\n",
        "\n",
        "Context:\n",
        "{context}\n",
        "\n",
        "Question:\n",
        "{question}\n",
        "\"\"\"\n",
        "\n",
        "base_rag_prompt = ChatPromptTemplate.from_template(base_rag_prompt_template)"
      ]
    },
    {
      "cell_type": "markdown",
      "metadata": {
        "id": "DI2tNXIT1iuB"
      },
      "source": [
        "We'll set our Generator - `gpt-4o` in this case - below!"
      ]
    },
    {
      "cell_type": "code",
      "execution_count": 42,
      "metadata": {
        "id": "rZ-9gF1x1iEz"
      },
      "outputs": [],
      "source": [
        "from langchain_openai.chat_models import ChatOpenAI\n",
        "\n",
        "base_llm = ChatOpenAI(model=\"gpt-4o-mini\", tags=[\"base_llm\"])"
      ]
    },
    {
      "cell_type": "markdown",
      "metadata": {
        "id": "tZKadufhc2RL"
      },
      "source": [
        "#### Our RAG Chain\n",
        "\n",
        "Notice how we have a bit of a more complex chain this time - that's because we want to return our sources with the response.\n",
        "\n",
        "Let's break down the chain step-by-step:\n",
        "\n",
        "1. We invoke the chain with the `question` item. Notice how we only need to provide `question` since both the retreiver and the `\"question\"` object depend on it.\n",
        "  - We also chain our `\"question\"` into our `retriever`! This is what ultimately collects the context through Qdrant.\n",
        "2. We assign our collected context to a `RunnablePassthrough()` from the previous object. This is going to let us simply pass it through to the next step, but still allow us to run that section of the chain.\n",
        "3. We finally collect our response by chaining our prompt, which expects both a `\"question\"` and `\"context\"`, into our `llm`. We also, collect the `\"context\"` again so we can output it in the final response object.\n",
        "\n",
        "The key thing to keep in mind here is that we need to pass our context through *after* we've retrieved it - to populate the object in a way that doesn't require us to call it or try and use it for something else."
      ]
    },
    {
      "cell_type": "code",
      "execution_count": 22,
      "metadata": {
        "id": "VnGthXpzzo-R"
      },
      "outputs": [],
      "source": [
        "from operator import itemgetter\n",
        "from langchain.schema.output_parser import StrOutputParser\n",
        "from langchain.schema.runnable import RunnablePassthrough\n",
        "\n",
        "retrieval_augmented_qa_chain = (\n",
        "    # INVOKE CHAIN WITH: {\"question\" : \"<<SOME USER QUESTION>>\"}\n",
        "    # \"question\" : populated by getting the value of the \"question\" key\n",
        "    # \"context\"  : populated by getting the value of the \"question\" key and chaining it into the base_retriever\n",
        "    {\"context\": itemgetter(\"question\") | qdrant_retriever, \"question\": itemgetter(\"question\")}\n",
        "    # \"context\"  : is assigned to a RunnablePassthrough object (will not be called or considered in the next step)\n",
        "    #              by getting the value of the \"context\" key from the previous step\n",
        "    | RunnablePassthrough.assign(context=itemgetter(\"context\"))\n",
        "    # \"response\" : the \"context\" and \"question\" values are used to format our prompt object and then piped\n",
        "    #              into the LLM and stored in a key called \"response\"\n",
        "    # \"context\"  : populated by getting the value of the \"context\" key from the previous step\n",
        "    | {\"response\": base_rag_prompt | base_llm, \"context\": itemgetter(\"context\")}\n",
        ")"
      ]
    },
    {
      "cell_type": "markdown",
      "metadata": {
        "id": "h0KAPrtFMtRd"
      },
      "source": [
        "Let's get a visual understanding of our chain!"
      ]
    },
    {
      "cell_type": "code",
      "execution_count": 23,
      "metadata": {
        "colab": {
          "base_uri": "https://localhost:8080/"
        },
        "id": "ceq3JfVLM74-",
        "outputId": "4235f7af-4430-4c08-d94d-99e482ef30af"
      },
      "outputs": [],
      "source": [
        "!pip install -qU grandalf"
      ]
    },
    {
      "cell_type": "code",
      "execution_count": 24,
      "metadata": {
        "colab": {
          "base_uri": "https://localhost:8080/"
        },
        "id": "y8ocIXNGMsue",
        "outputId": "eb34fc03-7052-4825-82e1-85489ac84e78"
      },
      "outputs": [
        {
          "name": "stdout",
          "output_type": "stream",
          "text": [
            "          +---------------------------------+      \n",
            "          | Parallel<context,question>Input |      \n",
            "          +---------------------------------+      \n",
            "                    **            **               \n",
            "                  **                **             \n",
            "                **                    **           \n",
            "         +--------+                     **         \n",
            "         | Lambda |                      *         \n",
            "         +--------+                      *         \n",
            "              *                          *         \n",
            "              *                          *         \n",
            "              *                          *         \n",
            "  +----------------------+          +--------+     \n",
            "  | VectorStoreRetriever |          | Lambda |     \n",
            "  +----------------------+          +--------+     \n",
            "                    **            **               \n",
            "                      **        **                 \n",
            "                        **    **                   \n",
            "          +----------------------------------+     \n",
            "          | Parallel<context,question>Output |     \n",
            "          +----------------------------------+     \n",
            "                            *                      \n",
            "                            *                      \n",
            "                            *                      \n",
            "              +------------------------+           \n",
            "              | Parallel<context>Input |           \n",
            "              +------------------------+           \n",
            "                     ***        ***                \n",
            "                    *              *               \n",
            "                  **                **             \n",
            "           +--------+          +-------------+     \n",
            "           | Lambda |          | Passthrough |     \n",
            "           +--------+          +-------------+     \n",
            "                     ***        ***                \n",
            "                        *      *                   \n",
            "                         **  **                    \n",
            "              +-------------------------+          \n",
            "              | Parallel<context>Output |          \n",
            "              +-------------------------+          \n",
            "                            *                      \n",
            "                            *                      \n",
            "                            *                      \n",
            "          +---------------------------------+      \n",
            "          | Parallel<response,context>Input |      \n",
            "          +---------------------------------+      \n",
            "                   **              ***             \n",
            "                ***                   **           \n",
            "              **                        ***        \n",
            "+--------------------+                     **      \n",
            "| ChatPromptTemplate |                      *      \n",
            "+--------------------+                      *      \n",
            "           *                                *      \n",
            "           *                                *      \n",
            "           *                                *      \n",
            "    +------------+                     +--------+  \n",
            "    | ChatOpenAI |                     | Lambda |  \n",
            "    +------------+*                  **+--------+  \n",
            "                   **              **              \n",
            "                     ***        ***                \n",
            "                        **    **                   \n",
            "          +----------------------------------+     \n",
            "          | Parallel<response,context>Output |     \n",
            "          +----------------------------------+     \n"
          ]
        }
      ],
      "source": [
        "print(retrieval_augmented_qa_chain.get_graph().draw_ascii())"
      ]
    },
    {
      "cell_type": "markdown",
      "metadata": {
        "id": "1bQVzN_eX1M2"
      },
      "source": [
        "Let's try another visual representation:\n",
        "\n",
        "![image](https://i.imgur.com/Ad31AhL.png)"
      ]
    },
    {
      "cell_type": "markdown",
      "metadata": {
        "id": "_0C5CFRHOxtB"
      },
      "source": [
        "Let's test our chain out!"
      ]
    },
    {
      "cell_type": "code",
      "execution_count": 25,
      "metadata": {
        "id": "JSDyVefDaue4"
      },
      "outputs": [],
      "source": [
        "response = retrieval_augmented_qa_chain.invoke({\"question\" : \"What's new in LangChain v0.2?\"})"
      ]
    },
    {
      "cell_type": "code",
      "execution_count": 26,
      "metadata": {
        "colab": {
          "base_uri": "https://localhost:8080/",
          "height": 122
        },
        "id": "yfEAoG3HLC3J",
        "outputId": "e1633e4f-5405-46c3-f344-ffc324ac69d8"
      },
      "outputs": [
        {
          "data": {
            "text/plain": [
              "'LangChain v0.2 introduces several new features and improvements, including:\\n\\n1. Full separation of the langchain package from langchain-community.\\n2. New and versioned documentation.\\n3. A more mature and controllable agent framework.\\n4. Improved standardization of the LLM interface, particularly regarding tool calling.\\n5. Streaming support and over 30 new partner packages.\\n\\nThis pre-release focuses on enhancing stability and security, with the full release expected in a few weeks.'"
            ]
          },
          "execution_count": 26,
          "metadata": {},
          "output_type": "execute_result"
        }
      ],
      "source": [
        "response[\"response\"].content"
      ]
    },
    {
      "cell_type": "code",
      "execution_count": 27,
      "metadata": {
        "id": "FSZFdCM5LFoq"
      },
      "outputs": [
        {
          "name": "stdout",
          "output_type": "stream",
          "text": [
            "Context:\n",
            "page_content='Four months ago, we released the first stable version of LangChain. Today, we are following up by announcing a pre-release of langchain v0.2.This release builds upon the foundation laid in v0.1 and incorporates community feedback. We’re excited to share that v0.2 brings: A much-desired full separation of langchain and langchain-community New (and versioned!) docs A more mature and controllable agent framework Improved LLM interface standardization, particularly around tool callingBetter' metadata={'source': 'https://blog.langchain.dev/langchain-v02-leap-to-stability/', 'loc': 'https://blog.langchain.dev/langchain-v02-leap-to-stability/', 'lastmod': '2024-05-16T22:26:07.000Z', '_id': '71a2c0ea93b14ab499eeef47061d9f92', '_collection_name': '22240221006e4ac9a364766e56567158'}\n",
            "----\n",
            "Context:\n",
            "page_content='LangChain v0.2: A Leap Towards Stability\n",
            "\n",
            "\n",
            "\n",
            "\n",
            "\n",
            "\n",
            "\n",
            "\n",
            "\n",
            "\n",
            "\n",
            "\n",
            "\n",
            "\n",
            "\n",
            "\n",
            "\n",
            "\n",
            "\n",
            "\n",
            "\n",
            "\n",
            "\n",
            "\n",
            "\n",
            "\n",
            "\n",
            "\n",
            "\n",
            "\n",
            "\n",
            "\n",
            "\n",
            "\n",
            "\n",
            "\n",
            "\n",
            "\n",
            "\n",
            "\n",
            "\n",
            "\n",
            "\n",
            "\n",
            "\n",
            "\n",
            "\n",
            "\n",
            "\n",
            "\n",
            "\n",
            "\n",
            "Skip to content\n",
            "\n",
            "\n",
            "\n",
            "\n",
            "\n",
            "\n",
            "\n",
            "\n",
            "\n",
            "\n",
            "\n",
            "\n",
            "\n",
            "\n",
            "\n",
            "\n",
            "All Posts\n",
            "\n",
            "\n",
            "\n",
            "\n",
            "Case Studies\n",
            "\n",
            "\n",
            "\n",
            "\n",
            "In the Loop\n",
            "\n",
            "\n",
            "\n",
            "\n",
            "LangChain\n",
            "\n",
            "\n",
            "\n",
            "\n",
            "Docs\n",
            "\n",
            "\n",
            "\n",
            "\n",
            "Changelog\n",
            "\n",
            "\n",
            "\n",
            "\n",
            "\n",
            "Sign in\n",
            "Subscribe\n",
            "\n",
            "\n",
            "\n",
            "\n",
            "\n",
            "\n",
            "\n",
            "\n",
            "\n",
            "\n",
            "\n",
            "\n",
            "\n",
            "\n",
            "\n",
            "\n",
            "\n",
            "\n",
            "\n",
            "LangChain v0.2: A Leap Towards Stability\n",
            "Today, we're announcing the pre-release of LangChain v0.2, which improves the stability and security of LangChain.\n",
            "\n",
            "5 min read\n",
            "May 10, 2024' metadata={'source': 'https://blog.langchain.dev/langchain-v02-leap-to-stability/', 'loc': 'https://blog.langchain.dev/langchain-v02-leap-to-stability/', 'lastmod': '2024-05-16T22:26:07.000Z', '_id': '60705fda9fc84ed3b1ba9b98ae52c84a', '_collection_name': '22240221006e4ac9a364766e56567158'}\n",
            "----\n",
            "Context:\n",
            "page_content='LangChain v0.1.0\n",
            "\n",
            "\n",
            "\n",
            "\n",
            "\n",
            "\n",
            "\n",
            "\n",
            "\n",
            "\n",
            "\n",
            "\n",
            "\n",
            "\n",
            "\n",
            "\n",
            "\n",
            "\n",
            "\n",
            "\n",
            "\n",
            "\n",
            "\n",
            "\n",
            "\n",
            "\n",
            "\n",
            "\n",
            "\n",
            "\n",
            "\n",
            "\n",
            "\n",
            "\n",
            "\n",
            "\n",
            "\n",
            "\n",
            "\n",
            "\n",
            "\n",
            "\n",
            "\n",
            "\n",
            "\n",
            "\n",
            "\n",
            "\n",
            "\n",
            "\n",
            "\n",
            "\n",
            "Skip to content\n",
            "\n",
            "\n",
            "\n",
            "\n",
            "\n",
            "\n",
            "\n",
            "\n",
            "\n",
            "\n",
            "\n",
            "\n",
            "\n",
            "\n",
            "\n",
            "\n",
            "All Posts\n",
            "\n",
            "\n",
            "\n",
            "\n",
            "Case Studies\n",
            "\n",
            "\n",
            "\n",
            "\n",
            "In the Loop\n",
            "\n",
            "\n",
            "\n",
            "\n",
            "LangChain\n",
            "\n",
            "\n",
            "\n",
            "\n",
            "Docs\n",
            "\n",
            "\n",
            "\n",
            "\n",
            "Changelog\n",
            "\n",
            "\n",
            "\n",
            "\n",
            "\n",
            "Sign in\n",
            "Subscribe\n",
            "\n",
            "\n",
            "\n",
            "\n",
            "\n",
            "\n",
            "\n",
            "\n",
            "\n",
            "\n",
            "\n",
            "\n",
            "\n",
            "\n",
            "\n",
            "\n",
            "\n",
            "\n",
            "\n",
            "LangChain v0.1.0\n",
            "\n",
            "By LangChain\n",
            "10 min read\n",
            "Jan 8, 2024' metadata={'source': 'https://blog.langchain.dev/langchain-v0-1-0/', 'loc': 'https://blog.langchain.dev/langchain-v0-1-0/', 'lastmod': '2024-02-09T21:45:58.000Z', '_id': 'a0e055d84ba44a5b87f3b0b0cecebb82', '_collection_name': '22240221006e4ac9a364766e56567158'}\n",
            "----\n",
            "Context:\n",
            "page_content='streaming support30+ new partner packages.This is just a pre-release, with the full v0.2 release coming in a few weeks. Let’s dive into what langchain v0.2 will include.Embracing stability: The evolution of LangChain architectureOne of the most notable changes in langchain v0.2 is the decoupling of the langchain package from langchain-community. As a result, langchain-community now depends on langchain-core and langchain. This is a continuation of the work we began with langchain v0.1.0 to' metadata={'source': 'https://blog.langchain.dev/langchain-v02-leap-to-stability/', 'loc': 'https://blog.langchain.dev/langchain-v02-leap-to-stability/', 'lastmod': '2024-05-16T22:26:07.000Z', '_id': 'da9670ddd37a458e96f02b890caa8ecc', '_collection_name': '22240221006e4ac9a364766e56567158'}\n",
            "----\n"
          ]
        }
      ],
      "source": [
        "for context in response[\"context\"]:\n",
        "  print(\"Context:\")\n",
        "  print(context)\n",
        "  print(\"----\")"
      ]
    },
    {
      "cell_type": "markdown",
      "metadata": {
        "id": "nagiJ6l6noPL"
      },
      "source": [
        "Let's see if it can handle a query that is totally unrelated to the source documents."
      ]
    },
    {
      "cell_type": "code",
      "execution_count": 28,
      "metadata": {
        "id": "HOd2nJKZnsty"
      },
      "outputs": [],
      "source": [
        "response = retrieval_augmented_qa_chain.invoke({\"question\" : \"What is the airspeed velocity of an unladen swallow?\"})"
      ]
    },
    {
      "cell_type": "code",
      "execution_count": 29,
      "metadata": {
        "colab": {
          "base_uri": "https://localhost:8080/",
          "height": 105
        },
        "id": "TmLCKNGZLTh6",
        "outputId": "1478d061-7129-4b14-c717-c99d130a9488"
      },
      "outputs": [
        {
          "data": {
            "text/plain": [
              "'The question is unrelated to the provided context.'"
            ]
          },
          "execution_count": 29,
          "metadata": {},
          "output_type": "execute_result"
        }
      ],
      "source": [
        "response[\"response\"].content"
      ]
    },
    {
      "cell_type": "markdown",
      "metadata": {
        "id": "fJtSdDsXZXam"
      },
      "source": [
        "## Task 3: Setting Up LangSmith\n",
        "\n",
        "Now that we have a chain - we're ready to get started with LangSmith!\n",
        "\n",
        "We're going to go ahead and use the following `env` variables to get our Colab notebook set up to start reporting.\n",
        "\n",
        "If all you needed was simple monitoring - this is all you would need to do!"
      ]
    },
    {
      "cell_type": "code",
      "execution_count": 30,
      "metadata": {
        "id": "iqPdBXSBD4a-"
      },
      "outputs": [],
      "source": [
        "from uuid import uuid4\n",
        "\n",
        "unique_id = uuid4().hex[0:8]\n",
        "\n",
        "os.environ[\"LANGCHAIN_TRACING_V2\"] = \"true\"\n",
        "os.environ[\"LANGCHAIN_PROJECT\"] = f\"LangSmith - {unique_id}\""
      ]
    },
    {
      "cell_type": "markdown",
      "metadata": {
        "id": "Ms4msyKLaIr6"
      },
      "source": [
        "### LangSmith API\n",
        "\n",
        "In order to use LangSmith - you will need a beta key, you can join the queue through the `Beta Sign Up` button on LangSmith's homepage!\n",
        "\n",
        "Join [here](https://www.langchain.com/langsmith)"
      ]
    },
    {
      "cell_type": "code",
      "execution_count": 28,
      "metadata": {
        "colab": {
          "base_uri": "https://localhost:8080/"
        },
        "id": "MVq1EYngEMhV",
        "outputId": "5560a787-8114-4c72-b95a-6a776043427a"
      },
      "outputs": [
        {
          "name": "stdout",
          "output_type": "stream",
          "text": [
            "Enter your LangSmith API key: ··········\n"
          ]
        }
      ],
      "source": [
        "os.environ[\"LANGCHAIN_API_KEY\"] = getpass.getpass('Enter your LangSmith API key: ')"
      ]
    },
    {
      "cell_type": "markdown",
      "metadata": {
        "id": "6qy0MMBLacXv"
      },
      "source": [
        "Let's test our our first generation!"
      ]
    },
    {
      "cell_type": "code",
      "execution_count": 32,
      "metadata": {
        "colab": {
          "base_uri": "https://localhost:8080/"
        },
        "id": "3eoqBtBQERXP",
        "outputId": "fc1ea857-6784-4e7e-9fd4-94fbdd9f693a"
      },
      "outputs": [
        {
          "data": {
            "text/plain": [
              "AIMessage(content='LangSmith is a framework built on the shoulders of LangChain, designed to track and improve the development and performance of AI-powered products, particularly those utilizing large language models (LLMs). It offers features such as observability, customization through an SDK, and tools for rapid iteration in development, enhancing the overall user experience and product quality.', additional_kwargs={'refusal': None}, response_metadata={'token_usage': {'completion_tokens': 67, 'prompt_tokens': 914, 'total_tokens': 981}, 'model_name': 'gpt-4o-mini-2024-07-18', 'system_fingerprint': 'fp_2d74a003dd', 'finish_reason': 'stop', 'logprobs': None}, id='run-7b138c88-2625-4090-965e-84a2b6fff695-0', usage_metadata={'input_tokens': 914, 'output_tokens': 67, 'total_tokens': 981})"
            ]
          },
          "execution_count": 32,
          "metadata": {},
          "output_type": "execute_result"
        }
      ],
      "source": [
        "retrieval_augmented_qa_chain.invoke({\"question\" : \"What is LangSmith?\"}, {\"tags\" : [\"Demo Run\"]})['response']"
      ]
    },
    {
      "cell_type": "markdown",
      "metadata": {
        "id": "oZxABFzPr2ny"
      },
      "source": [
        "## Task 4: Examining the Trace in LangSmith!\n",
        "\n",
        "Head on over to your LangSmith web UI to check out how the trace looks in LangSmith!"
      ]
    },
    {
      "cell_type": "markdown",
      "metadata": {
        "id": "c52o58AfsLK6"
      },
      "source": [
        "#### 🏗️ Activity #1:\n",
        "\n",
        "Include a screenshot of your trace and explain what it means."
      ]
    },
    {
      "cell_type": "markdown",
      "metadata": {},
      "source": [
        "<b> Stages and Operations </b>\n",
        "\n",
        "- RunnableParallel<context,question> (First Stage)\n",
        "\n",
        "    - Purpose: Initiates the chain by processing the input question to retrieve relevant context and maintain the integrity of the original question.\n",
        "    - Internal Operations:\n",
        "        - RunnableSequence: Passes the question to a vector database to retrieve matching documents, aligning with the use of qdrant_retriever in the code. This operation fetches context based on the input question.\n",
        "        - RunnableLambda: Acts as a parallel operation that passes the question unchanged, ensuring that the original question is available for subsequent operations.\n",
        "\n",
        "- RunnableAssign<context> (Second Stage)\n",
        "\n",
        "    - Purpose: Assigns the context retrieved from the previous stage to a variable. This stage serves as a transitional point to preserve and forward the context for response generation.\n",
        "    - Functionality: This block uses a simple assignment operation (RunnablePassthrough.assign(context=itemgetter(\"context\"))) to ensure that the context is correctly assigned and made available for the next stage.\n",
        "- RunnableParallel<response,context> (Final Stage)\n",
        "\n",
        "    - Purpose: Generates the final response based on the previously assigned context and the initial question.\n",
        "    - Parallel Paths:\n",
        "        - RunnableSequence: Responsible for generating a response by creating a prompt with the context and processing it through a language model (base_llm). This operation corresponds to creating and executing a prompt based on the context and question.\n",
        "        - Context Pass-Through: Maintains a parallel operation that continues to pass the context along, potentially for further use in logging, analysis, or additional downstream operations.\n",
        "\n",
        "![image](https://i.imgur.com/DVRZdJC.png)"
      ]
    },
    {
      "cell_type": "markdown",
      "metadata": {
        "id": "fLxh0-thanXt"
      },
      "source": [
        "## Task 5: Loading Our Testing Set"
      ]
    },
    {
      "cell_type": "code",
      "execution_count": 33,
      "metadata": {
        "colab": {
          "base_uri": "https://localhost:8080/"
        },
        "id": "lsJ8uCbT7S1Z",
        "outputId": "cdcbe030-aae2-46da-8cb7-30811da9f87d"
      },
      "outputs": [
        {
          "name": "stdout",
          "output_type": "stream",
          "text": [
            "Cloning into 'DataRepository'...\n",
            "remote: Enumerating objects: 84, done.\u001b[K\n",
            "remote: Counting objects: 100% (76/76), done.\u001b[K\n",
            "remote: Compressing objects: 100% (63/63), done.\u001b[K\n",
            "remote: Total 84 (delta 23), reused 28 (delta 8), pack-reused 8 (from 1)\u001b[K\n",
            "Receiving objects: 100% (84/84), 70.08 MiB | 8.47 MiB/s, done.\n",
            "Resolving deltas: 100% (23/23), done.\n"
          ]
        }
      ],
      "source": [
        "!git clone https://github.com/AI-Maker-Space/DataRepository.git"
      ]
    },
    {
      "cell_type": "code",
      "execution_count": 34,
      "metadata": {
        "id": "w5fmy5Gy7X03"
      },
      "outputs": [],
      "source": [
        "import pandas as pd\n",
        "\n",
        "test_df = pd.read_csv(\"DataRepository/langchain_blog_test_data.csv\")"
      ]
    },
    {
      "cell_type": "markdown",
      "metadata": {
        "id": "nyBtPs7p9Mbz"
      },
      "source": [
        "Now we can set up our LangSmith client - and we'll add the above created dataset to our LangSmith instance!\n",
        "\n",
        "> NOTE: Read more about this process [here](https://docs.smith.langchain.com/old/evaluation/faq/manage-datasets#create-from-list-of-values)"
      ]
    },
    {
      "cell_type": "code",
      "execution_count": 44,
      "metadata": {
        "id": "T9exE2e6F3gF"
      },
      "outputs": [],
      "source": [
        "from langsmith import Client\n",
        "\n",
        "client = Client()\n",
        "\n",
        "dataset_name = \"langsmith-demo-dataset-aie4-triples-v3\"\n",
        "\n",
        "dataset = client.create_dataset(\n",
        "    dataset_name=dataset_name, description=\"LangChain Blog Test Questions\"\n",
        ")\n",
        "\n",
        "for triplet in test_df.iterrows():\n",
        "  triplet = triplet[1]\n",
        "  client.create_example(\n",
        "      inputs={\"question\" : triplet[\"question\"], \"context\": triplet[\"context\"]},\n",
        "      outputs={\"answer\" : triplet[\"answer\"]},\n",
        "      dataset_id=dataset.id\n",
        "  )"
      ]
    },
    {
      "cell_type": "markdown",
      "metadata": {
        "id": "QXgi14vSbFIc"
      },
      "source": [
        "## Task 6: Evaluation\n",
        "\n",
        "Now we can run the evaluation!\n",
        "\n",
        "We'll need to start by preparing some custom data preparation functions to ensure our chain works with the expected inputs/outputs from the `evaluate` process in LangSmith.\n",
        "\n",
        "> NOTE: More reading on this available [here](https://docs.smith.langchain.com/how_to_guides/evaluation/evaluate_llm_application#evaluate-a-langchain-runnable)"
      ]
    },
    {
      "cell_type": "code",
      "execution_count": 45,
      "metadata": {
        "id": "fbjnv3bMwQKg"
      },
      "outputs": [],
      "source": [
        "def prepare_data_ref(run, example):\n",
        "  return {\n",
        "      \"prediction\" : run.outputs[\"response\"],\n",
        "      \"reference\" : example.outputs[\"answer\"],\n",
        "      \"input\" : example.inputs[\"question\"]\n",
        "  }\n",
        "\n",
        "def prepare_data_noref(run, example):\n",
        "  return {\n",
        "      \"prediction\" : run.outputs[\"response\"],\n",
        "      \"input\" : example.inputs[\"question\"]\n",
        "  }\n",
        "\n",
        "def prepare_context_ref(run, example):\n",
        "  return {\n",
        "      \"prediction\" : run.outputs[\"response\"],\n",
        "      \"reference\" : example.inputs[\"context\"],\n",
        "      \"input\" : example.inputs[\"question\"]\n",
        "  }"
      ]
    },
    {
      "cell_type": "markdown",
      "metadata": {
        "id": "OuwnMdtl9nwz"
      },
      "source": [
        "We'll be using a few custom evaluators to evaluate our pipeline, as well as a few \"built in\" methods!\n",
        "\n",
        "Check out the built-ins [here](https://docs.smith.langchain.com/reference/sdk_reference/langchain_evaluators)!"
      ]
    },
    {
      "cell_type": "code",
      "execution_count": 54,
      "metadata": {
        "colab": {
          "base_uri": "https://localhost:8080/",
          "height": 118,
          "referenced_widgets": [
            "501c5e204387460e8e9a585c9b2ca834",
            "323a077888c84bdfbac393d1ebef9d6c",
            "710fe93f3241401bafa10a1e0a1bda02",
            "c65a6921701742da9b67c591b19b6336",
            "17d4193e78a14050a11c5f8306b3ba0b",
            "99751d16888640078ae4820cacab5760",
            "a8f5f4beaa8f4a3b94002c5ed122c2a7",
            "54e7ccad2e774261a3313316a1397f66",
            "41e287b8dc674f839b6485c9606207d5",
            "f7457f38948d472da4027ba1566b47e4",
            "af61b863014d4a8c960570de31a02b3f"
          ]
        },
        "id": "CENtd4K_IQa3",
        "outputId": "872581e4-9c21-414f-d25e-9454c47c0587"
      },
      "outputs": [
        {
          "name": "stdout",
          "output_type": "stream",
          "text": [
            "View the evaluation results for experiment: 'Base RAG Evaluation-add7e660' at:\n",
            "https://smith.langchain.com/o/643e7e92-2e20-5db2-857b-11b791f166e5/datasets/cd6e2adc-f9f1-4a45-af9d-d2a3b51871ff/compare?selectedSessions=0e838609-5a13-4f82-9f4f-6b86de5de6fd\n",
            "\n",
            "\n"
          ]
        },
        {
          "data": {
            "application/vnd.jupyter.widget-view+json": {
              "model_id": "b558e6b24a9a426997b46f8963d5f4c8",
              "version_major": 2,
              "version_minor": 0
            },
            "text/plain": [
              "0it [00:00, ?it/s]"
            ]
          },
          "metadata": {},
          "output_type": "display_data"
        },
        {
          "name": "stderr",
          "output_type": "stream",
          "text": [
            "Error running evaluator <DynamicRunEvaluator evaluate> on run 29c1b4d1-9fa6-49ce-835a-e1bf28f800b6: RateLimitError(\"Error code: 429 - {'error': {'message': 'Rate limit reached for gpt-4 in organization org-wlq49T1Tqk7yEzsavICvTByL on tokens per min (TPM): Limit 10000, Used 9882, Requested 1335. Please try again in 7.302s. Visit https://platform.openai.com/account/rate-limits to learn more.', 'type': 'tokens', 'param': None, 'code': 'rate_limit_exceeded'}}\")\n",
            "Traceback (most recent call last):\n",
            "  File \"/Users/kunamkireeti/miniconda3/envs/python3_11/lib/python3.11/site-packages/langsmith/evaluation/_runner.py\", line 1313, in _run_evaluators\n",
            "    evaluator_response = evaluator.evaluate_run(\n",
            "                         ^^^^^^^^^^^^^^^^^^^^^^^\n",
            "  File \"/Users/kunamkireeti/miniconda3/envs/python3_11/lib/python3.11/site-packages/langsmith/evaluation/evaluator.py\", line 278, in evaluate_run\n",
            "    result = self.func(\n",
            "             ^^^^^^^^^^\n",
            "  File \"/Users/kunamkireeti/miniconda3/envs/python3_11/lib/python3.11/site-packages/langsmith/run_helpers.py\", line 609, in wrapper\n",
            "    raise e\n",
            "  File \"/Users/kunamkireeti/miniconda3/envs/python3_11/lib/python3.11/site-packages/langsmith/run_helpers.py\", line 606, in wrapper\n",
            "    function_result = run_container[\"context\"].run(func, *args, **kwargs)\n",
            "                      ^^^^^^^^^^^^^^^^^^^^^^^^^^^^^^^^^^^^^^^^^^^^^^^^^^^\n",
            "  File \"/Users/kunamkireeti/miniconda3/envs/python3_11/lib/python3.11/site-packages/langsmith/evaluation/integrations/_langchain.py\", line 260, in evaluate\n",
            "    results = self.evaluator.evaluate_strings(**eval_inputs)\n",
            "              ^^^^^^^^^^^^^^^^^^^^^^^^^^^^^^^^^^^^^^^^^^^^^^\n",
            "  File \"/Users/kunamkireeti/miniconda3/envs/python3_11/lib/python3.11/site-packages/langchain/evaluation/schema.py\", line 220, in evaluate_strings\n",
            "    return self._evaluate_strings(\n",
            "           ^^^^^^^^^^^^^^^^^^^^^^^\n",
            "  File \"/Users/kunamkireeti/miniconda3/envs/python3_11/lib/python3.11/site-packages/langchain/evaluation/qa/eval_chain.py\", line 303, in _evaluate_strings\n",
            "    result = self(\n",
            "             ^^^^^\n",
            "  File \"/Users/kunamkireeti/miniconda3/envs/python3_11/lib/python3.11/site-packages/langchain_core/_api/deprecation.py\", line 180, in warning_emitting_wrapper\n",
            "    return wrapped(*args, **kwargs)\n",
            "           ^^^^^^^^^^^^^^^^^^^^^^^^\n",
            "  File \"/Users/kunamkireeti/miniconda3/envs/python3_11/lib/python3.11/site-packages/langchain/chains/base.py\", line 381, in __call__\n",
            "    return self.invoke(\n",
            "           ^^^^^^^^^^^^\n",
            "  File \"/Users/kunamkireeti/miniconda3/envs/python3_11/lib/python3.11/site-packages/langchain/chains/base.py\", line 164, in invoke\n",
            "    raise e\n",
            "  File \"/Users/kunamkireeti/miniconda3/envs/python3_11/lib/python3.11/site-packages/langchain/chains/base.py\", line 154, in invoke\n",
            "    self._call(inputs, run_manager=run_manager)\n",
            "  File \"/Users/kunamkireeti/miniconda3/envs/python3_11/lib/python3.11/site-packages/langchain/chains/llm.py\", line 126, in _call\n",
            "    response = self.generate([inputs], run_manager=run_manager)\n",
            "               ^^^^^^^^^^^^^^^^^^^^^^^^^^^^^^^^^^^^^^^^^^^^^^^^\n",
            "  File \"/Users/kunamkireeti/miniconda3/envs/python3_11/lib/python3.11/site-packages/langchain/chains/llm.py\", line 138, in generate\n",
            "    return self.llm.generate_prompt(\n",
            "           ^^^^^^^^^^^^^^^^^^^^^^^^^\n",
            "  File \"/Users/kunamkireeti/miniconda3/envs/python3_11/lib/python3.11/site-packages/langchain_core/language_models/chat_models.py\", line 776, in generate_prompt\n",
            "    return self.generate(prompt_messages, stop=stop, callbacks=callbacks, **kwargs)\n",
            "           ^^^^^^^^^^^^^^^^^^^^^^^^^^^^^^^^^^^^^^^^^^^^^^^^^^^^^^^^^^^^^^^^^^^^^^^^\n",
            "  File \"/Users/kunamkireeti/miniconda3/envs/python3_11/lib/python3.11/site-packages/langchain_core/language_models/chat_models.py\", line 633, in generate\n",
            "    raise e\n",
            "  File \"/Users/kunamkireeti/miniconda3/envs/python3_11/lib/python3.11/site-packages/langchain_core/language_models/chat_models.py\", line 623, in generate\n",
            "    self._generate_with_cache(\n",
            "  File \"/Users/kunamkireeti/miniconda3/envs/python3_11/lib/python3.11/site-packages/langchain_core/language_models/chat_models.py\", line 845, in _generate_with_cache\n",
            "    result = self._generate(\n",
            "             ^^^^^^^^^^^^^^^\n",
            "  File \"/Users/kunamkireeti/miniconda3/envs/python3_11/lib/python3.11/site-packages/langchain_openai/chat_models/base.py\", line 635, in _generate\n",
            "    response = self.client.create(**payload)\n",
            "               ^^^^^^^^^^^^^^^^^^^^^^^^^^^^^\n",
            "  File \"/Users/kunamkireeti/miniconda3/envs/python3_11/lib/python3.11/site-packages/openai/_utils/_utils.py\", line 274, in wrapper\n",
            "    return func(*args, **kwargs)\n",
            "           ^^^^^^^^^^^^^^^^^^^^^\n",
            "  File \"/Users/kunamkireeti/miniconda3/envs/python3_11/lib/python3.11/site-packages/openai/resources/chat/completions.py\", line 668, in create\n",
            "    return self._post(\n",
            "           ^^^^^^^^^^^\n",
            "  File \"/Users/kunamkireeti/miniconda3/envs/python3_11/lib/python3.11/site-packages/openai/_base_client.py\", line 1260, in post\n",
            "    return cast(ResponseT, self.request(cast_to, opts, stream=stream, stream_cls=stream_cls))\n",
            "                           ^^^^^^^^^^^^^^^^^^^^^^^^^^^^^^^^^^^^^^^^^^^^^^^^^^^^^^^^^^^^^^^^^\n",
            "  File \"/Users/kunamkireeti/miniconda3/envs/python3_11/lib/python3.11/site-packages/openai/_base_client.py\", line 937, in request\n",
            "    return self._request(\n",
            "           ^^^^^^^^^^^^^^\n",
            "  File \"/Users/kunamkireeti/miniconda3/envs/python3_11/lib/python3.11/site-packages/openai/_base_client.py\", line 1026, in _request\n",
            "    return self._retry_request(\n",
            "           ^^^^^^^^^^^^^^^^^^^^\n",
            "  File \"/Users/kunamkireeti/miniconda3/envs/python3_11/lib/python3.11/site-packages/openai/_base_client.py\", line 1075, in _retry_request\n",
            "    return self._request(\n",
            "           ^^^^^^^^^^^^^^\n",
            "  File \"/Users/kunamkireeti/miniconda3/envs/python3_11/lib/python3.11/site-packages/openai/_base_client.py\", line 1026, in _request\n",
            "    return self._retry_request(\n",
            "           ^^^^^^^^^^^^^^^^^^^^\n",
            "  File \"/Users/kunamkireeti/miniconda3/envs/python3_11/lib/python3.11/site-packages/openai/_base_client.py\", line 1075, in _retry_request\n",
            "    return self._request(\n",
            "           ^^^^^^^^^^^^^^\n",
            "  File \"/Users/kunamkireeti/miniconda3/envs/python3_11/lib/python3.11/site-packages/openai/_base_client.py\", line 1041, in _request\n",
            "    raise self._make_status_error_from_response(err.response) from None\n",
            "openai.RateLimitError: Error code: 429 - {'error': {'message': 'Rate limit reached for gpt-4 in organization org-wlq49T1Tqk7yEzsavICvTByL on tokens per min (TPM): Limit 10000, Used 9882, Requested 1335. Please try again in 7.302s. Visit https://platform.openai.com/account/rate-limits to learn more.', 'type': 'tokens', 'param': None, 'code': 'rate_limit_exceeded'}}\n",
            "Error running evaluator <DynamicRunEvaluator evaluate> on run b78c2e3e-a1d9-48f8-9adf-7302fc5695bc: RateLimitError(\"Error code: 429 - {'error': {'message': 'Rate limit reached for gpt-4 in organization org-wlq49T1Tqk7yEzsavICvTByL on tokens per min (TPM): Limit 10000, Used 9871, Requested 1350. Please try again in 7.326s. Visit https://platform.openai.com/account/rate-limits to learn more.', 'type': 'tokens', 'param': None, 'code': 'rate_limit_exceeded'}}\")\n",
            "Traceback (most recent call last):\n",
            "  File \"/Users/kunamkireeti/miniconda3/envs/python3_11/lib/python3.11/site-packages/langsmith/evaluation/_runner.py\", line 1313, in _run_evaluators\n",
            "    evaluator_response = evaluator.evaluate_run(\n",
            "                         ^^^^^^^^^^^^^^^^^^^^^^^\n",
            "  File \"/Users/kunamkireeti/miniconda3/envs/python3_11/lib/python3.11/site-packages/langsmith/evaluation/evaluator.py\", line 278, in evaluate_run\n",
            "    result = self.func(\n",
            "             ^^^^^^^^^^\n",
            "  File \"/Users/kunamkireeti/miniconda3/envs/python3_11/lib/python3.11/site-packages/langsmith/run_helpers.py\", line 609, in wrapper\n",
            "    raise e\n",
            "  File \"/Users/kunamkireeti/miniconda3/envs/python3_11/lib/python3.11/site-packages/langsmith/run_helpers.py\", line 606, in wrapper\n",
            "    function_result = run_container[\"context\"].run(func, *args, **kwargs)\n",
            "                      ^^^^^^^^^^^^^^^^^^^^^^^^^^^^^^^^^^^^^^^^^^^^^^^^^^^\n",
            "  File \"/Users/kunamkireeti/miniconda3/envs/python3_11/lib/python3.11/site-packages/langsmith/evaluation/integrations/_langchain.py\", line 260, in evaluate\n",
            "    results = self.evaluator.evaluate_strings(**eval_inputs)\n",
            "              ^^^^^^^^^^^^^^^^^^^^^^^^^^^^^^^^^^^^^^^^^^^^^^\n",
            "  File \"/Users/kunamkireeti/miniconda3/envs/python3_11/lib/python3.11/site-packages/langchain/evaluation/schema.py\", line 220, in evaluate_strings\n",
            "    return self._evaluate_strings(\n",
            "           ^^^^^^^^^^^^^^^^^^^^^^^\n",
            "  File \"/Users/kunamkireeti/miniconda3/envs/python3_11/lib/python3.11/site-packages/langchain/evaluation/qa/eval_chain.py\", line 303, in _evaluate_strings\n",
            "    result = self(\n",
            "             ^^^^^\n",
            "  File \"/Users/kunamkireeti/miniconda3/envs/python3_11/lib/python3.11/site-packages/langchain_core/_api/deprecation.py\", line 180, in warning_emitting_wrapper\n",
            "    return wrapped(*args, **kwargs)\n",
            "           ^^^^^^^^^^^^^^^^^^^^^^^^\n",
            "  File \"/Users/kunamkireeti/miniconda3/envs/python3_11/lib/python3.11/site-packages/langchain/chains/base.py\", line 381, in __call__\n",
            "    return self.invoke(\n",
            "           ^^^^^^^^^^^^\n",
            "  File \"/Users/kunamkireeti/miniconda3/envs/python3_11/lib/python3.11/site-packages/langchain/chains/base.py\", line 164, in invoke\n",
            "    raise e\n",
            "  File \"/Users/kunamkireeti/miniconda3/envs/python3_11/lib/python3.11/site-packages/langchain/chains/base.py\", line 154, in invoke\n",
            "    self._call(inputs, run_manager=run_manager)\n",
            "  File \"/Users/kunamkireeti/miniconda3/envs/python3_11/lib/python3.11/site-packages/langchain/chains/llm.py\", line 126, in _call\n",
            "    response = self.generate([inputs], run_manager=run_manager)\n",
            "               ^^^^^^^^^^^^^^^^^^^^^^^^^^^^^^^^^^^^^^^^^^^^^^^^\n",
            "  File \"/Users/kunamkireeti/miniconda3/envs/python3_11/lib/python3.11/site-packages/langchain/chains/llm.py\", line 138, in generate\n",
            "    return self.llm.generate_prompt(\n",
            "           ^^^^^^^^^^^^^^^^^^^^^^^^^\n",
            "  File \"/Users/kunamkireeti/miniconda3/envs/python3_11/lib/python3.11/site-packages/langchain_core/language_models/chat_models.py\", line 776, in generate_prompt\n",
            "    return self.generate(prompt_messages, stop=stop, callbacks=callbacks, **kwargs)\n",
            "           ^^^^^^^^^^^^^^^^^^^^^^^^^^^^^^^^^^^^^^^^^^^^^^^^^^^^^^^^^^^^^^^^^^^^^^^^\n",
            "  File \"/Users/kunamkireeti/miniconda3/envs/python3_11/lib/python3.11/site-packages/langchain_core/language_models/chat_models.py\", line 633, in generate\n",
            "    raise e\n",
            "  File \"/Users/kunamkireeti/miniconda3/envs/python3_11/lib/python3.11/site-packages/langchain_core/language_models/chat_models.py\", line 623, in generate\n",
            "    self._generate_with_cache(\n",
            "  File \"/Users/kunamkireeti/miniconda3/envs/python3_11/lib/python3.11/site-packages/langchain_core/language_models/chat_models.py\", line 845, in _generate_with_cache\n",
            "    result = self._generate(\n",
            "             ^^^^^^^^^^^^^^^\n",
            "  File \"/Users/kunamkireeti/miniconda3/envs/python3_11/lib/python3.11/site-packages/langchain_openai/chat_models/base.py\", line 635, in _generate\n",
            "    response = self.client.create(**payload)\n",
            "               ^^^^^^^^^^^^^^^^^^^^^^^^^^^^^\n",
            "  File \"/Users/kunamkireeti/miniconda3/envs/python3_11/lib/python3.11/site-packages/openai/_utils/_utils.py\", line 274, in wrapper\n",
            "    return func(*args, **kwargs)\n",
            "           ^^^^^^^^^^^^^^^^^^^^^\n",
            "  File \"/Users/kunamkireeti/miniconda3/envs/python3_11/lib/python3.11/site-packages/openai/resources/chat/completions.py\", line 668, in create\n",
            "    return self._post(\n",
            "           ^^^^^^^^^^^\n",
            "  File \"/Users/kunamkireeti/miniconda3/envs/python3_11/lib/python3.11/site-packages/openai/_base_client.py\", line 1260, in post\n",
            "    return cast(ResponseT, self.request(cast_to, opts, stream=stream, stream_cls=stream_cls))\n",
            "                           ^^^^^^^^^^^^^^^^^^^^^^^^^^^^^^^^^^^^^^^^^^^^^^^^^^^^^^^^^^^^^^^^^\n",
            "  File \"/Users/kunamkireeti/miniconda3/envs/python3_11/lib/python3.11/site-packages/openai/_base_client.py\", line 937, in request\n",
            "    return self._request(\n",
            "           ^^^^^^^^^^^^^^\n",
            "  File \"/Users/kunamkireeti/miniconda3/envs/python3_11/lib/python3.11/site-packages/openai/_base_client.py\", line 1026, in _request\n",
            "    return self._retry_request(\n",
            "           ^^^^^^^^^^^^^^^^^^^^\n",
            "  File \"/Users/kunamkireeti/miniconda3/envs/python3_11/lib/python3.11/site-packages/openai/_base_client.py\", line 1075, in _retry_request\n",
            "    return self._request(\n",
            "           ^^^^^^^^^^^^^^\n",
            "  File \"/Users/kunamkireeti/miniconda3/envs/python3_11/lib/python3.11/site-packages/openai/_base_client.py\", line 1026, in _request\n",
            "    return self._retry_request(\n",
            "           ^^^^^^^^^^^^^^^^^^^^\n",
            "  File \"/Users/kunamkireeti/miniconda3/envs/python3_11/lib/python3.11/site-packages/openai/_base_client.py\", line 1075, in _retry_request\n",
            "    return self._request(\n",
            "           ^^^^^^^^^^^^^^\n",
            "  File \"/Users/kunamkireeti/miniconda3/envs/python3_11/lib/python3.11/site-packages/openai/_base_client.py\", line 1041, in _request\n",
            "    raise self._make_status_error_from_response(err.response) from None\n",
            "openai.RateLimitError: Error code: 429 - {'error': {'message': 'Rate limit reached for gpt-4 in organization org-wlq49T1Tqk7yEzsavICvTByL on tokens per min (TPM): Limit 10000, Used 9871, Requested 1350. Please try again in 7.326s. Visit https://platform.openai.com/account/rate-limits to learn more.', 'type': 'tokens', 'param': None, 'code': 'rate_limit_exceeded'}}\n",
            "Error running evaluator <DynamicRunEvaluator evaluate> on run bbdcb94f-5f8e-4753-be53-5b5f6fbf1a3e: RateLimitError(\"Error code: 429 - {'error': {'message': 'Rate limit reached for gpt-4 in organization org-wlq49T1Tqk7yEzsavICvTByL on tokens per min (TPM): Limit 10000, Used 9761, Requested 1468. Please try again in 7.374s. Visit https://platform.openai.com/account/rate-limits to learn more.', 'type': 'tokens', 'param': None, 'code': 'rate_limit_exceeded'}}\")\n",
            "Traceback (most recent call last):\n",
            "  File \"/Users/kunamkireeti/miniconda3/envs/python3_11/lib/python3.11/site-packages/langsmith/evaluation/_runner.py\", line 1313, in _run_evaluators\n",
            "    evaluator_response = evaluator.evaluate_run(\n",
            "                         ^^^^^^^^^^^^^^^^^^^^^^^\n",
            "  File \"/Users/kunamkireeti/miniconda3/envs/python3_11/lib/python3.11/site-packages/langsmith/evaluation/evaluator.py\", line 278, in evaluate_run\n",
            "    result = self.func(\n",
            "             ^^^^^^^^^^\n",
            "  File \"/Users/kunamkireeti/miniconda3/envs/python3_11/lib/python3.11/site-packages/langsmith/run_helpers.py\", line 609, in wrapper\n",
            "    raise e\n",
            "  File \"/Users/kunamkireeti/miniconda3/envs/python3_11/lib/python3.11/site-packages/langsmith/run_helpers.py\", line 606, in wrapper\n",
            "    function_result = run_container[\"context\"].run(func, *args, **kwargs)\n",
            "                      ^^^^^^^^^^^^^^^^^^^^^^^^^^^^^^^^^^^^^^^^^^^^^^^^^^^\n",
            "  File \"/Users/kunamkireeti/miniconda3/envs/python3_11/lib/python3.11/site-packages/langsmith/evaluation/integrations/_langchain.py\", line 260, in evaluate\n",
            "    results = self.evaluator.evaluate_strings(**eval_inputs)\n",
            "              ^^^^^^^^^^^^^^^^^^^^^^^^^^^^^^^^^^^^^^^^^^^^^^\n",
            "  File \"/Users/kunamkireeti/miniconda3/envs/python3_11/lib/python3.11/site-packages/langchain/evaluation/schema.py\", line 220, in evaluate_strings\n",
            "    return self._evaluate_strings(\n",
            "           ^^^^^^^^^^^^^^^^^^^^^^^\n",
            "  File \"/Users/kunamkireeti/miniconda3/envs/python3_11/lib/python3.11/site-packages/langchain/evaluation/qa/eval_chain.py\", line 303, in _evaluate_strings\n",
            "    result = self(\n",
            "             ^^^^^\n",
            "  File \"/Users/kunamkireeti/miniconda3/envs/python3_11/lib/python3.11/site-packages/langchain_core/_api/deprecation.py\", line 180, in warning_emitting_wrapper\n",
            "    return wrapped(*args, **kwargs)\n",
            "           ^^^^^^^^^^^^^^^^^^^^^^^^\n",
            "  File \"/Users/kunamkireeti/miniconda3/envs/python3_11/lib/python3.11/site-packages/langchain/chains/base.py\", line 381, in __call__\n",
            "    return self.invoke(\n",
            "           ^^^^^^^^^^^^\n",
            "  File \"/Users/kunamkireeti/miniconda3/envs/python3_11/lib/python3.11/site-packages/langchain/chains/base.py\", line 164, in invoke\n",
            "    raise e\n",
            "  File \"/Users/kunamkireeti/miniconda3/envs/python3_11/lib/python3.11/site-packages/langchain/chains/base.py\", line 154, in invoke\n",
            "    self._call(inputs, run_manager=run_manager)\n",
            "  File \"/Users/kunamkireeti/miniconda3/envs/python3_11/lib/python3.11/site-packages/langchain/chains/llm.py\", line 126, in _call\n",
            "    response = self.generate([inputs], run_manager=run_manager)\n",
            "               ^^^^^^^^^^^^^^^^^^^^^^^^^^^^^^^^^^^^^^^^^^^^^^^^\n",
            "  File \"/Users/kunamkireeti/miniconda3/envs/python3_11/lib/python3.11/site-packages/langchain/chains/llm.py\", line 138, in generate\n",
            "    return self.llm.generate_prompt(\n",
            "           ^^^^^^^^^^^^^^^^^^^^^^^^^\n",
            "  File \"/Users/kunamkireeti/miniconda3/envs/python3_11/lib/python3.11/site-packages/langchain_core/language_models/chat_models.py\", line 776, in generate_prompt\n",
            "    return self.generate(prompt_messages, stop=stop, callbacks=callbacks, **kwargs)\n",
            "           ^^^^^^^^^^^^^^^^^^^^^^^^^^^^^^^^^^^^^^^^^^^^^^^^^^^^^^^^^^^^^^^^^^^^^^^^\n",
            "  File \"/Users/kunamkireeti/miniconda3/envs/python3_11/lib/python3.11/site-packages/langchain_core/language_models/chat_models.py\", line 633, in generate\n",
            "    raise e\n",
            "  File \"/Users/kunamkireeti/miniconda3/envs/python3_11/lib/python3.11/site-packages/langchain_core/language_models/chat_models.py\", line 623, in generate\n",
            "    self._generate_with_cache(\n",
            "  File \"/Users/kunamkireeti/miniconda3/envs/python3_11/lib/python3.11/site-packages/langchain_core/language_models/chat_models.py\", line 845, in _generate_with_cache\n",
            "    result = self._generate(\n",
            "             ^^^^^^^^^^^^^^^\n",
            "  File \"/Users/kunamkireeti/miniconda3/envs/python3_11/lib/python3.11/site-packages/langchain_openai/chat_models/base.py\", line 635, in _generate\n",
            "    response = self.client.create(**payload)\n",
            "               ^^^^^^^^^^^^^^^^^^^^^^^^^^^^^\n",
            "  File \"/Users/kunamkireeti/miniconda3/envs/python3_11/lib/python3.11/site-packages/openai/_utils/_utils.py\", line 274, in wrapper\n",
            "    return func(*args, **kwargs)\n",
            "           ^^^^^^^^^^^^^^^^^^^^^\n",
            "  File \"/Users/kunamkireeti/miniconda3/envs/python3_11/lib/python3.11/site-packages/openai/resources/chat/completions.py\", line 668, in create\n",
            "    return self._post(\n",
            "           ^^^^^^^^^^^\n",
            "  File \"/Users/kunamkireeti/miniconda3/envs/python3_11/lib/python3.11/site-packages/openai/_base_client.py\", line 1260, in post\n",
            "    return cast(ResponseT, self.request(cast_to, opts, stream=stream, stream_cls=stream_cls))\n",
            "                           ^^^^^^^^^^^^^^^^^^^^^^^^^^^^^^^^^^^^^^^^^^^^^^^^^^^^^^^^^^^^^^^^^\n",
            "  File \"/Users/kunamkireeti/miniconda3/envs/python3_11/lib/python3.11/site-packages/openai/_base_client.py\", line 937, in request\n",
            "    return self._request(\n",
            "           ^^^^^^^^^^^^^^\n",
            "  File \"/Users/kunamkireeti/miniconda3/envs/python3_11/lib/python3.11/site-packages/openai/_base_client.py\", line 1026, in _request\n",
            "    return self._retry_request(\n",
            "           ^^^^^^^^^^^^^^^^^^^^\n",
            "  File \"/Users/kunamkireeti/miniconda3/envs/python3_11/lib/python3.11/site-packages/openai/_base_client.py\", line 1075, in _retry_request\n",
            "    return self._request(\n",
            "           ^^^^^^^^^^^^^^\n",
            "  File \"/Users/kunamkireeti/miniconda3/envs/python3_11/lib/python3.11/site-packages/openai/_base_client.py\", line 1026, in _request\n",
            "    return self._retry_request(\n",
            "           ^^^^^^^^^^^^^^^^^^^^\n",
            "  File \"/Users/kunamkireeti/miniconda3/envs/python3_11/lib/python3.11/site-packages/openai/_base_client.py\", line 1075, in _retry_request\n",
            "    return self._request(\n",
            "           ^^^^^^^^^^^^^^\n",
            "  File \"/Users/kunamkireeti/miniconda3/envs/python3_11/lib/python3.11/site-packages/openai/_base_client.py\", line 1041, in _request\n",
            "    raise self._make_status_error_from_response(err.response) from None\n",
            "openai.RateLimitError: Error code: 429 - {'error': {'message': 'Rate limit reached for gpt-4 in organization org-wlq49T1Tqk7yEzsavICvTByL on tokens per min (TPM): Limit 10000, Used 9761, Requested 1468. Please try again in 7.374s. Visit https://platform.openai.com/account/rate-limits to learn more.', 'type': 'tokens', 'param': None, 'code': 'rate_limit_exceeded'}}\n",
            "Error running evaluator <DynamicRunEvaluator evaluate> on run 2a9b7258-b0a3-43c1-98a2-70c34112a276: RateLimitError(\"Error code: 429 - {'error': {'message': 'Rate limit reached for gpt-4 in organization org-wlq49T1Tqk7yEzsavICvTByL on tokens per min (TPM): Limit 10000, Used 9701, Requested 1526. Please try again in 7.362s. Visit https://platform.openai.com/account/rate-limits to learn more.', 'type': 'tokens', 'param': None, 'code': 'rate_limit_exceeded'}}\")\n",
            "Traceback (most recent call last):\n",
            "  File \"/Users/kunamkireeti/miniconda3/envs/python3_11/lib/python3.11/site-packages/langsmith/evaluation/_runner.py\", line 1313, in _run_evaluators\n",
            "    evaluator_response = evaluator.evaluate_run(\n",
            "                         ^^^^^^^^^^^^^^^^^^^^^^^\n",
            "  File \"/Users/kunamkireeti/miniconda3/envs/python3_11/lib/python3.11/site-packages/langsmith/evaluation/evaluator.py\", line 278, in evaluate_run\n",
            "    result = self.func(\n",
            "             ^^^^^^^^^^\n",
            "  File \"/Users/kunamkireeti/miniconda3/envs/python3_11/lib/python3.11/site-packages/langsmith/run_helpers.py\", line 609, in wrapper\n",
            "    raise e\n",
            "  File \"/Users/kunamkireeti/miniconda3/envs/python3_11/lib/python3.11/site-packages/langsmith/run_helpers.py\", line 606, in wrapper\n",
            "    function_result = run_container[\"context\"].run(func, *args, **kwargs)\n",
            "                      ^^^^^^^^^^^^^^^^^^^^^^^^^^^^^^^^^^^^^^^^^^^^^^^^^^^\n",
            "  File \"/Users/kunamkireeti/miniconda3/envs/python3_11/lib/python3.11/site-packages/langsmith/evaluation/integrations/_langchain.py\", line 260, in evaluate\n",
            "    results = self.evaluator.evaluate_strings(**eval_inputs)\n",
            "              ^^^^^^^^^^^^^^^^^^^^^^^^^^^^^^^^^^^^^^^^^^^^^^\n",
            "  File \"/Users/kunamkireeti/miniconda3/envs/python3_11/lib/python3.11/site-packages/langchain/evaluation/schema.py\", line 220, in evaluate_strings\n",
            "    return self._evaluate_strings(\n",
            "           ^^^^^^^^^^^^^^^^^^^^^^^\n",
            "  File \"/Users/kunamkireeti/miniconda3/envs/python3_11/lib/python3.11/site-packages/langchain/evaluation/qa/eval_chain.py\", line 303, in _evaluate_strings\n",
            "    result = self(\n",
            "             ^^^^^\n",
            "  File \"/Users/kunamkireeti/miniconda3/envs/python3_11/lib/python3.11/site-packages/langchain_core/_api/deprecation.py\", line 180, in warning_emitting_wrapper\n",
            "    return wrapped(*args, **kwargs)\n",
            "           ^^^^^^^^^^^^^^^^^^^^^^^^\n",
            "  File \"/Users/kunamkireeti/miniconda3/envs/python3_11/lib/python3.11/site-packages/langchain/chains/base.py\", line 381, in __call__\n",
            "    return self.invoke(\n",
            "           ^^^^^^^^^^^^\n",
            "  File \"/Users/kunamkireeti/miniconda3/envs/python3_11/lib/python3.11/site-packages/langchain/chains/base.py\", line 164, in invoke\n",
            "    raise e\n",
            "  File \"/Users/kunamkireeti/miniconda3/envs/python3_11/lib/python3.11/site-packages/langchain/chains/base.py\", line 154, in invoke\n",
            "    self._call(inputs, run_manager=run_manager)\n",
            "  File \"/Users/kunamkireeti/miniconda3/envs/python3_11/lib/python3.11/site-packages/langchain/chains/llm.py\", line 126, in _call\n",
            "    response = self.generate([inputs], run_manager=run_manager)\n",
            "               ^^^^^^^^^^^^^^^^^^^^^^^^^^^^^^^^^^^^^^^^^^^^^^^^\n",
            "  File \"/Users/kunamkireeti/miniconda3/envs/python3_11/lib/python3.11/site-packages/langchain/chains/llm.py\", line 138, in generate\n",
            "    return self.llm.generate_prompt(\n",
            "           ^^^^^^^^^^^^^^^^^^^^^^^^^\n",
            "  File \"/Users/kunamkireeti/miniconda3/envs/python3_11/lib/python3.11/site-packages/langchain_core/language_models/chat_models.py\", line 776, in generate_prompt\n",
            "    return self.generate(prompt_messages, stop=stop, callbacks=callbacks, **kwargs)\n",
            "           ^^^^^^^^^^^^^^^^^^^^^^^^^^^^^^^^^^^^^^^^^^^^^^^^^^^^^^^^^^^^^^^^^^^^^^^^\n",
            "  File \"/Users/kunamkireeti/miniconda3/envs/python3_11/lib/python3.11/site-packages/langchain_core/language_models/chat_models.py\", line 633, in generate\n",
            "    raise e\n",
            "  File \"/Users/kunamkireeti/miniconda3/envs/python3_11/lib/python3.11/site-packages/langchain_core/language_models/chat_models.py\", line 623, in generate\n",
            "    self._generate_with_cache(\n",
            "  File \"/Users/kunamkireeti/miniconda3/envs/python3_11/lib/python3.11/site-packages/langchain_core/language_models/chat_models.py\", line 845, in _generate_with_cache\n",
            "    result = self._generate(\n",
            "             ^^^^^^^^^^^^^^^\n",
            "  File \"/Users/kunamkireeti/miniconda3/envs/python3_11/lib/python3.11/site-packages/langchain_openai/chat_models/base.py\", line 635, in _generate\n",
            "    response = self.client.create(**payload)\n",
            "               ^^^^^^^^^^^^^^^^^^^^^^^^^^^^^\n",
            "  File \"/Users/kunamkireeti/miniconda3/envs/python3_11/lib/python3.11/site-packages/openai/_utils/_utils.py\", line 274, in wrapper\n",
            "    return func(*args, **kwargs)\n",
            "           ^^^^^^^^^^^^^^^^^^^^^\n",
            "  File \"/Users/kunamkireeti/miniconda3/envs/python3_11/lib/python3.11/site-packages/openai/resources/chat/completions.py\", line 668, in create\n",
            "    return self._post(\n",
            "           ^^^^^^^^^^^\n",
            "  File \"/Users/kunamkireeti/miniconda3/envs/python3_11/lib/python3.11/site-packages/openai/_base_client.py\", line 1260, in post\n",
            "    return cast(ResponseT, self.request(cast_to, opts, stream=stream, stream_cls=stream_cls))\n",
            "                           ^^^^^^^^^^^^^^^^^^^^^^^^^^^^^^^^^^^^^^^^^^^^^^^^^^^^^^^^^^^^^^^^^\n",
            "  File \"/Users/kunamkireeti/miniconda3/envs/python3_11/lib/python3.11/site-packages/openai/_base_client.py\", line 937, in request\n",
            "    return self._request(\n",
            "           ^^^^^^^^^^^^^^\n",
            "  File \"/Users/kunamkireeti/miniconda3/envs/python3_11/lib/python3.11/site-packages/openai/_base_client.py\", line 1026, in _request\n",
            "    return self._retry_request(\n",
            "           ^^^^^^^^^^^^^^^^^^^^\n",
            "  File \"/Users/kunamkireeti/miniconda3/envs/python3_11/lib/python3.11/site-packages/openai/_base_client.py\", line 1075, in _retry_request\n",
            "    return self._request(\n",
            "           ^^^^^^^^^^^^^^\n",
            "  File \"/Users/kunamkireeti/miniconda3/envs/python3_11/lib/python3.11/site-packages/openai/_base_client.py\", line 1026, in _request\n",
            "    return self._retry_request(\n",
            "           ^^^^^^^^^^^^^^^^^^^^\n",
            "  File \"/Users/kunamkireeti/miniconda3/envs/python3_11/lib/python3.11/site-packages/openai/_base_client.py\", line 1075, in _retry_request\n",
            "    return self._request(\n",
            "           ^^^^^^^^^^^^^^\n",
            "  File \"/Users/kunamkireeti/miniconda3/envs/python3_11/lib/python3.11/site-packages/openai/_base_client.py\", line 1041, in _request\n",
            "    raise self._make_status_error_from_response(err.response) from None\n",
            "openai.RateLimitError: Error code: 429 - {'error': {'message': 'Rate limit reached for gpt-4 in organization org-wlq49T1Tqk7yEzsavICvTByL on tokens per min (TPM): Limit 10000, Used 9701, Requested 1526. Please try again in 7.362s. Visit https://platform.openai.com/account/rate-limits to learn more.', 'type': 'tokens', 'param': None, 'code': 'rate_limit_exceeded'}}\n",
            "Error running evaluator <DynamicRunEvaluator evaluate> on run 0f7447bb-4750-49a1-ab11-4281a2a4c6db: RateLimitError(\"Error code: 429 - {'error': {'message': 'Rate limit reached for gpt-4 in organization org-wlq49T1Tqk7yEzsavICvTByL on tokens per min (TPM): Limit 10000, Used 9647, Requested 1528. Please try again in 7.05s. Visit https://platform.openai.com/account/rate-limits to learn more.', 'type': 'tokens', 'param': None, 'code': 'rate_limit_exceeded'}}\")\n",
            "Traceback (most recent call last):\n",
            "  File \"/Users/kunamkireeti/miniconda3/envs/python3_11/lib/python3.11/site-packages/langsmith/evaluation/_runner.py\", line 1313, in _run_evaluators\n",
            "    evaluator_response = evaluator.evaluate_run(\n",
            "                         ^^^^^^^^^^^^^^^^^^^^^^^\n",
            "  File \"/Users/kunamkireeti/miniconda3/envs/python3_11/lib/python3.11/site-packages/langsmith/evaluation/evaluator.py\", line 278, in evaluate_run\n",
            "    result = self.func(\n",
            "             ^^^^^^^^^^\n",
            "  File \"/Users/kunamkireeti/miniconda3/envs/python3_11/lib/python3.11/site-packages/langsmith/run_helpers.py\", line 609, in wrapper\n",
            "    raise e\n",
            "  File \"/Users/kunamkireeti/miniconda3/envs/python3_11/lib/python3.11/site-packages/langsmith/run_helpers.py\", line 606, in wrapper\n",
            "    function_result = run_container[\"context\"].run(func, *args, **kwargs)\n",
            "                      ^^^^^^^^^^^^^^^^^^^^^^^^^^^^^^^^^^^^^^^^^^^^^^^^^^^\n",
            "  File \"/Users/kunamkireeti/miniconda3/envs/python3_11/lib/python3.11/site-packages/langsmith/evaluation/integrations/_langchain.py\", line 260, in evaluate\n",
            "    results = self.evaluator.evaluate_strings(**eval_inputs)\n",
            "              ^^^^^^^^^^^^^^^^^^^^^^^^^^^^^^^^^^^^^^^^^^^^^^\n",
            "  File \"/Users/kunamkireeti/miniconda3/envs/python3_11/lib/python3.11/site-packages/langchain/evaluation/schema.py\", line 220, in evaluate_strings\n",
            "    return self._evaluate_strings(\n",
            "           ^^^^^^^^^^^^^^^^^^^^^^^\n",
            "  File \"/Users/kunamkireeti/miniconda3/envs/python3_11/lib/python3.11/site-packages/langchain/evaluation/qa/eval_chain.py\", line 303, in _evaluate_strings\n",
            "    result = self(\n",
            "             ^^^^^\n",
            "  File \"/Users/kunamkireeti/miniconda3/envs/python3_11/lib/python3.11/site-packages/langchain_core/_api/deprecation.py\", line 180, in warning_emitting_wrapper\n",
            "    return wrapped(*args, **kwargs)\n",
            "           ^^^^^^^^^^^^^^^^^^^^^^^^\n",
            "  File \"/Users/kunamkireeti/miniconda3/envs/python3_11/lib/python3.11/site-packages/langchain/chains/base.py\", line 381, in __call__\n",
            "    return self.invoke(\n",
            "           ^^^^^^^^^^^^\n",
            "  File \"/Users/kunamkireeti/miniconda3/envs/python3_11/lib/python3.11/site-packages/langchain/chains/base.py\", line 164, in invoke\n",
            "    raise e\n",
            "  File \"/Users/kunamkireeti/miniconda3/envs/python3_11/lib/python3.11/site-packages/langchain/chains/base.py\", line 154, in invoke\n",
            "    self._call(inputs, run_manager=run_manager)\n",
            "  File \"/Users/kunamkireeti/miniconda3/envs/python3_11/lib/python3.11/site-packages/langchain/chains/llm.py\", line 126, in _call\n",
            "    response = self.generate([inputs], run_manager=run_manager)\n",
            "               ^^^^^^^^^^^^^^^^^^^^^^^^^^^^^^^^^^^^^^^^^^^^^^^^\n",
            "  File \"/Users/kunamkireeti/miniconda3/envs/python3_11/lib/python3.11/site-packages/langchain/chains/llm.py\", line 138, in generate\n",
            "    return self.llm.generate_prompt(\n",
            "           ^^^^^^^^^^^^^^^^^^^^^^^^^\n",
            "  File \"/Users/kunamkireeti/miniconda3/envs/python3_11/lib/python3.11/site-packages/langchain_core/language_models/chat_models.py\", line 776, in generate_prompt\n",
            "    return self.generate(prompt_messages, stop=stop, callbacks=callbacks, **kwargs)\n",
            "           ^^^^^^^^^^^^^^^^^^^^^^^^^^^^^^^^^^^^^^^^^^^^^^^^^^^^^^^^^^^^^^^^^^^^^^^^\n",
            "  File \"/Users/kunamkireeti/miniconda3/envs/python3_11/lib/python3.11/site-packages/langchain_core/language_models/chat_models.py\", line 633, in generate\n",
            "    raise e\n",
            "  File \"/Users/kunamkireeti/miniconda3/envs/python3_11/lib/python3.11/site-packages/langchain_core/language_models/chat_models.py\", line 623, in generate\n",
            "    self._generate_with_cache(\n",
            "  File \"/Users/kunamkireeti/miniconda3/envs/python3_11/lib/python3.11/site-packages/langchain_core/language_models/chat_models.py\", line 845, in _generate_with_cache\n",
            "    result = self._generate(\n",
            "             ^^^^^^^^^^^^^^^\n",
            "  File \"/Users/kunamkireeti/miniconda3/envs/python3_11/lib/python3.11/site-packages/langchain_openai/chat_models/base.py\", line 635, in _generate\n",
            "    response = self.client.create(**payload)\n",
            "               ^^^^^^^^^^^^^^^^^^^^^^^^^^^^^\n",
            "  File \"/Users/kunamkireeti/miniconda3/envs/python3_11/lib/python3.11/site-packages/openai/_utils/_utils.py\", line 274, in wrapper\n",
            "    return func(*args, **kwargs)\n",
            "           ^^^^^^^^^^^^^^^^^^^^^\n",
            "  File \"/Users/kunamkireeti/miniconda3/envs/python3_11/lib/python3.11/site-packages/openai/resources/chat/completions.py\", line 668, in create\n",
            "    return self._post(\n",
            "           ^^^^^^^^^^^\n",
            "  File \"/Users/kunamkireeti/miniconda3/envs/python3_11/lib/python3.11/site-packages/openai/_base_client.py\", line 1260, in post\n",
            "    return cast(ResponseT, self.request(cast_to, opts, stream=stream, stream_cls=stream_cls))\n",
            "                           ^^^^^^^^^^^^^^^^^^^^^^^^^^^^^^^^^^^^^^^^^^^^^^^^^^^^^^^^^^^^^^^^^\n",
            "  File \"/Users/kunamkireeti/miniconda3/envs/python3_11/lib/python3.11/site-packages/openai/_base_client.py\", line 937, in request\n",
            "    return self._request(\n",
            "           ^^^^^^^^^^^^^^\n",
            "  File \"/Users/kunamkireeti/miniconda3/envs/python3_11/lib/python3.11/site-packages/openai/_base_client.py\", line 1026, in _request\n",
            "    return self._retry_request(\n",
            "           ^^^^^^^^^^^^^^^^^^^^\n",
            "  File \"/Users/kunamkireeti/miniconda3/envs/python3_11/lib/python3.11/site-packages/openai/_base_client.py\", line 1075, in _retry_request\n",
            "    return self._request(\n",
            "           ^^^^^^^^^^^^^^\n",
            "  File \"/Users/kunamkireeti/miniconda3/envs/python3_11/lib/python3.11/site-packages/openai/_base_client.py\", line 1026, in _request\n",
            "    return self._retry_request(\n",
            "           ^^^^^^^^^^^^^^^^^^^^\n",
            "  File \"/Users/kunamkireeti/miniconda3/envs/python3_11/lib/python3.11/site-packages/openai/_base_client.py\", line 1075, in _retry_request\n",
            "    return self._request(\n",
            "           ^^^^^^^^^^^^^^\n",
            "  File \"/Users/kunamkireeti/miniconda3/envs/python3_11/lib/python3.11/site-packages/openai/_base_client.py\", line 1041, in _request\n",
            "    raise self._make_status_error_from_response(err.response) from None\n",
            "openai.RateLimitError: Error code: 429 - {'error': {'message': 'Rate limit reached for gpt-4 in organization org-wlq49T1Tqk7yEzsavICvTByL on tokens per min (TPM): Limit 10000, Used 9647, Requested 1528. Please try again in 7.05s. Visit https://platform.openai.com/account/rate-limits to learn more.', 'type': 'tokens', 'param': None, 'code': 'rate_limit_exceeded'}}\n",
            "Error running evaluator <DynamicRunEvaluator evaluate> on run 40f3ca87-c5a6-48a3-94fc-5cb6cccf5179: RateLimitError(\"Error code: 429 - {'error': {'message': 'Rate limit reached for gpt-4 in organization org-wlq49T1Tqk7yEzsavICvTByL on tokens per min (TPM): Limit 10000, Used 9421, Requested 1143. Please try again in 3.384s. Visit https://platform.openai.com/account/rate-limits to learn more.', 'type': 'tokens', 'param': None, 'code': 'rate_limit_exceeded'}}\")\n",
            "Traceback (most recent call last):\n",
            "  File \"/Users/kunamkireeti/miniconda3/envs/python3_11/lib/python3.11/site-packages/langsmith/evaluation/_runner.py\", line 1313, in _run_evaluators\n",
            "    evaluator_response = evaluator.evaluate_run(\n",
            "                         ^^^^^^^^^^^^^^^^^^^^^^^\n",
            "  File \"/Users/kunamkireeti/miniconda3/envs/python3_11/lib/python3.11/site-packages/langsmith/evaluation/evaluator.py\", line 278, in evaluate_run\n",
            "    result = self.func(\n",
            "             ^^^^^^^^^^\n",
            "  File \"/Users/kunamkireeti/miniconda3/envs/python3_11/lib/python3.11/site-packages/langsmith/run_helpers.py\", line 609, in wrapper\n",
            "    raise e\n",
            "  File \"/Users/kunamkireeti/miniconda3/envs/python3_11/lib/python3.11/site-packages/langsmith/run_helpers.py\", line 606, in wrapper\n",
            "    function_result = run_container[\"context\"].run(func, *args, **kwargs)\n",
            "                      ^^^^^^^^^^^^^^^^^^^^^^^^^^^^^^^^^^^^^^^^^^^^^^^^^^^\n",
            "  File \"/Users/kunamkireeti/miniconda3/envs/python3_11/lib/python3.11/site-packages/langsmith/evaluation/integrations/_langchain.py\", line 260, in evaluate\n",
            "    results = self.evaluator.evaluate_strings(**eval_inputs)\n",
            "              ^^^^^^^^^^^^^^^^^^^^^^^^^^^^^^^^^^^^^^^^^^^^^^\n",
            "  File \"/Users/kunamkireeti/miniconda3/envs/python3_11/lib/python3.11/site-packages/langchain/evaluation/schema.py\", line 220, in evaluate_strings\n",
            "    return self._evaluate_strings(\n",
            "           ^^^^^^^^^^^^^^^^^^^^^^^\n",
            "  File \"/Users/kunamkireeti/miniconda3/envs/python3_11/lib/python3.11/site-packages/langchain/evaluation/qa/eval_chain.py\", line 303, in _evaluate_strings\n",
            "    result = self(\n",
            "             ^^^^^\n",
            "  File \"/Users/kunamkireeti/miniconda3/envs/python3_11/lib/python3.11/site-packages/langchain_core/_api/deprecation.py\", line 180, in warning_emitting_wrapper\n",
            "    return wrapped(*args, **kwargs)\n",
            "           ^^^^^^^^^^^^^^^^^^^^^^^^\n",
            "  File \"/Users/kunamkireeti/miniconda3/envs/python3_11/lib/python3.11/site-packages/langchain/chains/base.py\", line 381, in __call__\n",
            "    return self.invoke(\n",
            "           ^^^^^^^^^^^^\n",
            "  File \"/Users/kunamkireeti/miniconda3/envs/python3_11/lib/python3.11/site-packages/langchain/chains/base.py\", line 164, in invoke\n",
            "    raise e\n",
            "  File \"/Users/kunamkireeti/miniconda3/envs/python3_11/lib/python3.11/site-packages/langchain/chains/base.py\", line 154, in invoke\n",
            "    self._call(inputs, run_manager=run_manager)\n",
            "  File \"/Users/kunamkireeti/miniconda3/envs/python3_11/lib/python3.11/site-packages/langchain/chains/llm.py\", line 126, in _call\n",
            "    response = self.generate([inputs], run_manager=run_manager)\n",
            "               ^^^^^^^^^^^^^^^^^^^^^^^^^^^^^^^^^^^^^^^^^^^^^^^^\n",
            "  File \"/Users/kunamkireeti/miniconda3/envs/python3_11/lib/python3.11/site-packages/langchain/chains/llm.py\", line 138, in generate\n",
            "    return self.llm.generate_prompt(\n",
            "           ^^^^^^^^^^^^^^^^^^^^^^^^^\n",
            "  File \"/Users/kunamkireeti/miniconda3/envs/python3_11/lib/python3.11/site-packages/langchain_core/language_models/chat_models.py\", line 776, in generate_prompt\n",
            "    return self.generate(prompt_messages, stop=stop, callbacks=callbacks, **kwargs)\n",
            "           ^^^^^^^^^^^^^^^^^^^^^^^^^^^^^^^^^^^^^^^^^^^^^^^^^^^^^^^^^^^^^^^^^^^^^^^^\n",
            "  File \"/Users/kunamkireeti/miniconda3/envs/python3_11/lib/python3.11/site-packages/langchain_core/language_models/chat_models.py\", line 633, in generate\n",
            "    raise e\n",
            "  File \"/Users/kunamkireeti/miniconda3/envs/python3_11/lib/python3.11/site-packages/langchain_core/language_models/chat_models.py\", line 623, in generate\n",
            "    self._generate_with_cache(\n",
            "  File \"/Users/kunamkireeti/miniconda3/envs/python3_11/lib/python3.11/site-packages/langchain_core/language_models/chat_models.py\", line 845, in _generate_with_cache\n",
            "    result = self._generate(\n",
            "             ^^^^^^^^^^^^^^^\n",
            "  File \"/Users/kunamkireeti/miniconda3/envs/python3_11/lib/python3.11/site-packages/langchain_openai/chat_models/base.py\", line 635, in _generate\n",
            "    response = self.client.create(**payload)\n",
            "               ^^^^^^^^^^^^^^^^^^^^^^^^^^^^^\n",
            "  File \"/Users/kunamkireeti/miniconda3/envs/python3_11/lib/python3.11/site-packages/openai/_utils/_utils.py\", line 274, in wrapper\n",
            "    return func(*args, **kwargs)\n",
            "           ^^^^^^^^^^^^^^^^^^^^^\n",
            "  File \"/Users/kunamkireeti/miniconda3/envs/python3_11/lib/python3.11/site-packages/openai/resources/chat/completions.py\", line 668, in create\n",
            "    return self._post(\n",
            "           ^^^^^^^^^^^\n",
            "  File \"/Users/kunamkireeti/miniconda3/envs/python3_11/lib/python3.11/site-packages/openai/_base_client.py\", line 1260, in post\n",
            "    return cast(ResponseT, self.request(cast_to, opts, stream=stream, stream_cls=stream_cls))\n",
            "                           ^^^^^^^^^^^^^^^^^^^^^^^^^^^^^^^^^^^^^^^^^^^^^^^^^^^^^^^^^^^^^^^^^\n",
            "  File \"/Users/kunamkireeti/miniconda3/envs/python3_11/lib/python3.11/site-packages/openai/_base_client.py\", line 937, in request\n",
            "    return self._request(\n",
            "           ^^^^^^^^^^^^^^\n",
            "  File \"/Users/kunamkireeti/miniconda3/envs/python3_11/lib/python3.11/site-packages/openai/_base_client.py\", line 1026, in _request\n",
            "    return self._retry_request(\n",
            "           ^^^^^^^^^^^^^^^^^^^^\n",
            "  File \"/Users/kunamkireeti/miniconda3/envs/python3_11/lib/python3.11/site-packages/openai/_base_client.py\", line 1075, in _retry_request\n",
            "    return self._request(\n",
            "           ^^^^^^^^^^^^^^\n",
            "  File \"/Users/kunamkireeti/miniconda3/envs/python3_11/lib/python3.11/site-packages/openai/_base_client.py\", line 1026, in _request\n",
            "    return self._retry_request(\n",
            "           ^^^^^^^^^^^^^^^^^^^^\n",
            "  File \"/Users/kunamkireeti/miniconda3/envs/python3_11/lib/python3.11/site-packages/openai/_base_client.py\", line 1075, in _retry_request\n",
            "    return self._request(\n",
            "           ^^^^^^^^^^^^^^\n",
            "  File \"/Users/kunamkireeti/miniconda3/envs/python3_11/lib/python3.11/site-packages/openai/_base_client.py\", line 1041, in _request\n",
            "    raise self._make_status_error_from_response(err.response) from None\n",
            "openai.RateLimitError: Error code: 429 - {'error': {'message': 'Rate limit reached for gpt-4 in organization org-wlq49T1Tqk7yEzsavICvTByL on tokens per min (TPM): Limit 10000, Used 9421, Requested 1143. Please try again in 3.384s. Visit https://platform.openai.com/account/rate-limits to learn more.', 'type': 'tokens', 'param': None, 'code': 'rate_limit_exceeded'}}\n",
            "Error running evaluator <DynamicRunEvaluator evaluate> on run 3c14aa4e-27e3-45e5-aafd-a6f36a6022bf: RateLimitError(\"Error code: 429 - {'error': {'message': 'Rate limit reached for gpt-4 in organization org-wlq49T1Tqk7yEzsavICvTByL on tokens per min (TPM): Limit 10000, Used 8561, Requested 1495. Please try again in 336ms. Visit https://platform.openai.com/account/rate-limits to learn more.', 'type': 'tokens', 'param': None, 'code': 'rate_limit_exceeded'}}\")\n",
            "Traceback (most recent call last):\n",
            "  File \"/Users/kunamkireeti/miniconda3/envs/python3_11/lib/python3.11/site-packages/langsmith/evaluation/_runner.py\", line 1313, in _run_evaluators\n",
            "    evaluator_response = evaluator.evaluate_run(\n",
            "                         ^^^^^^^^^^^^^^^^^^^^^^^\n",
            "  File \"/Users/kunamkireeti/miniconda3/envs/python3_11/lib/python3.11/site-packages/langsmith/evaluation/evaluator.py\", line 278, in evaluate_run\n",
            "    result = self.func(\n",
            "             ^^^^^^^^^^\n",
            "  File \"/Users/kunamkireeti/miniconda3/envs/python3_11/lib/python3.11/site-packages/langsmith/run_helpers.py\", line 609, in wrapper\n",
            "    raise e\n",
            "  File \"/Users/kunamkireeti/miniconda3/envs/python3_11/lib/python3.11/site-packages/langsmith/run_helpers.py\", line 606, in wrapper\n",
            "    function_result = run_container[\"context\"].run(func, *args, **kwargs)\n",
            "                      ^^^^^^^^^^^^^^^^^^^^^^^^^^^^^^^^^^^^^^^^^^^^^^^^^^^\n",
            "  File \"/Users/kunamkireeti/miniconda3/envs/python3_11/lib/python3.11/site-packages/langsmith/evaluation/integrations/_langchain.py\", line 260, in evaluate\n",
            "    results = self.evaluator.evaluate_strings(**eval_inputs)\n",
            "              ^^^^^^^^^^^^^^^^^^^^^^^^^^^^^^^^^^^^^^^^^^^^^^\n",
            "  File \"/Users/kunamkireeti/miniconda3/envs/python3_11/lib/python3.11/site-packages/langchain/evaluation/schema.py\", line 220, in evaluate_strings\n",
            "    return self._evaluate_strings(\n",
            "           ^^^^^^^^^^^^^^^^^^^^^^^\n",
            "  File \"/Users/kunamkireeti/miniconda3/envs/python3_11/lib/python3.11/site-packages/langchain/evaluation/qa/eval_chain.py\", line 303, in _evaluate_strings\n",
            "    result = self(\n",
            "             ^^^^^\n",
            "  File \"/Users/kunamkireeti/miniconda3/envs/python3_11/lib/python3.11/site-packages/langchain_core/_api/deprecation.py\", line 180, in warning_emitting_wrapper\n",
            "    return wrapped(*args, **kwargs)\n",
            "           ^^^^^^^^^^^^^^^^^^^^^^^^\n",
            "  File \"/Users/kunamkireeti/miniconda3/envs/python3_11/lib/python3.11/site-packages/langchain/chains/base.py\", line 381, in __call__\n",
            "    return self.invoke(\n",
            "           ^^^^^^^^^^^^\n",
            "  File \"/Users/kunamkireeti/miniconda3/envs/python3_11/lib/python3.11/site-packages/langchain/chains/base.py\", line 164, in invoke\n",
            "    raise e\n",
            "  File \"/Users/kunamkireeti/miniconda3/envs/python3_11/lib/python3.11/site-packages/langchain/chains/base.py\", line 154, in invoke\n",
            "    self._call(inputs, run_manager=run_manager)\n",
            "  File \"/Users/kunamkireeti/miniconda3/envs/python3_11/lib/python3.11/site-packages/langchain/chains/llm.py\", line 126, in _call\n",
            "    response = self.generate([inputs], run_manager=run_manager)\n",
            "               ^^^^^^^^^^^^^^^^^^^^^^^^^^^^^^^^^^^^^^^^^^^^^^^^\n",
            "  File \"/Users/kunamkireeti/miniconda3/envs/python3_11/lib/python3.11/site-packages/langchain/chains/llm.py\", line 138, in generate\n",
            "    return self.llm.generate_prompt(\n",
            "           ^^^^^^^^^^^^^^^^^^^^^^^^^\n",
            "  File \"/Users/kunamkireeti/miniconda3/envs/python3_11/lib/python3.11/site-packages/langchain_core/language_models/chat_models.py\", line 776, in generate_prompt\n",
            "    return self.generate(prompt_messages, stop=stop, callbacks=callbacks, **kwargs)\n",
            "           ^^^^^^^^^^^^^^^^^^^^^^^^^^^^^^^^^^^^^^^^^^^^^^^^^^^^^^^^^^^^^^^^^^^^^^^^\n",
            "  File \"/Users/kunamkireeti/miniconda3/envs/python3_11/lib/python3.11/site-packages/langchain_core/language_models/chat_models.py\", line 633, in generate\n",
            "    raise e\n",
            "  File \"/Users/kunamkireeti/miniconda3/envs/python3_11/lib/python3.11/site-packages/langchain_core/language_models/chat_models.py\", line 623, in generate\n",
            "    self._generate_with_cache(\n",
            "  File \"/Users/kunamkireeti/miniconda3/envs/python3_11/lib/python3.11/site-packages/langchain_core/language_models/chat_models.py\", line 845, in _generate_with_cache\n",
            "    result = self._generate(\n",
            "             ^^^^^^^^^^^^^^^\n",
            "  File \"/Users/kunamkireeti/miniconda3/envs/python3_11/lib/python3.11/site-packages/langchain_openai/chat_models/base.py\", line 635, in _generate\n",
            "    response = self.client.create(**payload)\n",
            "               ^^^^^^^^^^^^^^^^^^^^^^^^^^^^^\n",
            "  File \"/Users/kunamkireeti/miniconda3/envs/python3_11/lib/python3.11/site-packages/openai/_utils/_utils.py\", line 274, in wrapper\n",
            "    return func(*args, **kwargs)\n",
            "           ^^^^^^^^^^^^^^^^^^^^^\n",
            "  File \"/Users/kunamkireeti/miniconda3/envs/python3_11/lib/python3.11/site-packages/openai/resources/chat/completions.py\", line 668, in create\n",
            "    return self._post(\n",
            "           ^^^^^^^^^^^\n",
            "  File \"/Users/kunamkireeti/miniconda3/envs/python3_11/lib/python3.11/site-packages/openai/_base_client.py\", line 1260, in post\n",
            "    return cast(ResponseT, self.request(cast_to, opts, stream=stream, stream_cls=stream_cls))\n",
            "                           ^^^^^^^^^^^^^^^^^^^^^^^^^^^^^^^^^^^^^^^^^^^^^^^^^^^^^^^^^^^^^^^^^\n",
            "  File \"/Users/kunamkireeti/miniconda3/envs/python3_11/lib/python3.11/site-packages/openai/_base_client.py\", line 937, in request\n",
            "    return self._request(\n",
            "           ^^^^^^^^^^^^^^\n",
            "  File \"/Users/kunamkireeti/miniconda3/envs/python3_11/lib/python3.11/site-packages/openai/_base_client.py\", line 1026, in _request\n",
            "    return self._retry_request(\n",
            "           ^^^^^^^^^^^^^^^^^^^^\n",
            "  File \"/Users/kunamkireeti/miniconda3/envs/python3_11/lib/python3.11/site-packages/openai/_base_client.py\", line 1075, in _retry_request\n",
            "    return self._request(\n",
            "           ^^^^^^^^^^^^^^\n",
            "  File \"/Users/kunamkireeti/miniconda3/envs/python3_11/lib/python3.11/site-packages/openai/_base_client.py\", line 1026, in _request\n",
            "    return self._retry_request(\n",
            "           ^^^^^^^^^^^^^^^^^^^^\n",
            "  File \"/Users/kunamkireeti/miniconda3/envs/python3_11/lib/python3.11/site-packages/openai/_base_client.py\", line 1075, in _retry_request\n",
            "    return self._request(\n",
            "           ^^^^^^^^^^^^^^\n",
            "  File \"/Users/kunamkireeti/miniconda3/envs/python3_11/lib/python3.11/site-packages/openai/_base_client.py\", line 1041, in _request\n",
            "    raise self._make_status_error_from_response(err.response) from None\n",
            "openai.RateLimitError: Error code: 429 - {'error': {'message': 'Rate limit reached for gpt-4 in organization org-wlq49T1Tqk7yEzsavICvTByL on tokens per min (TPM): Limit 10000, Used 8561, Requested 1495. Please try again in 336ms. Visit https://platform.openai.com/account/rate-limits to learn more.', 'type': 'tokens', 'param': None, 'code': 'rate_limit_exceeded'}}\n",
            "Error running evaluator <DynamicRunEvaluator evaluate> on run a5004ed1-154b-4dc6-8ca9-078ba5a846e1: RateLimitError(\"Error code: 429 - {'error': {'message': 'Rate limit reached for gpt-4 in organization org-wlq49T1Tqk7yEzsavICvTByL on tokens per min (TPM): Limit 10000, Used 8392, Requested 1664. Please try again in 336ms. Visit https://platform.openai.com/account/rate-limits to learn more.', 'type': 'tokens', 'param': None, 'code': 'rate_limit_exceeded'}}\")\n",
            "Traceback (most recent call last):\n",
            "  File \"/Users/kunamkireeti/miniconda3/envs/python3_11/lib/python3.11/site-packages/langsmith/evaluation/_runner.py\", line 1313, in _run_evaluators\n",
            "    evaluator_response = evaluator.evaluate_run(\n",
            "                         ^^^^^^^^^^^^^^^^^^^^^^^\n",
            "  File \"/Users/kunamkireeti/miniconda3/envs/python3_11/lib/python3.11/site-packages/langsmith/evaluation/evaluator.py\", line 278, in evaluate_run\n",
            "    result = self.func(\n",
            "             ^^^^^^^^^^\n",
            "  File \"/Users/kunamkireeti/miniconda3/envs/python3_11/lib/python3.11/site-packages/langsmith/run_helpers.py\", line 609, in wrapper\n",
            "    raise e\n",
            "  File \"/Users/kunamkireeti/miniconda3/envs/python3_11/lib/python3.11/site-packages/langsmith/run_helpers.py\", line 606, in wrapper\n",
            "    function_result = run_container[\"context\"].run(func, *args, **kwargs)\n",
            "                      ^^^^^^^^^^^^^^^^^^^^^^^^^^^^^^^^^^^^^^^^^^^^^^^^^^^\n",
            "  File \"/Users/kunamkireeti/miniconda3/envs/python3_11/lib/python3.11/site-packages/langsmith/evaluation/integrations/_langchain.py\", line 260, in evaluate\n",
            "    results = self.evaluator.evaluate_strings(**eval_inputs)\n",
            "              ^^^^^^^^^^^^^^^^^^^^^^^^^^^^^^^^^^^^^^^^^^^^^^\n",
            "  File \"/Users/kunamkireeti/miniconda3/envs/python3_11/lib/python3.11/site-packages/langchain/evaluation/schema.py\", line 220, in evaluate_strings\n",
            "    return self._evaluate_strings(\n",
            "           ^^^^^^^^^^^^^^^^^^^^^^^\n",
            "  File \"/Users/kunamkireeti/miniconda3/envs/python3_11/lib/python3.11/site-packages/langchain/evaluation/qa/eval_chain.py\", line 303, in _evaluate_strings\n",
            "    result = self(\n",
            "             ^^^^^\n",
            "  File \"/Users/kunamkireeti/miniconda3/envs/python3_11/lib/python3.11/site-packages/langchain_core/_api/deprecation.py\", line 180, in warning_emitting_wrapper\n",
            "    return wrapped(*args, **kwargs)\n",
            "           ^^^^^^^^^^^^^^^^^^^^^^^^\n",
            "  File \"/Users/kunamkireeti/miniconda3/envs/python3_11/lib/python3.11/site-packages/langchain/chains/base.py\", line 381, in __call__\n",
            "    return self.invoke(\n",
            "           ^^^^^^^^^^^^\n",
            "  File \"/Users/kunamkireeti/miniconda3/envs/python3_11/lib/python3.11/site-packages/langchain/chains/base.py\", line 164, in invoke\n",
            "    raise e\n",
            "  File \"/Users/kunamkireeti/miniconda3/envs/python3_11/lib/python3.11/site-packages/langchain/chains/base.py\", line 154, in invoke\n",
            "    self._call(inputs, run_manager=run_manager)\n",
            "  File \"/Users/kunamkireeti/miniconda3/envs/python3_11/lib/python3.11/site-packages/langchain/chains/llm.py\", line 126, in _call\n",
            "    response = self.generate([inputs], run_manager=run_manager)\n",
            "               ^^^^^^^^^^^^^^^^^^^^^^^^^^^^^^^^^^^^^^^^^^^^^^^^\n",
            "  File \"/Users/kunamkireeti/miniconda3/envs/python3_11/lib/python3.11/site-packages/langchain/chains/llm.py\", line 138, in generate\n",
            "    return self.llm.generate_prompt(\n",
            "           ^^^^^^^^^^^^^^^^^^^^^^^^^\n",
            "  File \"/Users/kunamkireeti/miniconda3/envs/python3_11/lib/python3.11/site-packages/langchain_core/language_models/chat_models.py\", line 776, in generate_prompt\n",
            "    return self.generate(prompt_messages, stop=stop, callbacks=callbacks, **kwargs)\n",
            "           ^^^^^^^^^^^^^^^^^^^^^^^^^^^^^^^^^^^^^^^^^^^^^^^^^^^^^^^^^^^^^^^^^^^^^^^^\n",
            "  File \"/Users/kunamkireeti/miniconda3/envs/python3_11/lib/python3.11/site-packages/langchain_core/language_models/chat_models.py\", line 633, in generate\n",
            "    raise e\n",
            "  File \"/Users/kunamkireeti/miniconda3/envs/python3_11/lib/python3.11/site-packages/langchain_core/language_models/chat_models.py\", line 623, in generate\n",
            "    self._generate_with_cache(\n",
            "  File \"/Users/kunamkireeti/miniconda3/envs/python3_11/lib/python3.11/site-packages/langchain_core/language_models/chat_models.py\", line 845, in _generate_with_cache\n",
            "    result = self._generate(\n",
            "             ^^^^^^^^^^^^^^^\n",
            "  File \"/Users/kunamkireeti/miniconda3/envs/python3_11/lib/python3.11/site-packages/langchain_openai/chat_models/base.py\", line 635, in _generate\n",
            "    response = self.client.create(**payload)\n",
            "               ^^^^^^^^^^^^^^^^^^^^^^^^^^^^^\n",
            "  File \"/Users/kunamkireeti/miniconda3/envs/python3_11/lib/python3.11/site-packages/openai/_utils/_utils.py\", line 274, in wrapper\n",
            "    return func(*args, **kwargs)\n",
            "           ^^^^^^^^^^^^^^^^^^^^^\n",
            "  File \"/Users/kunamkireeti/miniconda3/envs/python3_11/lib/python3.11/site-packages/openai/resources/chat/completions.py\", line 668, in create\n",
            "    return self._post(\n",
            "           ^^^^^^^^^^^\n",
            "  File \"/Users/kunamkireeti/miniconda3/envs/python3_11/lib/python3.11/site-packages/openai/_base_client.py\", line 1260, in post\n",
            "    return cast(ResponseT, self.request(cast_to, opts, stream=stream, stream_cls=stream_cls))\n",
            "                           ^^^^^^^^^^^^^^^^^^^^^^^^^^^^^^^^^^^^^^^^^^^^^^^^^^^^^^^^^^^^^^^^^\n",
            "  File \"/Users/kunamkireeti/miniconda3/envs/python3_11/lib/python3.11/site-packages/openai/_base_client.py\", line 937, in request\n",
            "    return self._request(\n",
            "           ^^^^^^^^^^^^^^\n",
            "  File \"/Users/kunamkireeti/miniconda3/envs/python3_11/lib/python3.11/site-packages/openai/_base_client.py\", line 1026, in _request\n",
            "    return self._retry_request(\n",
            "           ^^^^^^^^^^^^^^^^^^^^\n",
            "  File \"/Users/kunamkireeti/miniconda3/envs/python3_11/lib/python3.11/site-packages/openai/_base_client.py\", line 1075, in _retry_request\n",
            "    return self._request(\n",
            "           ^^^^^^^^^^^^^^\n",
            "  File \"/Users/kunamkireeti/miniconda3/envs/python3_11/lib/python3.11/site-packages/openai/_base_client.py\", line 1026, in _request\n",
            "    return self._retry_request(\n",
            "           ^^^^^^^^^^^^^^^^^^^^\n",
            "  File \"/Users/kunamkireeti/miniconda3/envs/python3_11/lib/python3.11/site-packages/openai/_base_client.py\", line 1075, in _retry_request\n",
            "    return self._request(\n",
            "           ^^^^^^^^^^^^^^\n",
            "  File \"/Users/kunamkireeti/miniconda3/envs/python3_11/lib/python3.11/site-packages/openai/_base_client.py\", line 1041, in _request\n",
            "    raise self._make_status_error_from_response(err.response) from None\n",
            "openai.RateLimitError: Error code: 429 - {'error': {'message': 'Rate limit reached for gpt-4 in organization org-wlq49T1Tqk7yEzsavICvTByL on tokens per min (TPM): Limit 10000, Used 8392, Requested 1664. Please try again in 336ms. Visit https://platform.openai.com/account/rate-limits to learn more.', 'type': 'tokens', 'param': None, 'code': 'rate_limit_exceeded'}}\n",
            "Error running evaluator <DynamicRunEvaluator evaluate> on run f1b93932-87cd-4b20-804d-eaf01abe923e: RateLimitError(\"Error code: 429 - {'error': {'message': 'Rate limit reached for gpt-4 in organization org-wlq49T1Tqk7yEzsavICvTByL on tokens per min (TPM): Limit 10000, Used 8128, Requested 1929. Please try again in 342ms. Visit https://platform.openai.com/account/rate-limits to learn more.', 'type': 'tokens', 'param': None, 'code': 'rate_limit_exceeded'}}\")\n",
            "Traceback (most recent call last):\n",
            "  File \"/Users/kunamkireeti/miniconda3/envs/python3_11/lib/python3.11/site-packages/langsmith/evaluation/_runner.py\", line 1313, in _run_evaluators\n",
            "    evaluator_response = evaluator.evaluate_run(\n",
            "                         ^^^^^^^^^^^^^^^^^^^^^^^\n",
            "  File \"/Users/kunamkireeti/miniconda3/envs/python3_11/lib/python3.11/site-packages/langsmith/evaluation/evaluator.py\", line 278, in evaluate_run\n",
            "    result = self.func(\n",
            "             ^^^^^^^^^^\n",
            "  File \"/Users/kunamkireeti/miniconda3/envs/python3_11/lib/python3.11/site-packages/langsmith/run_helpers.py\", line 609, in wrapper\n",
            "    raise e\n",
            "  File \"/Users/kunamkireeti/miniconda3/envs/python3_11/lib/python3.11/site-packages/langsmith/run_helpers.py\", line 606, in wrapper\n",
            "    function_result = run_container[\"context\"].run(func, *args, **kwargs)\n",
            "                      ^^^^^^^^^^^^^^^^^^^^^^^^^^^^^^^^^^^^^^^^^^^^^^^^^^^\n",
            "  File \"/Users/kunamkireeti/miniconda3/envs/python3_11/lib/python3.11/site-packages/langsmith/evaluation/integrations/_langchain.py\", line 260, in evaluate\n",
            "    results = self.evaluator.evaluate_strings(**eval_inputs)\n",
            "              ^^^^^^^^^^^^^^^^^^^^^^^^^^^^^^^^^^^^^^^^^^^^^^\n",
            "  File \"/Users/kunamkireeti/miniconda3/envs/python3_11/lib/python3.11/site-packages/langchain/evaluation/schema.py\", line 220, in evaluate_strings\n",
            "    return self._evaluate_strings(\n",
            "           ^^^^^^^^^^^^^^^^^^^^^^^\n",
            "  File \"/Users/kunamkireeti/miniconda3/envs/python3_11/lib/python3.11/site-packages/langchain/evaluation/qa/eval_chain.py\", line 303, in _evaluate_strings\n",
            "    result = self(\n",
            "             ^^^^^\n",
            "  File \"/Users/kunamkireeti/miniconda3/envs/python3_11/lib/python3.11/site-packages/langchain_core/_api/deprecation.py\", line 180, in warning_emitting_wrapper\n",
            "    return wrapped(*args, **kwargs)\n",
            "           ^^^^^^^^^^^^^^^^^^^^^^^^\n",
            "  File \"/Users/kunamkireeti/miniconda3/envs/python3_11/lib/python3.11/site-packages/langchain/chains/base.py\", line 381, in __call__\n",
            "    return self.invoke(\n",
            "           ^^^^^^^^^^^^\n",
            "  File \"/Users/kunamkireeti/miniconda3/envs/python3_11/lib/python3.11/site-packages/langchain/chains/base.py\", line 164, in invoke\n",
            "    raise e\n",
            "  File \"/Users/kunamkireeti/miniconda3/envs/python3_11/lib/python3.11/site-packages/langchain/chains/base.py\", line 154, in invoke\n",
            "    self._call(inputs, run_manager=run_manager)\n",
            "  File \"/Users/kunamkireeti/miniconda3/envs/python3_11/lib/python3.11/site-packages/langchain/chains/llm.py\", line 126, in _call\n",
            "    response = self.generate([inputs], run_manager=run_manager)\n",
            "               ^^^^^^^^^^^^^^^^^^^^^^^^^^^^^^^^^^^^^^^^^^^^^^^^\n",
            "  File \"/Users/kunamkireeti/miniconda3/envs/python3_11/lib/python3.11/site-packages/langchain/chains/llm.py\", line 138, in generate\n",
            "    return self.llm.generate_prompt(\n",
            "           ^^^^^^^^^^^^^^^^^^^^^^^^^\n",
            "  File \"/Users/kunamkireeti/miniconda3/envs/python3_11/lib/python3.11/site-packages/langchain_core/language_models/chat_models.py\", line 776, in generate_prompt\n",
            "    return self.generate(prompt_messages, stop=stop, callbacks=callbacks, **kwargs)\n",
            "           ^^^^^^^^^^^^^^^^^^^^^^^^^^^^^^^^^^^^^^^^^^^^^^^^^^^^^^^^^^^^^^^^^^^^^^^^\n",
            "  File \"/Users/kunamkireeti/miniconda3/envs/python3_11/lib/python3.11/site-packages/langchain_core/language_models/chat_models.py\", line 633, in generate\n",
            "    raise e\n",
            "  File \"/Users/kunamkireeti/miniconda3/envs/python3_11/lib/python3.11/site-packages/langchain_core/language_models/chat_models.py\", line 623, in generate\n",
            "    self._generate_with_cache(\n",
            "  File \"/Users/kunamkireeti/miniconda3/envs/python3_11/lib/python3.11/site-packages/langchain_core/language_models/chat_models.py\", line 845, in _generate_with_cache\n",
            "    result = self._generate(\n",
            "             ^^^^^^^^^^^^^^^\n",
            "  File \"/Users/kunamkireeti/miniconda3/envs/python3_11/lib/python3.11/site-packages/langchain_openai/chat_models/base.py\", line 635, in _generate\n",
            "    response = self.client.create(**payload)\n",
            "               ^^^^^^^^^^^^^^^^^^^^^^^^^^^^^\n",
            "  File \"/Users/kunamkireeti/miniconda3/envs/python3_11/lib/python3.11/site-packages/openai/_utils/_utils.py\", line 274, in wrapper\n",
            "    return func(*args, **kwargs)\n",
            "           ^^^^^^^^^^^^^^^^^^^^^\n",
            "  File \"/Users/kunamkireeti/miniconda3/envs/python3_11/lib/python3.11/site-packages/openai/resources/chat/completions.py\", line 668, in create\n",
            "    return self._post(\n",
            "           ^^^^^^^^^^^\n",
            "  File \"/Users/kunamkireeti/miniconda3/envs/python3_11/lib/python3.11/site-packages/openai/_base_client.py\", line 1260, in post\n",
            "    return cast(ResponseT, self.request(cast_to, opts, stream=stream, stream_cls=stream_cls))\n",
            "                           ^^^^^^^^^^^^^^^^^^^^^^^^^^^^^^^^^^^^^^^^^^^^^^^^^^^^^^^^^^^^^^^^^\n",
            "  File \"/Users/kunamkireeti/miniconda3/envs/python3_11/lib/python3.11/site-packages/openai/_base_client.py\", line 937, in request\n",
            "    return self._request(\n",
            "           ^^^^^^^^^^^^^^\n",
            "  File \"/Users/kunamkireeti/miniconda3/envs/python3_11/lib/python3.11/site-packages/openai/_base_client.py\", line 1026, in _request\n",
            "    return self._retry_request(\n",
            "           ^^^^^^^^^^^^^^^^^^^^\n",
            "  File \"/Users/kunamkireeti/miniconda3/envs/python3_11/lib/python3.11/site-packages/openai/_base_client.py\", line 1075, in _retry_request\n",
            "    return self._request(\n",
            "           ^^^^^^^^^^^^^^\n",
            "  File \"/Users/kunamkireeti/miniconda3/envs/python3_11/lib/python3.11/site-packages/openai/_base_client.py\", line 1026, in _request\n",
            "    return self._retry_request(\n",
            "           ^^^^^^^^^^^^^^^^^^^^\n",
            "  File \"/Users/kunamkireeti/miniconda3/envs/python3_11/lib/python3.11/site-packages/openai/_base_client.py\", line 1075, in _retry_request\n",
            "    return self._request(\n",
            "           ^^^^^^^^^^^^^^\n",
            "  File \"/Users/kunamkireeti/miniconda3/envs/python3_11/lib/python3.11/site-packages/openai/_base_client.py\", line 1041, in _request\n",
            "    raise self._make_status_error_from_response(err.response) from None\n",
            "openai.RateLimitError: Error code: 429 - {'error': {'message': 'Rate limit reached for gpt-4 in organization org-wlq49T1Tqk7yEzsavICvTByL on tokens per min (TPM): Limit 10000, Used 8128, Requested 1929. Please try again in 342ms. Visit https://platform.openai.com/account/rate-limits to learn more.', 'type': 'tokens', 'param': None, 'code': 'rate_limit_exceeded'}}\n"
          ]
        }
      ],
      "source": [
        "from langsmith.evaluation import LangChainStringEvaluator, evaluate\n",
        "\n",
        "cot_qa_evaluator = LangChainStringEvaluator(\"cot_qa\", prepare_data=prepare_context_ref)\n",
        "\n",
        "unlabeled_dopeness_evaluator = LangChainStringEvaluator(\n",
        "    \"criteria\",\n",
        "    config={\n",
        "        \"criteria\" : {\n",
        "            \"dopeness\" : \"Is the answer to the question dope, meaning cool - awesome - and legit?\"\n",
        "        },\n",
        "        \"llm\": ChatOpenAI(model=\"gpt-4o-mini\")\n",
        "    },\n",
        "    prepare_data=prepare_data_noref\n",
        ")\n",
        "\n",
        "labeled_score_evaluator = LangChainStringEvaluator(\n",
        "    \"labeled_score_string\",\n",
        "    config={\n",
        "        \"criteria\": {\n",
        "            \"accuracy\": \"Is the generated answer the same as the reference answer?\"\n",
        "        },\n",
        "        \"llm\": ChatOpenAI(model=\"gpt-4o-mini\")\n",
        "    },\n",
        "    prepare_data=prepare_data_ref\n",
        ")\n",
        "\n",
        "base_rag_results = evaluate(\n",
        "    retrieval_augmented_qa_chain.invoke,\n",
        "    data=dataset_name,\n",
        "    evaluators=[\n",
        "        cot_qa_evaluator,\n",
        "        unlabeled_dopeness_evaluator,\n",
        "        labeled_score_evaluator,\n",
        "        ],\n",
        "    experiment_prefix=\"Base RAG Evaluation\"\n",
        ")"
      ]
    },
    {
      "cell_type": "markdown",
      "metadata": {},
      "source": [
        "![image](https://i.imgur.com/5x1XOvH.png)"
      ]
    },
    {
      "cell_type": "markdown",
      "metadata": {
        "id": "YPocfrNFiYWi"
      },
      "source": [
        "#### ❓Question #1:\n",
        "\n",
        "What conclusions can you draw about the above results?\n",
        "\n",
        "- answer: \n",
        "    - I am not sure why it is yielding different results on every run even though I am not changing any parameters of the model. The cot-contextual score in the second round is very good indication(0.8), that means model is able to produce the answer similar to the ground truth answer. \n",
        "    - A dopeness score of 0.43 indicates it's not particularly impressive or highly engaging\n",
        "    - Accuracy 0.65 means that the answer is somewhat accurate, capturing the main idea or correct elements about 65% of the time. \n",
        "\n"
      ]
    }
  ],
  "metadata": {
    "colab": {
      "provenance": [],
      "toc_visible": true
    },
    "kernelspec": {
      "display_name": "Python 3",
      "name": "python3"
    },
    "language_info": {
      "codemirror_mode": {
        "name": "ipython",
        "version": 3
      },
      "file_extension": ".py",
      "mimetype": "text/x-python",
      "name": "python",
      "nbconvert_exporter": "python",
      "pygments_lexer": "ipython3",
      "version": "3.11.8"
    },
    "widgets": {
      "application/vnd.jupyter.widget-state+json": {
        "17d4193e78a14050a11c5f8306b3ba0b": {
          "model_module": "@jupyter-widgets/base",
          "model_module_version": "1.2.0",
          "model_name": "LayoutModel",
          "state": {
            "_model_module": "@jupyter-widgets/base",
            "_model_module_version": "1.2.0",
            "_model_name": "LayoutModel",
            "_view_count": null,
            "_view_module": "@jupyter-widgets/base",
            "_view_module_version": "1.2.0",
            "_view_name": "LayoutView",
            "align_content": null,
            "align_items": null,
            "align_self": null,
            "border": null,
            "bottom": null,
            "display": null,
            "flex": null,
            "flex_flow": null,
            "grid_area": null,
            "grid_auto_columns": null,
            "grid_auto_flow": null,
            "grid_auto_rows": null,
            "grid_column": null,
            "grid_gap": null,
            "grid_row": null,
            "grid_template_areas": null,
            "grid_template_columns": null,
            "grid_template_rows": null,
            "height": null,
            "justify_content": null,
            "justify_items": null,
            "left": null,
            "margin": null,
            "max_height": null,
            "max_width": null,
            "min_height": null,
            "min_width": null,
            "object_fit": null,
            "object_position": null,
            "order": null,
            "overflow": null,
            "overflow_x": null,
            "overflow_y": null,
            "padding": null,
            "right": null,
            "top": null,
            "visibility": null,
            "width": null
          }
        },
        "323a077888c84bdfbac393d1ebef9d6c": {
          "model_module": "@jupyter-widgets/controls",
          "model_module_version": "1.5.0",
          "model_name": "HTMLModel",
          "state": {
            "_dom_classes": [],
            "_model_module": "@jupyter-widgets/controls",
            "_model_module_version": "1.5.0",
            "_model_name": "HTMLModel",
            "_view_count": null,
            "_view_module": "@jupyter-widgets/controls",
            "_view_module_version": "1.5.0",
            "_view_name": "HTMLView",
            "description": "",
            "description_tooltip": null,
            "layout": "IPY_MODEL_99751d16888640078ae4820cacab5760",
            "placeholder": "​",
            "style": "IPY_MODEL_a8f5f4beaa8f4a3b94002c5ed122c2a7",
            "value": ""
          }
        },
        "41e287b8dc674f839b6485c9606207d5": {
          "model_module": "@jupyter-widgets/controls",
          "model_module_version": "1.5.0",
          "model_name": "ProgressStyleModel",
          "state": {
            "_model_module": "@jupyter-widgets/controls",
            "_model_module_version": "1.5.0",
            "_model_name": "ProgressStyleModel",
            "_view_count": null,
            "_view_module": "@jupyter-widgets/base",
            "_view_module_version": "1.2.0",
            "_view_name": "StyleView",
            "bar_color": null,
            "description_width": ""
          }
        },
        "501c5e204387460e8e9a585c9b2ca834": {
          "model_module": "@jupyter-widgets/controls",
          "model_module_version": "1.5.0",
          "model_name": "HBoxModel",
          "state": {
            "_dom_classes": [],
            "_model_module": "@jupyter-widgets/controls",
            "_model_module_version": "1.5.0",
            "_model_name": "HBoxModel",
            "_view_count": null,
            "_view_module": "@jupyter-widgets/controls",
            "_view_module_version": "1.5.0",
            "_view_name": "HBoxView",
            "box_style": "",
            "children": [
              "IPY_MODEL_323a077888c84bdfbac393d1ebef9d6c",
              "IPY_MODEL_710fe93f3241401bafa10a1e0a1bda02",
              "IPY_MODEL_c65a6921701742da9b67c591b19b6336"
            ],
            "layout": "IPY_MODEL_17d4193e78a14050a11c5f8306b3ba0b"
          }
        },
        "54e7ccad2e774261a3313316a1397f66": {
          "model_module": "@jupyter-widgets/base",
          "model_module_version": "1.2.0",
          "model_name": "LayoutModel",
          "state": {
            "_model_module": "@jupyter-widgets/base",
            "_model_module_version": "1.2.0",
            "_model_name": "LayoutModel",
            "_view_count": null,
            "_view_module": "@jupyter-widgets/base",
            "_view_module_version": "1.2.0",
            "_view_name": "LayoutView",
            "align_content": null,
            "align_items": null,
            "align_self": null,
            "border": null,
            "bottom": null,
            "display": null,
            "flex": null,
            "flex_flow": null,
            "grid_area": null,
            "grid_auto_columns": null,
            "grid_auto_flow": null,
            "grid_auto_rows": null,
            "grid_column": null,
            "grid_gap": null,
            "grid_row": null,
            "grid_template_areas": null,
            "grid_template_columns": null,
            "grid_template_rows": null,
            "height": null,
            "justify_content": null,
            "justify_items": null,
            "left": null,
            "margin": null,
            "max_height": null,
            "max_width": null,
            "min_height": null,
            "min_width": null,
            "object_fit": null,
            "object_position": null,
            "order": null,
            "overflow": null,
            "overflow_x": null,
            "overflow_y": null,
            "padding": null,
            "right": null,
            "top": null,
            "visibility": null,
            "width": "20px"
          }
        },
        "710fe93f3241401bafa10a1e0a1bda02": {
          "model_module": "@jupyter-widgets/controls",
          "model_module_version": "1.5.0",
          "model_name": "FloatProgressModel",
          "state": {
            "_dom_classes": [],
            "_model_module": "@jupyter-widgets/controls",
            "_model_module_version": "1.5.0",
            "_model_name": "FloatProgressModel",
            "_view_count": null,
            "_view_module": "@jupyter-widgets/controls",
            "_view_module_version": "1.5.0",
            "_view_name": "ProgressView",
            "bar_style": "success",
            "description": "",
            "description_tooltip": null,
            "layout": "IPY_MODEL_54e7ccad2e774261a3313316a1397f66",
            "max": 1,
            "min": 0,
            "orientation": "horizontal",
            "style": "IPY_MODEL_41e287b8dc674f839b6485c9606207d5",
            "value": 1
          }
        },
        "99751d16888640078ae4820cacab5760": {
          "model_module": "@jupyter-widgets/base",
          "model_module_version": "1.2.0",
          "model_name": "LayoutModel",
          "state": {
            "_model_module": "@jupyter-widgets/base",
            "_model_module_version": "1.2.0",
            "_model_name": "LayoutModel",
            "_view_count": null,
            "_view_module": "@jupyter-widgets/base",
            "_view_module_version": "1.2.0",
            "_view_name": "LayoutView",
            "align_content": null,
            "align_items": null,
            "align_self": null,
            "border": null,
            "bottom": null,
            "display": null,
            "flex": null,
            "flex_flow": null,
            "grid_area": null,
            "grid_auto_columns": null,
            "grid_auto_flow": null,
            "grid_auto_rows": null,
            "grid_column": null,
            "grid_gap": null,
            "grid_row": null,
            "grid_template_areas": null,
            "grid_template_columns": null,
            "grid_template_rows": null,
            "height": null,
            "justify_content": null,
            "justify_items": null,
            "left": null,
            "margin": null,
            "max_height": null,
            "max_width": null,
            "min_height": null,
            "min_width": null,
            "object_fit": null,
            "object_position": null,
            "order": null,
            "overflow": null,
            "overflow_x": null,
            "overflow_y": null,
            "padding": null,
            "right": null,
            "top": null,
            "visibility": null,
            "width": null
          }
        },
        "a8f5f4beaa8f4a3b94002c5ed122c2a7": {
          "model_module": "@jupyter-widgets/controls",
          "model_module_version": "1.5.0",
          "model_name": "DescriptionStyleModel",
          "state": {
            "_model_module": "@jupyter-widgets/controls",
            "_model_module_version": "1.5.0",
            "_model_name": "DescriptionStyleModel",
            "_view_count": null,
            "_view_module": "@jupyter-widgets/base",
            "_view_module_version": "1.2.0",
            "_view_name": "StyleView",
            "description_width": ""
          }
        },
        "af61b863014d4a8c960570de31a02b3f": {
          "model_module": "@jupyter-widgets/controls",
          "model_module_version": "1.5.0",
          "model_name": "DescriptionStyleModel",
          "state": {
            "_model_module": "@jupyter-widgets/controls",
            "_model_module_version": "1.5.0",
            "_model_name": "DescriptionStyleModel",
            "_view_count": null,
            "_view_module": "@jupyter-widgets/base",
            "_view_module_version": "1.2.0",
            "_view_name": "StyleView",
            "description_width": ""
          }
        },
        "c65a6921701742da9b67c591b19b6336": {
          "model_module": "@jupyter-widgets/controls",
          "model_module_version": "1.5.0",
          "model_name": "HTMLModel",
          "state": {
            "_dom_classes": [],
            "_model_module": "@jupyter-widgets/controls",
            "_model_module_version": "1.5.0",
            "_model_name": "HTMLModel",
            "_view_count": null,
            "_view_module": "@jupyter-widgets/controls",
            "_view_module_version": "1.5.0",
            "_view_name": "HTMLView",
            "description": "",
            "description_tooltip": null,
            "layout": "IPY_MODEL_f7457f38948d472da4027ba1566b47e4",
            "placeholder": "​",
            "style": "IPY_MODEL_af61b863014d4a8c960570de31a02b3f",
            "value": " 23/? [02:10&lt;00:00,  5.36s/it]"
          }
        },
        "f7457f38948d472da4027ba1566b47e4": {
          "model_module": "@jupyter-widgets/base",
          "model_module_version": "1.2.0",
          "model_name": "LayoutModel",
          "state": {
            "_model_module": "@jupyter-widgets/base",
            "_model_module_version": "1.2.0",
            "_model_name": "LayoutModel",
            "_view_count": null,
            "_view_module": "@jupyter-widgets/base",
            "_view_module_version": "1.2.0",
            "_view_name": "LayoutView",
            "align_content": null,
            "align_items": null,
            "align_self": null,
            "border": null,
            "bottom": null,
            "display": null,
            "flex": null,
            "flex_flow": null,
            "grid_area": null,
            "grid_auto_columns": null,
            "grid_auto_flow": null,
            "grid_auto_rows": null,
            "grid_column": null,
            "grid_gap": null,
            "grid_row": null,
            "grid_template_areas": null,
            "grid_template_columns": null,
            "grid_template_rows": null,
            "height": null,
            "justify_content": null,
            "justify_items": null,
            "left": null,
            "margin": null,
            "max_height": null,
            "max_width": null,
            "min_height": null,
            "min_width": null,
            "object_fit": null,
            "object_position": null,
            "order": null,
            "overflow": null,
            "overflow_x": null,
            "overflow_y": null,
            "padding": null,
            "right": null,
            "top": null,
            "visibility": null,
            "width": null
          }
        }
      }
    }
  },
  "nbformat": 4,
  "nbformat_minor": 0
}
